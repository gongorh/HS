{
  "nbformat": 4,
  "nbformat_minor": 0,
  "metadata": {
    "colab": {
      "name": "week3_task1_first_cnn_cifar10_clean.ipynb",
      "version": "0.3.2",
      "provenance": []
    },
    "kernelspec": {
      "display_name": "Python 3",
      "language": "python",
      "name": "python3"
    },
    "accelerator": "GPU"
  },
  "cells": [
    {
      "metadata": {
        "id": "qAaUJmuf5E9s",
        "colab_type": "text"
      },
      "cell_type": "markdown",
      "source": [
        "# Your first CNN on CIFAR-10\n",
        "\n",
        "In this task you will: \n",
        "* define your first CNN architecture for CIFAR-10 dataset\n",
        "* train it from scratch\n",
        "* visualize learnt filters\n",
        "\n",
        "CIFAR-10 dataset contains 32x32 color images from 10 classes: __airplane, automobile, bird, cat, deer, dog, frog, horse, ship, truck__:\n",
        "<img src=\"https://github.com/hse-aml/intro-to-dl/blob/master/week3/images/cifar10.jpg?raw=1\" style=\"width:80%\">"
      ]
    },
    {
      "metadata": {
        "id": "VnzEJ8H45E9w",
        "colab_type": "text"
      },
      "cell_type": "markdown",
      "source": [
        "# Import stuff"
      ]
    },
    {
      "metadata": {
        "id": "KtR34yjh5Goi",
        "colab_type": "code",
        "colab": {
          "base_uri": "https://localhost:8080/",
          "height": 221
        },
        "outputId": "9e724de4-3f11-4e1c-ffbb-1f8648362129"
      },
      "cell_type": "code",
      "source": [
        "! wget https://raw.githubusercontent.com/hse-aml/intro-to-dl/master/setup_google_colab.py -O setup_google_colab.py\n",
        "import setup_google_colab\n",
        "setup_google_colab.setup_week3()  # change to the week you're working on\n",
        "# note on week 2: select setup_week2_v2() if you've started the course after August 13, 2018,\n",
        "# otherwise call setup_week2()."
      ],
      "execution_count": 28,
      "outputs": [
        {
          "output_type": "stream",
          "text": [
            "\n",
            "Redirecting output to ‘wget-log.1’.\n",
            "**************************************************\n",
            "102flowers.tgz\n",
            "**************************************************\n",
            "imagelabels.mat\n",
            "**************************************************\n",
            "inception_v3_weights_tf_dim_ordering_tf_kernels_notop.h5\n",
            "**************************************************\n",
            "cifar-10-batches-py.tar.gz\n",
            "**************************************************\n",
            "mnist.npz\n"
          ],
          "name": "stdout"
        }
      ]
    },
    {
      "metadata": {
        "id": "wOfIpf_k5E9x",
        "colab_type": "code",
        "colab": {}
      },
      "cell_type": "code",
      "source": [
        "import sys\n",
        "sys.path.append(\"..\")\n",
        "import grading\n",
        "import download_utils"
      ],
      "execution_count": 0,
      "outputs": []
    },
    {
      "metadata": {
        "id": "MUtA-x6o5E91",
        "colab_type": "code",
        "colab": {}
      },
      "cell_type": "code",
      "source": [
        "# !!! remember to clear session/graph if you rebuild your graph to avoid out-of-memory errors !!!"
      ],
      "execution_count": 0,
      "outputs": []
    },
    {
      "metadata": {
        "id": "TGpfpMBz5E93",
        "colab_type": "code",
        "colab": {}
      },
      "cell_type": "code",
      "source": [
        "download_utils.link_all_keras_resources()"
      ],
      "execution_count": 0,
      "outputs": []
    },
    {
      "metadata": {
        "id": "7_46ImPB5E97",
        "colab_type": "code",
        "colab": {
          "base_uri": "https://localhost:8080/",
          "height": 51
        },
        "outputId": "5d7362f0-6320-4071-a732-0d71c343290d"
      },
      "cell_type": "code",
      "source": [
        "import tensorflow as tf\n",
        "import keras\n",
        "from keras import backend as K\n",
        "import numpy as np\n",
        "%matplotlib inline\n",
        "import matplotlib.pyplot as plt\n",
        "print(tf.__version__)\n",
        "print(keras.__version__)\n",
        "import grading_utils\n",
        "import keras_utils\n",
        "from keras_utils import reset_tf_session"
      ],
      "execution_count": 31,
      "outputs": [
        {
          "output_type": "stream",
          "text": [
            "1.10.1\n",
            "2.0.6\n"
          ],
          "name": "stdout"
        }
      ]
    },
    {
      "metadata": {
        "id": "lr1VGYa95E9-",
        "colab_type": "text"
      },
      "cell_type": "markdown",
      "source": [
        "# Fill in your Coursera token and email\n",
        "To successfully submit your answers to our grader, please fill in your Coursera submission token and email"
      ]
    },
    {
      "metadata": {
        "id": "T3o90hnE5E-A",
        "colab_type": "code",
        "colab": {}
      },
      "cell_type": "code",
      "source": [
        "grader = grading.Grader(assignment_key=\"s1B1I5DuEeeyLAqI7dCYkg\", \n",
        "                        all_parts=[\"7W4tu\", \"nQOsg\", \"96eco\"])"
      ],
      "execution_count": 0,
      "outputs": []
    },
    {
      "metadata": {
        "id": "qsmCcQW05E-G",
        "colab_type": "code",
        "colab": {}
      },
      "cell_type": "code",
      "source": [
        "# token expires every 30 min\n",
        "COURSERA_TOKEN = 'WudFrBd4HdC7jIHy'\n",
        "COURSERA_EMAIL = 'homero.gongora@generalstar.com'"
      ],
      "execution_count": 0,
      "outputs": []
    },
    {
      "metadata": {
        "id": "_QebfQls5E-I",
        "colab_type": "text"
      },
      "cell_type": "markdown",
      "source": [
        "# Load dataset"
      ]
    },
    {
      "metadata": {
        "id": "iOVDNJo65E-J",
        "colab_type": "code",
        "colab": {}
      },
      "cell_type": "code",
      "source": [
        "from keras.datasets import cifar10\n",
        "(x_train, y_train), (x_test, y_test) = cifar10.load_data()"
      ],
      "execution_count": 0,
      "outputs": []
    },
    {
      "metadata": {
        "id": "DT9-8Z1Q5E-O",
        "colab_type": "code",
        "colab": {
          "base_uri": "https://localhost:8080/",
          "height": 51
        },
        "outputId": "ec96a9d4-bfe9-404c-c565-7363249647e7"
      },
      "cell_type": "code",
      "source": [
        "print(\"Train samples:\", x_train.shape, y_train.shape)\n",
        "print(\"Test samples:\", x_test.shape, y_test.shape)"
      ],
      "execution_count": 35,
      "outputs": [
        {
          "output_type": "stream",
          "text": [
            "Train samples: (50000, 32, 32, 3) (50000, 1)\n",
            "Test samples: (10000, 32, 32, 3) (10000, 1)\n"
          ],
          "name": "stdout"
        }
      ]
    },
    {
      "metadata": {
        "id": "yIeApXge5E-R",
        "colab_type": "code",
        "colab": {}
      },
      "cell_type": "code",
      "source": [
        "NUM_CLASSES = 10\n",
        "cifar10_classes = [\"airplane\", \"automobile\", \"bird\", \"cat\", \"deer\", \n",
        "                   \"dog\", \"frog\", \"horse\", \"ship\", \"truck\"]"
      ],
      "execution_count": 0,
      "outputs": []
    },
    {
      "metadata": {
        "id": "nDNV9aac5E-U",
        "colab_type": "code",
        "colab": {
          "base_uri": "https://localhost:8080/",
          "height": 271
        },
        "outputId": "f1e71c14-9d21-4892-dca6-dce08ab58d13"
      },
      "cell_type": "code",
      "source": [
        "# show random images from train\n",
        "cols = 8\n",
        "rows = 2\n",
        "fig = plt.figure(figsize=(2 * cols - 1, 2.5 * rows - 1))\n",
        "for i in range(cols):\n",
        "    for j in range(rows):\n",
        "        random_index = np.random.randint(0, len(y_train))\n",
        "        ax = fig.add_subplot(rows, cols, i * rows + j + 1)\n",
        "        ax.grid('off')\n",
        "        ax.axis('off')\n",
        "        ax.imshow(x_train[random_index, :])\n",
        "        ax.set_title(cifar10_classes[y_train[random_index, 0]])\n",
        "plt.show()"
      ],
      "execution_count": 37,
      "outputs": [
        {
          "output_type": "display_data",
          "data": {
            "image/png": "[encoded data removed]",
            "text/plain": [
              "<matplotlib.figure.Figure at 0x7fdce9865160>"
            ]
          },
          "metadata": {
            "tags": []
          }
        }
      ]
    },
    {
      "metadata": {
        "id": "3Cy1jiXf5E-Y",
        "colab_type": "text"
      },
      "cell_type": "markdown",
      "source": [
        "# Prepare data"
      ]
    },
    {
      "metadata": {
        "id": "iNlcm-k75E-Y",
        "colab_type": "text"
      },
      "cell_type": "markdown",
      "source": [
        "We need to normalize inputs like this: $$x_{norm} = \\frac{x}{255} - 0.5$$\n",
        "\n",
        "We need to convert class labels to one-hot encoded vectors. Use __keras.utils.to_categorical__."
      ]
    },
    {
      "metadata": {
        "id": "xDABgbvQ5E-Z",
        "colab_type": "code",
        "colab": {}
      },
      "cell_type": "code",
      "source": [
        "# normalize inputs\n",
        " ### YOUR CODE HERE\n",
        "x_train2 = x_train/255 - 0.5\n",
        " ### YOUR CODE HERE\n",
        "x_test2 = x_test/255 - 0.5\n",
        "\n",
        "# convert class labels to one-hot encoded, should have shape (?, NUM_CLASSES)\n",
        "### YOUR CODE HERE\n",
        "y_train2 = keras.utils.to_categorical(y_train,num_classes = NUM_CLASSES)\n",
        "### YOUR CODE HERE\n",
        "y_test2 = keras.utils.to_categorical(y_test,num_classes = NUM_CLASSES)"
      ],
      "execution_count": 0,
      "outputs": []
    },
    {
      "metadata": {
        "id": "oV0ErPqK5E-b",
        "colab_type": "text"
      },
      "cell_type": "markdown",
      "source": [
        "# Define CNN architecture"
      ]
    },
    {
      "metadata": {
        "id": "cMKLbEOd5E-d",
        "colab_type": "code",
        "colab": {}
      },
      "cell_type": "code",
      "source": [
        "# import necessary building blocks\n",
        "from keras.models import Sequential\n",
        "from keras.layers import Conv2D, MaxPooling2D, Flatten, Dense, Activation, Dropout\n",
        "from keras.layers.advanced_activations import LeakyReLU"
      ],
      "execution_count": 0,
      "outputs": []
    },
    {
      "metadata": {
        "id": "5DtZSGDb5E-j",
        "colab_type": "text"
      },
      "cell_type": "markdown",
      "source": [
        "Convolutional networks are built from several types of layers:\n",
        "- [Conv2D](https://keras.io/layers/convolutional/#conv2d) - performs convolution:\n",
        "    - **filters**: number of output channels; \n",
        "    - **kernel_size**: an integer or tuple/list of 2 integers, specifying the width and height of the 2D convolution window;\n",
        "    - **padding**: padding=\"same\" adds zero padding to the input, so that the output has the same width and height, padding='valid' performs convolution only in locations where kernel and the input fully overlap;\n",
        "    - **activation**: \"relu\", \"tanh\", etc.\n",
        "    - **input_shape**: shape of input.\n",
        "- [MaxPooling2D](https://keras.io/layers/pooling/#maxpooling2d) - performs 2D max pooling.\n",
        "- [Flatten](https://keras.io/layers/core/#flatten) - flattens the input, does not affect the batch size.\n",
        "- [Dense](https://keras.io/layers/core/#dense) - fully-connected layer.\n",
        "- [Activation](https://keras.io/layers/core/#activation) - applies an activation function.\n",
        "- [LeakyReLU](https://keras.io/layers/advanced-activations/#leakyrelu) - applies leaky relu activation.\n",
        "- [Dropout](https://keras.io/layers/core/#dropout) - applies dropout."
      ]
    },
    {
      "metadata": {
        "id": "2uM3lyPf5E-j",
        "colab_type": "text"
      },
      "cell_type": "markdown",
      "source": [
        "You need to define a model which takes __(None, 32, 32, 3)__ input and predicts __(None, 10)__ output with probabilities for all classes. __None__ in shapes stands for batch dimension.\n",
        "\n",
        "Simple feed-forward networks in Keras can be defined in the following way:\n",
        "\n",
        "```python\n",
        "model = Sequential()  # start feed-forward model definition\n",
        "model.add(Conv2D(..., input_shape=(32, 32, 3)))  # first layer needs to define \"input_shape\"\n",
        "\n",
        "...  # here comes a bunch of convolutional, pooling and dropout layers\n",
        "\n",
        "model.add(Dense(NUM_CLASSES))  # the last layer with neuron for each class\n",
        "model.add(Activation(\"softmax\"))  # output probabilities\n",
        "```\n",
        "\n",
        "Stack __4__ convolutional layers with kernel size __(3, 3)__ with growing number of filters __(16, 32, 32, 64)__, use \"same\" padding.\n",
        "\n",
        "Add __2x2__ pooling layer after every 2 convolutional layers (conv-conv-pool scheme).\n",
        "\n",
        "Use __LeakyReLU__ activation with recommended parameter __0.1__ for all layers that need it (after convolutional and dense layers):\n",
        "```python\n",
        "model.add(LeakyReLU(0.1))\n",
        "```\n",
        "\n",
        "Add a dense layer with __256__ neurons and a second dense layer with __10__ neurons for classes. Remember to use __Flatten__ layer before first dense layer to reshape input volume into a flat vector!\n",
        "\n",
        "Add __Dropout__ after every pooling layer (__0.25__) and between dense layers (__0.5__)."
      ]
    },
    {
      "metadata": {
        "id": "n1gMI8-g5E-k",
        "colab_type": "code",
        "colab": {}
      },
      "cell_type": "code",
      "source": [
        "def make_model():\n",
        "    \"\"\"\n",
        "    Define your model architecture here.\n",
        "    Returns `Sequential` model.\n",
        "    \"\"\"\n",
        "    model = Sequential()\n",
        "\n",
        "    ### YOUR CODE HERE\n",
        "    model = Sequential()\n",
        "    model.add(Conv2D(input_shape = (32,32,3),filters = 16,padding = 'same',kernel_size = (3,3)))\n",
        "    model.add(LeakyReLU(0.1))\n",
        "    model.add(Conv2D(filters = 32,padding = 'same',kernel_size = (3,3)))          \n",
        "    model.add(LeakyReLU(0.1))\n",
        "    model.add(MaxPooling2D(pool_size=(2, 2),padding = 'same'))\n",
        "    model.add(Dropout(0.25))\n",
        "    \n",
        "    model.add(Conv2D(filters = 32,padding = 'same',kernel_size = (3,3)))\n",
        "    model.add(LeakyReLU(0.1))\n",
        "    model.add(Conv2D(filters = 64,padding = 'same',kernel_size = (3,3)))          \n",
        "    model.add(LeakyReLU(0.1))\n",
        "    model.add(MaxPooling2D(pool_size=(2, 2),padding = 'same'))\n",
        "    model.add(Dropout(0.25))\n",
        "    \n",
        "    model.add(Flatten())\n",
        "    model.add(Dense(256)) \n",
        "    model.add(Dropout(0.5))\n",
        "    model.add(LeakyReLU(0.1))  \n",
        "    model.add(Dense(NUM_CLASSES))\n",
        "    model.add(Activation(\"softmax\")) \n",
        "    \n",
        "    return model"
      ],
      "execution_count": 0,
      "outputs": []
    },
    {
      "metadata": {
        "id": "DMeaRG-I5E-m",
        "colab_type": "code",
        "colab": {
          "base_uri": "https://localhost:8080/",
          "height": 748
        },
        "outputId": "5ad27a21-d621-4146-ea06-426fe3db9730"
      },
      "cell_type": "code",
      "source": [
        "# describe model\n",
        "s = reset_tf_session()  # clear default graph\n",
        "model = make_model()\n",
        "model.summary()"
      ],
      "execution_count": 59,
      "outputs": [
        {
          "output_type": "stream",
          "text": [
            "_________________________________________________________________\n",
            "Layer (type)                 Output Shape              Param #   \n",
            "=================================================================\n",
            "conv2d_1 (Conv2D)            (None, 32, 32, 16)        448       \n",
            "_________________________________________________________________\n",
            "leaky_re_lu_1 (LeakyReLU)    (None, 32, 32, 16)        0         \n",
            "_________________________________________________________________\n",
            "conv2d_2 (Conv2D)            (None, 32, 32, 32)        4640      \n",
            "_________________________________________________________________\n",
            "leaky_re_lu_2 (LeakyReLU)    (None, 32, 32, 32)        0         \n",
            "_________________________________________________________________\n",
            "max_pooling2d_1 (MaxPooling2 (None, 16, 16, 32)        0         \n",
            "_________________________________________________________________\n",
            "dropout_1 (Dropout)          (None, 16, 16, 32)        0         \n",
            "_________________________________________________________________\n",
            "conv2d_3 (Conv2D)            (None, 16, 16, 32)        9248      \n",
            "_________________________________________________________________\n",
            "leaky_re_lu_3 (LeakyReLU)    (None, 16, 16, 32)        0         \n",
            "_________________________________________________________________\n",
            "conv2d_4 (Conv2D)            (None, 16, 16, 64)        18496     \n",
            "_________________________________________________________________\n",
            "leaky_re_lu_4 (LeakyReLU)    (None, 16, 16, 64)        0         \n",
            "_________________________________________________________________\n",
            "max_pooling2d_2 (MaxPooling2 (None, 8, 8, 64)          0         \n",
            "_________________________________________________________________\n",
            "dropout_2 (Dropout)          (None, 8, 8, 64)          0         \n",
            "_________________________________________________________________\n",
            "flatten_1 (Flatten)          (None, 4096)              0         \n",
            "_________________________________________________________________\n",
            "dense_1 (Dense)              (None, 256)               1048832   \n",
            "_________________________________________________________________\n",
            "dropout_3 (Dropout)          (None, 256)               0         \n",
            "_________________________________________________________________\n",
            "leaky_re_lu_5 (LeakyReLU)    (None, 256)               0         \n",
            "_________________________________________________________________\n",
            "dense_2 (Dense)              (None, 10)                2570      \n",
            "_________________________________________________________________\n",
            "activation_1 (Activation)    (None, 10)                0         \n",
            "=================================================================\n",
            "Total params: 1,084,234\n",
            "Trainable params: 1,084,234\n",
            "Non-trainable params: 0\n",
            "_________________________________________________________________\n"
          ],
          "name": "stdout"
        }
      ]
    },
    {
      "metadata": {
        "id": "_ChHPA2I5E-o",
        "colab_type": "code",
        "colab": {}
      },
      "cell_type": "code",
      "source": [
        "## GRADED PART, DO NOT CHANGE!\n",
        "# Number of model parameters\n",
        "grader.set_answer(\"7W4tu\", grading_utils.model_total_params(model))"
      ],
      "execution_count": 0,
      "outputs": []
    },
    {
      "metadata": {
        "id": "_Ooe1h__5E-q",
        "colab_type": "code",
        "colab": {
          "base_uri": "https://localhost:8080/",
          "height": 34
        },
        "outputId": "919aee16-6a05-4cbf-fbb1-d64d294831ee"
      },
      "cell_type": "code",
      "source": [
        "# you can make submission with answers so far to check yourself at this stage\n",
        "grader.submit(COURSERA_EMAIL, COURSERA_TOKEN)"
      ],
      "execution_count": 61,
      "outputs": [
        {
          "output_type": "stream",
          "text": [
            "Submitted to Coursera platform. See results on assignment page!\n"
          ],
          "name": "stdout"
        }
      ]
    },
    {
      "metadata": {
        "id": "FXp_iXgz5E-x",
        "colab_type": "text"
      },
      "cell_type": "markdown",
      "source": [
        "# Train model"
      ]
    },
    {
      "metadata": {
        "id": "I3tY4s965E-y",
        "colab_type": "text"
      },
      "cell_type": "markdown",
      "source": [
        "Training of your model can take approx. 4-8 minutes per epoch.\n",
        "\n",
        "During training you should observe the decrease in reported loss on training and validation.\n",
        "\n",
        "If the loss on training is not decreasing with epochs you should revise your model definition and learning rate."
      ]
    },
    {
      "metadata": {
        "id": "1lt-NOv15E-z",
        "colab_type": "code",
        "colab": {}
      },
      "cell_type": "code",
      "source": [
        "INIT_LR = 5e-3  # initial learning rate\n",
        "BATCH_SIZE = 32\n",
        "EPOCHS = 50\n",
        "\n",
        "s = reset_tf_session()  # clear default graph\n",
        "# don't call K.set_learning_phase() !!! (otherwise will enable dropout in train/test simultaneously)\n",
        "model = make_model()  # define our model\n",
        "\n",
        "# prepare model for fitting (loss, optimizer, etc)\n",
        "model.compile(\n",
        "    loss='categorical_crossentropy',  # we train 10-way classification\n",
        "    optimizer=keras.optimizers.adamax(lr=INIT_LR),  # for SGD\n",
        "    metrics=['accuracy']  # report accuracy during training\n",
        ")\n",
        "\n",
        "# scheduler of learning rate (decay with epochs)\n",
        "def lr_scheduler(epoch):\n",
        "    return INIT_LR * 0.9 ** epoch\n",
        "\n",
        "# callback for printing of actual learning rate used by optimizer\n",
        "class LrHistory(keras.callbacks.Callback):\n",
        "    def on_epoch_begin(self, epoch, logs={}):\n",
        "        print(\"Learning rate:\", K.get_value(model.optimizer.lr))"
      ],
      "execution_count": 0,
      "outputs": []
    },
    {
      "metadata": {
        "id": "ag02KaWU5E-3",
        "colab_type": "text"
      },
      "cell_type": "markdown",
      "source": [
        "Training takes approximately **1.5 hours**. You're aiming for ~0.80 validation accuracy."
      ]
    },
    {
      "metadata": {
        "id": "XuznS0Eq5E-3",
        "colab_type": "code",
        "colab": {}
      },
      "cell_type": "code",
      "source": [
        "# we will save model checkpoints to continue training in case of kernel death\n",
        "model_filename = 'cifar.{0:03d}.hdf5'\n",
        "last_finished_epoch = None\n",
        "\n",
        "#### uncomment below to continue training from model checkpoint\n",
        "#### fill `last_finished_epoch` with your latest finished epoch\n",
        "# from keras.models import load_model\n",
        "# s = reset_tf_session()\n",
        "# last_finished_epoch = 7\n",
        "# model = load_model(model_filename.format(last_finished_epoch))"
      ],
      "execution_count": 0,
      "outputs": []
    },
    {
      "metadata": {
        "id": "GYrRyymL5E-5",
        "colab_type": "code",
        "colab": {
          "base_uri": "https://localhost:8080/",
          "height": 5134
        },
        "outputId": "c1f24b4c-672c-41f1-f85e-6f3d62ef8298"
      },
      "cell_type": "code",
      "source": [
        "# fit model\n",
        "model.fit(\n",
        "    x_train2, y_train2,  # prepared data\n",
        "    batch_size=BATCH_SIZE,\n",
        "    epochs=EPOCHS,\n",
        "    callbacks=[keras.callbacks.LearningRateScheduler(lr_scheduler), \n",
        "               LrHistory(), \n",
        "               keras_utils.TqdmProgressCallback(),\n",
        "               keras_utils.ModelSaveCallback(model_filename)],\n",
        "    validation_data=(x_test2, y_test2),\n",
        "    shuffle=True,\n",
        "    verbose=0,\n",
        "    initial_epoch=last_finished_epoch or 0\n",
        ")"
      ],
      "execution_count": 45,
      "outputs": [
        {
          "output_type": "stream",
          "text": [
            "Learning rate: 0.005\n",
            "\n",
            "Epoch 1/50\n",
            "**************************************************\n",
            "loss: 1.3327; acc: 0.5250; val_loss: 0.9749; val_acc: 0.6615\n",
            "Model saved in cifar.000.hdf5\n",
            "Learning rate: 0.0045\n",
            "\n",
            "Epoch 2/50\n",
            "**************************************************\n",
            "loss: 0.9288; acc: 0.6727; val_loss: 0.8606; val_acc: 0.7042\n",
            "Model saved in cifar.001.hdf5\n",
            "Learning rate: 0.00405\n",
            "\n",
            "Epoch 3/50\n",
            "**************************************************\n",
            "loss: 0.7968; acc: 0.7209; val_loss: 0.7114; val_acc: 0.7512\n",
            "Model saved in cifar.002.hdf5\n",
            "Learning rate: 0.003645\n",
            "\n",
            "Epoch 4/50\n",
            "**************************************************\n",
            "loss: 0.7143; acc: 0.7514; val_loss: 0.7302; val_acc: 0.7523\n",
            "Model saved in cifar.003.hdf5\n",
            "Learning rate: 0.0032805\n",
            "\n",
            "Epoch 5/50\n",
            "**************************************************\n",
            "loss: 0.6497; acc: 0.7715; val_loss: 0.6468; val_acc: 0.7701\n",
            "Model saved in cifar.004.hdf5\n",
            "Learning rate: 0.00295245\n",
            "\n",
            "Epoch 6/50\n",
            "**************************************************\n",
            "loss: 0.6016; acc: 0.7896; val_loss: 0.6723; val_acc: 0.7730\n",
            "Model saved in cifar.005.hdf5\n",
            "Learning rate: 0.002657205\n",
            "\n",
            "Epoch 7/50\n",
            "**************************************************\n",
            "loss: 0.5588; acc: 0.8043; val_loss: 0.6263; val_acc: 0.7850\n",
            "Model saved in cifar.006.hdf5\n",
            "Learning rate: 0.0023914846\n",
            "\n",
            "Epoch 8/50\n",
            "**************************************************\n",
            "loss: 0.5252; acc: 0.8154; val_loss: 0.6078; val_acc: 0.7931\n",
            "Model saved in cifar.007.hdf5\n",
            "Learning rate: 0.002152336\n",
            "\n",
            "Epoch 9/50\n",
            "**************************************************\n",
            "loss: 0.4940; acc: 0.8253; val_loss: 0.5997; val_acc: 0.7937\n",
            "Model saved in cifar.008.hdf5\n",
            "Learning rate: 0.0019371024\n",
            "\n",
            "Epoch 10/50\n",
            "**************************************************\n",
            "loss: 0.4716; acc: 0.8327; val_loss: 0.6081; val_acc: 0.7993\n",
            "Model saved in cifar.009.hdf5\n",
            "Learning rate: 0.0017433922\n",
            "\n",
            "Epoch 11/50\n",
            "**************************************************\n",
            "loss: 0.4521; acc: 0.8418; val_loss: 0.5980; val_acc: 0.8021\n",
            "Model saved in cifar.010.hdf5\n",
            "Learning rate: 0.0015690529\n",
            "\n",
            "Epoch 12/50\n",
            "**************************************************\n",
            "loss: 0.4262; acc: 0.8487; val_loss: 0.5864; val_acc: 0.8029\n",
            "Model saved in cifar.011.hdf5\n",
            "Learning rate: 0.0014121477\n",
            "\n",
            "Epoch 13/50\n",
            "**************************************************\n",
            "loss: 0.4131; acc: 0.8523; val_loss: 0.6133; val_acc: 0.8016\n",
            "Model saved in cifar.012.hdf5\n",
            "Learning rate: 0.001270933\n",
            "\n",
            "Epoch 14/50\n",
            "**************************************************\n",
            "loss: 0.3911; acc: 0.8611; val_loss: 0.6059; val_acc: 0.8087\n",
            "Model saved in cifar.013.hdf5\n",
            "Learning rate: 0.0011438397\n",
            "\n",
            "Epoch 15/50\n",
            "**************************************************\n",
            "loss: 0.3847; acc: 0.8630; val_loss: 0.5913; val_acc: 0.8085\n",
            "Model saved in cifar.014.hdf5\n",
            "Learning rate: 0.0010294557\n",
            "\n",
            "Epoch 16/50\n",
            "**************************************************\n",
            "loss: 0.3726; acc: 0.8663; val_loss: 0.5913; val_acc: 0.8077\n",
            "Model saved in cifar.015.hdf5\n",
            "Learning rate: 0.0009265101\n",
            "\n",
            "Epoch 17/50\n",
            "**************************************************\n",
            "loss: 0.3582; acc: 0.8706; val_loss: 0.6252; val_acc: 0.8089\n",
            "Model saved in cifar.016.hdf5\n",
            "Learning rate: 0.0008338591\n",
            "\n",
            "Epoch 18/50\n",
            "**************************************************\n",
            "loss: 0.3492; acc: 0.8752; val_loss: 0.5925; val_acc: 0.8111\n",
            "Model saved in cifar.017.hdf5\n",
            "Learning rate: 0.0007504732\n",
            "\n",
            "Epoch 19/50\n",
            "**************************************************\n",
            "loss: 0.3388; acc: 0.8792; val_loss: 0.6103; val_acc: 0.8111\n",
            "Model saved in cifar.018.hdf5\n",
            "Learning rate: 0.00067542586\n",
            "\n",
            "Epoch 20/50\n",
            "**************************************************\n",
            "loss: 0.3340; acc: 0.8795; val_loss: 0.5897; val_acc: 0.8134\n",
            "Model saved in cifar.019.hdf5\n",
            "Learning rate: 0.00060788327\n",
            "\n",
            "Epoch 21/50\n",
            "**************************************************\n",
            "loss: 0.3260; acc: 0.8843; val_loss: 0.6263; val_acc: 0.8131\n",
            "Model saved in cifar.020.hdf5\n",
            "Learning rate: 0.00054709497\n",
            "\n",
            "Epoch 22/50\n",
            "**************************************************\n",
            "loss: 0.3195; acc: 0.8841; val_loss: 0.6116; val_acc: 0.8131\n",
            "Model saved in cifar.021.hdf5\n",
            "Learning rate: 0.0004923855\n",
            "\n",
            "Epoch 23/50\n",
            "**************************************************\n",
            "loss: 0.3147; acc: 0.8883; val_loss: 0.6171; val_acc: 0.8135\n",
            "Model saved in cifar.022.hdf5\n",
            "Learning rate: 0.0004431469\n",
            "\n",
            "Epoch 24/50\n",
            "**************************************************\n",
            "loss: 0.3116; acc: 0.8883; val_loss: 0.5990; val_acc: 0.8167\n",
            "Model saved in cifar.023.hdf5\n",
            "Learning rate: 0.00039883223\n",
            "\n",
            "Epoch 25/50\n",
            "**************************************************\n",
            "loss: 0.3071; acc: 0.8900; val_loss: 0.6130; val_acc: 0.8138\n",
            "Model saved in cifar.024.hdf5\n",
            "Learning rate: 0.000358949\n",
            "\n",
            "Epoch 26/50\n",
            "**************************************************\n",
            "loss: 0.3017; acc: 0.8922; val_loss: 0.5997; val_acc: 0.8176\n",
            "Model saved in cifar.025.hdf5\n",
            "Learning rate: 0.0003230541\n",
            "\n",
            "Epoch 27/50\n",
            "**************************************************\n",
            "loss: 0.2994; acc: 0.8924; val_loss: 0.6168; val_acc: 0.8152\n",
            "Model saved in cifar.026.hdf5\n",
            "Learning rate: 0.0002907487\n",
            "\n",
            "Epoch 28/50\n",
            "**************************************************\n",
            "loss: 0.2985; acc: 0.8928; val_loss: 0.6152; val_acc: 0.8172\n",
            "Model saved in cifar.027.hdf5\n",
            "Learning rate: 0.00026167382\n",
            "\n",
            "Epoch 29/50\n",
            "**************************************************\n",
            "loss: 0.2960; acc: 0.8942; val_loss: 0.5954; val_acc: 0.8189\n",
            "Model saved in cifar.028.hdf5\n",
            "Learning rate: 0.00023550644\n",
            "\n",
            "Epoch 30/50\n",
            "**************************************************\n",
            "loss: 0.2894; acc: 0.8975; val_loss: 0.6266; val_acc: 0.8183\n",
            "Model saved in cifar.029.hdf5\n",
            "Learning rate: 0.00021195579\n",
            "\n",
            "Epoch 31/50\n",
            "**************************************************\n",
            "loss: 0.2875; acc: 0.8979; val_loss: 0.6098; val_acc: 0.8181\n",
            "Model saved in cifar.030.hdf5\n",
            "Learning rate: 0.00019076021\n",
            "\n",
            "Epoch 32/50\n",
            "**************************************************\n",
            "loss: 0.2892; acc: 0.8965; val_loss: 0.6039; val_acc: 0.8173\n",
            "Model saved in cifar.031.hdf5\n",
            "Learning rate: 0.0001716842\n",
            "\n",
            "Epoch 33/50\n",
            "**************************************************\n",
            "loss: 0.2831; acc: 0.8980; val_loss: 0.6012; val_acc: 0.8177\n",
            "Model saved in cifar.032.hdf5\n",
            "Learning rate: 0.00015451577\n",
            "\n",
            "Epoch 34/50\n",
            "**************************************************\n",
            "loss: 0.2815; acc: 0.8990; val_loss: 0.6050; val_acc: 0.8190\n",
            "Model saved in cifar.033.hdf5\n",
            "Learning rate: 0.0001390642\n",
            "\n",
            "Epoch 35/50\n",
            "**************************************************\n",
            "loss: 0.2815; acc: 0.8985; val_loss: 0.6121; val_acc: 0.8184\n",
            "Model saved in cifar.034.hdf5\n",
            "Learning rate: 0.00012515778\n",
            "\n",
            "Epoch 36/50\n",
            "**************************************************\n",
            "loss: 0.2791; acc: 0.9010; val_loss: 0.6275; val_acc: 0.8183\n",
            "Model saved in cifar.035.hdf5\n",
            "Learning rate: 0.000112641996\n",
            "\n",
            "Epoch 37/50\n",
            "**************************************************\n",
            "loss: 0.2793; acc: 0.8998; val_loss: 0.6191; val_acc: 0.8182\n",
            "Model saved in cifar.036.hdf5\n",
            "Learning rate: 0.000101377795\n",
            "\n",
            "Epoch 38/50\n",
            "**************************************************\n",
            "loss: 0.2806; acc: 0.8998; val_loss: 0.6241; val_acc: 0.8184\n",
            "Model saved in cifar.037.hdf5\n",
            "Learning rate: 9.124002e-05\n",
            "\n",
            "Epoch 39/50\n",
            "**************************************************\n",
            "loss: 0.2741; acc: 0.9000; val_loss: 0.6110; val_acc: 0.8167\n",
            "Model saved in cifar.038.hdf5\n",
            "Learning rate: 8.2116014e-05\n",
            "\n",
            "Epoch 40/50\n",
            "**************************************************\n",
            "loss: 0.2749; acc: 0.9014; val_loss: 0.6110; val_acc: 0.8183\n",
            "Model saved in cifar.039.hdf5\n",
            "Learning rate: 7.390441e-05\n",
            "\n",
            "Epoch 41/50\n",
            "**************************************************\n",
            "loss: 0.2769; acc: 0.8999; val_loss: 0.6154; val_acc: 0.8169\n",
            "Model saved in cifar.040.hdf5\n",
            "Learning rate: 6.6513974e-05\n",
            "\n",
            "Epoch 42/50\n",
            "**************************************************\n",
            "loss: 0.2777; acc: 0.9000; val_loss: 0.6091; val_acc: 0.8186\n",
            "Model saved in cifar.041.hdf5\n",
            "Learning rate: 5.9862577e-05\n",
            "\n",
            "Epoch 43/50\n",
            "**************************************************\n",
            "loss: 0.2729; acc: 0.9014; val_loss: 0.6170; val_acc: 0.8184\n",
            "Model saved in cifar.042.hdf5\n",
            "Learning rate: 5.387632e-05\n",
            "\n",
            "Epoch 44/50\n",
            "**************************************************\n",
            "loss: 0.2752; acc: 0.8995; val_loss: 0.6122; val_acc: 0.8181\n",
            "Model saved in cifar.043.hdf5\n",
            "Learning rate: 4.8488688e-05\n",
            "\n",
            "Epoch 45/50\n",
            "**************************************************\n",
            "loss: 0.2724; acc: 0.9030; val_loss: 0.6119; val_acc: 0.8172\n",
            "Model saved in cifar.044.hdf5\n",
            "Learning rate: 4.363982e-05\n",
            "\n",
            "Epoch 46/50\n",
            "**************************************************\n",
            "loss: 0.2701; acc: 0.9016; val_loss: 0.6179; val_acc: 0.8182\n",
            "Model saved in cifar.045.hdf5\n",
            "Learning rate: 3.9275837e-05\n",
            "\n",
            "Epoch 47/50\n",
            "**************************************************\n",
            "loss: 0.2722; acc: 0.9025; val_loss: 0.6227; val_acc: 0.8178\n",
            "Model saved in cifar.046.hdf5\n",
            "Learning rate: 3.5348254e-05\n",
            "\n",
            "Epoch 48/50\n",
            "**************************************************\n",
            "loss: 0.2768; acc: 0.8997; val_loss: 0.6098; val_acc: 0.8176\n",
            "Model saved in cifar.047.hdf5\n",
            "Learning rate: 3.1813426e-05\n",
            "\n",
            "Epoch 49/50\n",
            "**************************************************\n",
            "loss: 0.2731; acc: 0.9019; val_loss: 0.6169; val_acc: 0.8185\n",
            "Model saved in cifar.048.hdf5\n",
            "Learning rate: 2.8632085e-05\n",
            "\n",
            "Epoch 50/50\n",
            "**************************************************\n",
            "loss: 0.2707; acc: 0.9025; val_loss: 0.6143; val_acc: 0.8180\n",
            "Model saved in cifar.049.hdf5\n"
          ],
          "name": "stdout"
        },
        {
          "output_type": "execute_result",
          "data": {
            "text/plain": [
              "<keras.callbacks.History at 0x7fdc7fc57ba8>"
            ]
          },
          "metadata": {
            "tags": []
          },
          "execution_count": 45
        }
      ]
    },
    {
      "metadata": {
        "id": "p7hiOdW85E-7",
        "colab_type": "code",
        "colab": {}
      },
      "cell_type": "code",
      "source": [
        "# save weights to file\n",
        "model.save_weights(\"weights.h5\")"
      ],
      "execution_count": 0,
      "outputs": []
    },
    {
      "metadata": {
        "id": "ZTBEbCuR5E--",
        "colab_type": "code",
        "colab": {}
      },
      "cell_type": "code",
      "source": [
        "# load weights from file (can call without model.fit)\n",
        "model.load_weights(\"weights.h5\")"
      ],
      "execution_count": 0,
      "outputs": []
    },
    {
      "metadata": {
        "id": "nYQFknju5E_B",
        "colab_type": "text"
      },
      "cell_type": "markdown",
      "source": [
        "# Evaluate model"
      ]
    },
    {
      "metadata": {
        "id": "vSpJ55yG5E_C",
        "colab_type": "code",
        "colab": {
          "base_uri": "https://localhost:8080/",
          "height": 34
        },
        "outputId": "3cf274db-3efc-42e6-c9eb-6add48d12229"
      },
      "cell_type": "code",
      "source": [
        "# make test predictions\n",
        "y_pred_test = model.predict_proba(x_test2)\n",
        "y_pred_test_classes = np.argmax(y_pred_test, axis=1)\n",
        "y_pred_test_max_probas = np.max(y_pred_test, axis=1)"
      ],
      "execution_count": 49,
      "outputs": [
        {
          "output_type": "stream",
          "text": [
            " 9888/10000 [============================>.] - ETA: 0s"
          ],
          "name": "stdout"
        }
      ]
    },
    {
      "metadata": {
        "id": "ZpG8ZGKm5E_D",
        "colab_type": "code",
        "colab": {
          "base_uri": "https://localhost:8080/",
          "height": 435
        },
        "outputId": "245b4cab-0f71-4bcc-d596-d634a42b9450"
      },
      "cell_type": "code",
      "source": [
        "# confusion matrix and accuracy\n",
        "from sklearn.metrics import confusion_matrix, accuracy_score\n",
        "plt.figure(figsize=(7, 6))\n",
        "plt.title('Confusion matrix', fontsize=16)\n",
        "plt.imshow(confusion_matrix(y_test, y_pred_test_classes))\n",
        "plt.xticks(np.arange(10), cifar10_classes, rotation=45, fontsize=12)\n",
        "plt.yticks(np.arange(10), cifar10_classes, fontsize=12)\n",
        "plt.colorbar()\n",
        "plt.show()\n",
        "print(\"Test accuracy:\", accuracy_score(y_test, y_pred_test_classes))"
      ],
      "execution_count": 50,
      "outputs": [
        {
          "output_type": "display_data",
          "data": {
            "image/png": "[encoded data removed]",
            "text/plain": [
              "<matplotlib.figure.Figure at 0x7fdd134fd2e8>"
            ]
          },
          "metadata": {
            "tags": []
          }
        },
        {
          "output_type": "stream",
          "text": [
            "Test accuracy: 0.818\n"
          ],
          "name": "stdout"
        }
      ]
    },
    {
      "metadata": {
        "id": "0rYXXXfE5E_G",
        "colab_type": "code",
        "colab": {}
      },
      "cell_type": "code",
      "source": [
        "## GRADED PART, DO NOT CHANGE!\n",
        "# Accuracy on validation data\n",
        "grader.set_answer(\"nQOsg\", accuracy_score(y_test, y_pred_test_classes))"
      ],
      "execution_count": 0,
      "outputs": []
    },
    {
      "metadata": {
        "id": "bj0lpSlj5E_H",
        "colab_type": "code",
        "colab": {
          "base_uri": "https://localhost:8080/",
          "height": 34
        },
        "outputId": "9852ae59-88fd-4f57-a8d3-1d5c668adcbd"
      },
      "cell_type": "code",
      "source": [
        "# you can make submission with answers so far to check yourself at this stage\n",
        "grader.submit(COURSERA_EMAIL, COURSERA_TOKEN)"
      ],
      "execution_count": 52,
      "outputs": [
        {
          "output_type": "stream",
          "text": [
            "Submitted to Coursera platform. See results on assignment page!\n"
          ],
          "name": "stdout"
        }
      ]
    },
    {
      "metadata": {
        "id": "l3tAEF_C5E_K",
        "colab_type": "code",
        "colab": {}
      },
      "cell_type": "code",
      "source": [
        "# inspect preditions\n",
        "cols = 8\n",
        "rows = 2\n",
        "fig = plt.figure(figsize=(2 * cols - 1, 3 * rows - 1))\n",
        "for i in range(cols):\n",
        "    for j in range(rows):\n",
        "        random_index = np.random.randint(0, len(y_test))\n",
        "        ax = fig.add_subplot(rows, cols, i * rows + j + 1)\n",
        "        ax.grid('off')\n",
        "        ax.axis('off')\n",
        "        ax.imshow(x_test[random_index, :])\n",
        "        pred_label = cifar10_classes[y_pred_test_classes[random_index]]\n",
        "        pred_proba = y_pred_test_max_probas[random_index]\n",
        "        true_label = cifar10_classes[y_test[random_index, 0]]\n",
        "        ax.set_title(\"pred: {}\\nscore: {:.3}\\ntrue: {}\".format(\n",
        "               pred_label, pred_proba, true_label\n",
        "        ))\n",
        "plt.show()"
      ],
      "execution_count": 0,
      "outputs": []
    },
    {
      "metadata": {
        "id": "aePcvr6H5E_N",
        "colab_type": "text"
      },
      "cell_type": "markdown",
      "source": [
        "# Visualize maximum stimuli"
      ]
    },
    {
      "metadata": {
        "id": "EQ0T3w3Z5E_O",
        "colab_type": "text"
      },
      "cell_type": "markdown",
      "source": [
        "We want to find input images that provide maximum activations for particular layers of our network. \n",
        "\n",
        "We will find those maximum stimuli via gradient ascent in image space.\n",
        "\n",
        "For that task we load our model weights, calculate the layer output gradient with respect to image input and shift input image in that direction."
      ]
    },
    {
      "metadata": {
        "id": "JqaVmLPX5E_P",
        "colab_type": "code",
        "colab": {}
      },
      "cell_type": "code",
      "source": [
        "s = reset_tf_session()  # clear default graph\n",
        "K.set_learning_phase(0)  # disable dropout\n",
        "model = make_model()\n",
        "model.load_weights(\"weights.h5\")  # that were saved after model.fit"
      ],
      "execution_count": 0,
      "outputs": []
    },
    {
      "metadata": {
        "id": "Hpy8KNZM5E_S",
        "colab_type": "code",
        "colab": {}
      },
      "cell_type": "code",
      "source": [
        "# all weights we have\n",
        "model.summary()"
      ],
      "execution_count": 0,
      "outputs": []
    },
    {
      "metadata": {
        "id": "0-Rv3lut5E_U",
        "colab_type": "code",
        "colab": {}
      },
      "cell_type": "code",
      "source": [
        "def find_maximum_stimuli(layer_name, is_conv, filter_index, model, iterations=20, step=1., verbose=True):\n",
        "    \n",
        "    def image_values_to_rgb(x):\n",
        "        # normalize x: center on 0 (np.mean(x_train2)), ensure std is 0.25 (np.std(x_train2))\n",
        "        # so that it looks like a normalized image input for our network\n",
        "        ### YOUR CODE HERE\n",
        "        x = x - np.mean(x)\n",
        "        print(np.std(x))\n",
        "        # do reverse normalization to RGB values: x = (x_norm + 0.5) * 255\n",
        "        ### YOUR CODE HERE\n",
        "        x = (x + 0.5)*255\n",
        "    \n",
        "        # clip values to [0, 255] and convert to bytes\n",
        "        x = np.clip(x, 0, 255).astype('uint8')\n",
        "        return x\n",
        "\n",
        "    # this is the placeholder for the input image\n",
        "    input_img = model.input\n",
        "    img_width, img_height = input_img.shape.as_list()[1:3]\n",
        "    \n",
        "    # find the layer output by name\n",
        "    layer_output = list(filter(lambda x: x.name == layer_name, model.layers))[0].output\n",
        "\n",
        "    # we build a loss function that maximizes the activation\n",
        "    # of the filter_index filter of the layer considered\n",
        "    if is_conv:\n",
        "        # mean over feature map values for convolutional layer\n",
        "        loss = K.mean(layer_output[:, :, :, filter_index])\n",
        "    else:\n",
        "        loss = K.mean(layer_output[:, filter_index])\n",
        "\n",
        "    # we compute the gradient of the loss wrt input image\n",
        "    grads = K.gradients(loss, input_img)[0]  # [0] because of the batch dimension!\n",
        "\n",
        "    # normalization trick: we normalize the gradient\n",
        "    grads = grads / (K.sqrt(K.sum(K.square(grads))) + 1e-10)\n",
        "\n",
        "    # this function returns the loss and grads given the input picture\n",
        "    iterate = K.function([input_img], [loss, grads])\n",
        "\n",
        "    # we start from a gray image with some random noise\n",
        "    input_img_data = np.random.random((1, img_width, img_height, 3))\n",
        "    input_img_data = (input_img_data - 0.5) * (0.1 if is_conv else 0.001)\n",
        "\n",
        "    # we run gradient ascent\n",
        "    for i in range(iterations):\n",
        "        loss_value, grads_value = iterate([input_img_data])\n",
        "        input_img_data += grads_value * step\n",
        "        if verbose:\n",
        "            print('Current loss value:', loss_value)\n",
        "\n",
        "    # decode the resulting input image\n",
        "    img = image_values_to_rgb(input_img_data[0])\n",
        "    \n",
        "    return img, loss_value"
      ],
      "execution_count": 0,
      "outputs": []
    },
    {
      "metadata": {
        "id": "TPs6U8ey5E_W",
        "colab_type": "code",
        "colab": {}
      },
      "cell_type": "code",
      "source": [
        "# sample maximum stimuli\n",
        "def plot_filters_stimuli(layer_name, is_conv, model, iterations=20, step=1., verbose=False):\n",
        "    cols = 8\n",
        "    rows = 2\n",
        "    filter_index = 0\n",
        "    max_filter_index = list(filter(lambda x: x.name == layer_name, model.layers))[0].output.shape.as_list()[-1] - 1\n",
        "    fig = plt.figure(figsize=(2 * cols - 1, 3 * rows - 1))\n",
        "    for i in range(cols):\n",
        "        for j in range(rows):\n",
        "            if filter_index <= max_filter_index:\n",
        "                ax = fig.add_subplot(rows, cols, i * rows + j + 1)\n",
        "                ax.grid('off')\n",
        "                ax.axis('off')\n",
        "                loss = -1e20\n",
        "                while loss < 0 and filter_index <= max_filter_index:\n",
        "                    stimuli, loss = find_maximum_stimuli(layer_name, is_conv, filter_index, model,\n",
        "                                                         iterations, step, verbose=verbose)\n",
        "                    filter_index += 1\n",
        "                if loss > 0:\n",
        "                    ax.imshow(stimuli)\n",
        "                    ax.set_title(\"Filter #{}\".format(filter_index))\n",
        "    plt.show()"
      ],
      "execution_count": 0,
      "outputs": []
    },
    {
      "metadata": {
        "id": "MFuyY1Xe5E_Z",
        "colab_type": "code",
        "colab": {}
      },
      "cell_type": "code",
      "source": [
        "# maximum stimuli for convolutional neurons\n",
        "conv_activation_layers = []\n",
        "for layer in model.layers:\n",
        "    if isinstance(layer, LeakyReLU):\n",
        "        prev_layer = layer.inbound_nodes[0].inbound_layers[0]\n",
        "        if isinstance(prev_layer, Conv2D):\n",
        "            conv_activation_layers.append(layer)\n",
        "\n",
        "for layer in conv_activation_layers:\n",
        "    print(layer.name)\n",
        "    plot_filters_stimuli(layer_name=layer.name, is_conv=True, model=model)"
      ],
      "execution_count": 0,
      "outputs": []
    },
    {
      "metadata": {
        "id": "USES82E_5E_a",
        "colab_type": "code",
        "colab": {}
      },
      "cell_type": "code",
      "source": [
        "# maximum stimuli for last dense layer\n",
        "last_dense_layer = list(filter(lambda x: isinstance(x, Dense), model.layers))[-1]\n",
        "plot_filters_stimuli(layer_name=last_dense_layer.name, is_conv=False, \n",
        "                     iterations=200, step=0.1, model=model)"
      ],
      "execution_count": 0,
      "outputs": []
    },
    {
      "metadata": {
        "id": "tkn_1Z8B5E_d",
        "colab_type": "code",
        "colab": {}
      },
      "cell_type": "code",
      "source": [
        "def maximum_stimuli_test_for_grader():\n",
        "    layer = list(filter(lambda x: isinstance(x, Dense), model.layers))[-1]\n",
        "    output_index = 7\n",
        "    stimuli, loss = find_maximum_stimuli(\n",
        "        layer_name=layer.name, \n",
        "        is_conv=False, \n",
        "        filter_index=output_index,\n",
        "        model=model,\n",
        "        verbose=False\n",
        "    )\n",
        "    return model.predict_proba(stimuli[np.newaxis, :])[0, output_index]"
      ],
      "execution_count": 0,
      "outputs": []
    },
    {
      "metadata": {
        "id": "0q8S3sVZ5E_f",
        "colab_type": "code",
        "colab": {}
      },
      "cell_type": "code",
      "source": [
        "## GRADED PART, DO NOT CHANGE!\n",
        "# Maximum stimuli test\n",
        "grader.set_answer(\"96eco\", maximum_stimuli_test_for_grader())"
      ],
      "execution_count": 0,
      "outputs": []
    },
    {
      "metadata": {
        "id": "A369CODJ5E_i",
        "colab_type": "code",
        "colab": {}
      },
      "cell_type": "code",
      "source": [
        "# you can make submission with answers so far to check yourself at this stage\n",
        "grader.submit(COURSERA_EMAIL, COURSERA_TOKEN)"
      ],
      "execution_count": 0,
      "outputs": []
    },
    {
      "metadata": {
        "id": "6sj_n8iM5E_k",
        "colab_type": "text"
      },
      "cell_type": "markdown",
      "source": [
        "That's it! Congratulations!\n",
        "\n",
        "What you've done:\n",
        "- defined CNN architecture\n",
        "- trained your model\n",
        "- evaluated your model\n",
        "- visualised learnt filters"
      ]
    }
  ]
}