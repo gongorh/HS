{
  "nbformat": 4,
  "nbformat_minor": 0,
  "metadata": {
    "colab": {
      "name": "Keras-task.ipynb",
      "version": "0.3.2",
      "provenance": []
    },
    "kernelspec": {
      "display_name": "Python 3",
      "language": "python",
      "name": "python3"
    }
  },
  "cells": [
    {
      "metadata": {
        "id": "fMNpigC53a4y",
        "colab_type": "text"
      },
      "cell_type": "markdown",
      "source": [
        "# Getting deeper with Keras\n",
        "* Tensorflow is a powerful and flexible tool, but coding large neural architectures with it is tedious.\n",
        "* There are plenty of deep learning toolkits that work on top of it like Slim, TFLearn, Sonnet, Keras.\n",
        "* Choice is matter of taste and particular task\n",
        "* We'll be using Keras"
      ]
    },
    {
      "metadata": {
        "id": "UOi8EwKv3fFb",
        "colab_type": "code",
        "colab": {
          "base_uri": "https://localhost:8080/",
          "height": 153
        },
        "outputId": "f976056d-a226-4ab3-bc13-f54b3b7c0bab"
      },
      "cell_type": "code",
      "source": [
        "! wget https://raw.githubusercontent.com/hse-aml/intro-to-dl/master/setup_google_colab.py -O setup_google_colab.py\n",
        "import setup_google_colab\n",
        "setup_google_colab.setup_week2_v2()  # change to the week you're working on\n",
        "# note on week 2: select setup_week2_v2() if you've started the course after August 13, 2018,\n",
        "# otherwise call setup_week2()."
      ],
      "execution_count": 2,
      "outputs": [
        {
          "output_type": "stream",
          "text": [
            "\n",
            "Redirecting output to ‘wget-log’.\n",
            "**************************************************\n",
            "inception_v3_weights_tf_dim_ordering_tf_kernels_notop.h5\n",
            "**************************************************\n",
            "cifar-10-batches-py.tar.gz\n",
            "**************************************************\n",
            "mnist.npz\n"
          ],
          "name": "stdout"
        }
      ]
    },
    {
      "metadata": {
        "id": "r7veAQSH3a4z",
        "colab_type": "code",
        "colab": {}
      },
      "cell_type": "code",
      "source": [
        "import sys\n",
        "sys.path.append(\"..\")\n",
        "import grading"
      ],
      "execution_count": 0,
      "outputs": []
    },
    {
      "metadata": {
        "id": "lgWtD0-Y3a42",
        "colab_type": "code",
        "colab": {}
      },
      "cell_type": "code",
      "source": [
        "# use preloaded keras datasets and models\n",
        "! mkdir -p ~/.keras/datasets\n",
        "! mkdir -p ~/.keras/models\n",
        "! ln -s $(realpath ../readonly/keras/datasets/*) ~/.keras/datasets/\n",
        "! ln -s $(realpath ../readonly/keras/models/*) ~/.keras/models/"
      ],
      "execution_count": 0,
      "outputs": []
    },
    {
      "metadata": {
        "id": "ZM7NhE9I3a45",
        "colab_type": "code",
        "colab": {
          "base_uri": "https://localhost:8080/",
          "height": 34
        },
        "outputId": "79c72fb1-9b9e-4957-e555-8d473c1335ae"
      },
      "cell_type": "code",
      "source": [
        "import numpy as np\n",
        "from preprocessed_mnist import load_dataset\n",
        "import keras\n",
        "X_train, y_train, X_val, y_val, X_test, y_test = load_dataset()\n",
        "y_train,y_val,y_test = map(keras.utils.np_utils.to_categorical,[y_train,y_val,y_test])"
      ],
      "execution_count": 5,
      "outputs": [
        {
          "output_type": "stream",
          "text": [
            "Using TensorFlow backend.\n"
          ],
          "name": "stderr"
        }
      ]
    },
    {
      "metadata": {
        "id": "l5v8xPpc3a4-",
        "colab_type": "code",
        "colab": {
          "base_uri": "https://localhost:8080/",
          "height": 265
        },
        "outputId": "8521257b-4856-4a8b-d01d-b386fc17deec"
      },
      "cell_type": "code",
      "source": [
        "import matplotlib.pyplot as plt\n",
        "%matplotlib inline\n",
        "plt.imshow(X_train[0]);"
      ],
      "execution_count": 6,
      "outputs": [
        {
          "output_type": "display_data",
          "data": {
            "image/png": "[encoded data removed]",
            "text/plain": [
              "<matplotlib.figure.Figure at 0x7faa212d9b70>"
            ]
          },
          "metadata": {
            "tags": []
          }
        }
      ]
    },
    {
      "metadata": {
        "id": "1yznhhHT3a5C",
        "colab_type": "text"
      },
      "cell_type": "markdown",
      "source": [
        "## The pretty keras"
      ]
    },
    {
      "metadata": {
        "id": "p4RBQMj33a5C",
        "colab_type": "code",
        "colab": {}
      },
      "cell_type": "code",
      "source": [
        "import tensorflow as tf\n",
        "from keras_utils import reset_tf_session\n",
        "s = reset_tf_session()"
      ],
      "execution_count": 0,
      "outputs": []
    },
    {
      "metadata": {
        "id": "1fFkx25m3a5E",
        "colab_type": "code",
        "colab": {}
      },
      "cell_type": "code",
      "source": [
        "import keras\n",
        "from keras.models import Sequential\n",
        "import keras.layers as ll\n",
        "from keras import regularizers\n",
        "\n",
        "model = Sequential(name=\"mlp\")\n",
        "\n",
        "model.add(ll.InputLayer([28, 28]))\n",
        "\n",
        "model.add(ll.Flatten())\n",
        "\n",
        "# network body\n",
        "model.add(ll.Dense(130,kernel_regularizer=regularizers.l2(0.00001)))\n",
        "model.add(ll.Activation('relu'))\n",
        "model.add(ll.BatchNormalization(axis=-1, momentum=0.99, epsilon=0.00001))\n",
        "\n",
        "model.add(ll.Dense(130,kernel_regularizer=regularizers.l2(0.00001)))\n",
        "model.add(ll.Activation('relu'))\n",
        "model.add(ll.BatchNormalization(axis=-1, momentum=0.99, epsilon=0.00001))\n",
        "\n",
        "model.add(ll.Dense(130,kernel_regularizer=regularizers.l2(0.00001)))\n",
        "model.add(ll.Activation('relu'))\n",
        "model.add(ll.BatchNormalization(axis=-1, momentum=0.99, epsilon=0.00001))\n",
        "\n",
        "model.add(ll.Dense(130,kernel_regularizer=regularizers.l2(0.00001)))\n",
        "model.add(ll.Activation('relu'))\n",
        "model.add(ll.BatchNormalization(axis=-1, momentum=0.99, epsilon=0.00001))\n",
        "\n",
        "model.add(ll.Dense(130,kernel_regularizer=regularizers.l2(0.00001)))\n",
        "model.add(ll.Activation('relu'))\n",
        "model.add(ll.BatchNormalization(axis=-1, momentum=0.99, epsilon=0.00001))\n",
        "\n",
        "# output layer: 10 neurons for each class with softmax\n",
        "model.add(ll.Dense(10, activation='softmax'))\n",
        "\n",
        "# categorical_crossentropy is your good old crossentropy\n",
        "# but applied for one-hot-encoded vectors\n",
        "model.compile(\"adam\", \"categorical_crossentropy\", metrics=[\"accuracy\"])"
      ],
      "execution_count": 0,
      "outputs": []
    },
    {
      "metadata": {
        "id": "VjKHyGRv3a5H",
        "colab_type": "code",
        "colab": {
          "base_uri": "https://localhost:8080/",
          "height": 748
        },
        "outputId": "c7c2449e-6d2a-4ba8-cd7f-dfdde8df31ea"
      },
      "cell_type": "code",
      "source": [
        "model.summary()"
      ],
      "execution_count": 135,
      "outputs": [
        {
          "output_type": "stream",
          "text": [
            "_________________________________________________________________\n",
            "Layer (type)                 Output Shape              Param #   \n",
            "=================================================================\n",
            "input_1 (InputLayer)         (None, 28, 28)            0         \n",
            "_________________________________________________________________\n",
            "flatten_1 (Flatten)          (None, 784)               0         \n",
            "_________________________________________________________________\n",
            "dense_1 (Dense)              (None, 130)               102050    \n",
            "_________________________________________________________________\n",
            "activation_1 (Activation)    (None, 130)               0         \n",
            "_________________________________________________________________\n",
            "batch_normalization_1 (Batch (None, 130)               520       \n",
            "_________________________________________________________________\n",
            "dense_2 (Dense)              (None, 130)               17030     \n",
            "_________________________________________________________________\n",
            "activation_2 (Activation)    (None, 130)               0         \n",
            "_________________________________________________________________\n",
            "batch_normalization_2 (Batch (None, 130)               520       \n",
            "_________________________________________________________________\n",
            "dense_3 (Dense)              (None, 130)               17030     \n",
            "_________________________________________________________________\n",
            "activation_3 (Activation)    (None, 130)               0         \n",
            "_________________________________________________________________\n",
            "batch_normalization_3 (Batch (None, 130)               520       \n",
            "_________________________________________________________________\n",
            "dense_4 (Dense)              (None, 130)               17030     \n",
            "_________________________________________________________________\n",
            "activation_4 (Activation)    (None, 130)               0         \n",
            "_________________________________________________________________\n",
            "batch_normalization_4 (Batch (None, 130)               520       \n",
            "_________________________________________________________________\n",
            "dense_5 (Dense)              (None, 130)               17030     \n",
            "_________________________________________________________________\n",
            "activation_5 (Activation)    (None, 130)               0         \n",
            "_________________________________________________________________\n",
            "batch_normalization_5 (Batch (None, 130)               520       \n",
            "_________________________________________________________________\n",
            "dense_6 (Dense)              (None, 10)                1310      \n",
            "=================================================================\n",
            "Total params: 174,080\n",
            "Trainable params: 172,780\n",
            "Non-trainable params: 1,300\n",
            "_________________________________________________________________\n"
          ],
          "name": "stdout"
        }
      ]
    },
    {
      "metadata": {
        "id": "m79hXbIs3a5M",
        "colab_type": "text"
      },
      "cell_type": "markdown",
      "source": [
        "### Model interface\n",
        "\n",
        "Keras models follow __Scikit-learn__'s interface of fit/predict with some notable extensions. Let's take a tour."
      ]
    },
    {
      "metadata": {
        "id": "KmxXbJf_3a5O",
        "colab_type": "code",
        "colab": {
          "base_uri": "https://localhost:8080/",
          "height": 374
        },
        "outputId": "c83a47e6-4a85-461e-ade3-3b3d898af032"
      },
      "cell_type": "code",
      "source": [
        "# fit(X,y) ships with a neat automatic logging.\n",
        "#          Highly customizable under the hood.\n",
        "model.fit(X_train, y_train,\n",
        "          validation_data=(X_val, y_val), epochs=10);"
      ],
      "execution_count": 136,
      "outputs": [
        {
          "output_type": "stream",
          "text": [
            "Train on 50000 samples, validate on 10000 samples\n",
            "Epoch 1/10\n",
            "50000/50000 [==============================] - 23s - loss: 0.3405 - acc: 0.8971 - val_loss: 0.1495 - val_acc: 0.9589\n",
            "Epoch 2/10\n",
            "50000/50000 [==============================] - 21s - loss: 0.1770 - acc: 0.9482 - val_loss: 0.1215 - val_acc: 0.9660\n",
            "Epoch 3/10\n",
            "50000/50000 [==============================] - 21s - loss: 0.1419 - acc: 0.9578 - val_loss: 0.1182 - val_acc: 0.9675\n",
            "Epoch 4/10\n",
            "50000/50000 [==============================] - 21s - loss: 0.1200 - acc: 0.9651 - val_loss: 0.1062 - val_acc: 0.9730\n",
            "Epoch 5/10\n",
            "50000/50000 [==============================] - 21s - loss: 0.1096 - acc: 0.9699 - val_loss: 0.1086 - val_acc: 0.9705\n",
            "Epoch 6/10\n",
            "50000/50000 [==============================] - 21s - loss: 0.0998 - acc: 0.9721 - val_loss: 0.0973 - val_acc: 0.9755\n",
            "Epoch 7/10\n",
            "50000/50000 [==============================] - 21s - loss: 0.0919 - acc: 0.9751 - val_loss: 0.1081 - val_acc: 0.9745\n",
            "Epoch 8/10\n",
            "50000/50000 [==============================] - 21s - loss: 0.0876 - acc: 0.9770 - val_loss: 0.0972 - val_acc: 0.9762\n",
            "Epoch 9/10\n",
            "50000/50000 [==============================] - 21s - loss: 0.0813 - acc: 0.9792 - val_loss: 0.1029 - val_acc: 0.9749\n",
            "Epoch 10/10\n",
            "50000/50000 [==============================] - 21s - loss: 0.0777 - acc: 0.9813 - val_loss: 0.0983 - val_acc: 0.9790\n"
          ],
          "name": "stdout"
        }
      ]
    },
    {
      "metadata": {
        "id": "ukTh5KFb3a5V",
        "colab_type": "code",
        "colab": {
          "base_uri": "https://localhost:8080/",
          "height": 136
        },
        "outputId": "3b66b8c9-059b-41ae-fd56-bf2cab086a3e"
      },
      "cell_type": "code",
      "source": [
        "# estimate probabilities P(y|x)\n",
        "model.predict_proba(X_val[:2])"
      ],
      "execution_count": 137,
      "outputs": [
        {
          "output_type": "stream",
          "text": [
            "\r2/2 [==============================] - 0s\n"
          ],
          "name": "stdout"
        },
        {
          "output_type": "execute_result",
          "data": {
            "text/plain": [
              "array([[5.0978408e-09, 2.5282215e-04, 6.8903835e-05, 9.9961406e-01,\n",
              "        3.4941314e-07, 6.3242194e-05, 1.2401873e-08, 2.1783275e-07,\n",
              "        4.5320729e-07, 4.9598246e-09],\n",
              "       [2.7006298e-08, 5.5698155e-08, 4.8006001e-07, 4.7078984e-06,\n",
              "        4.9967923e-07, 9.5738666e-05, 3.0080446e-06, 1.3666973e-07,\n",
              "        9.9989390e-01, 1.4179974e-06]], dtype=float32)"
            ]
          },
          "metadata": {
            "tags": []
          },
          "execution_count": 137
        }
      ]
    },
    {
      "metadata": {
        "id": "RjtQBETg3a5d",
        "colab_type": "code",
        "colab": {}
      },
      "cell_type": "code",
      "source": [
        "# Save trained weights\n",
        "model.save(\"weights.h5\")"
      ],
      "execution_count": 0,
      "outputs": []
    },
    {
      "metadata": {
        "id": "TQMBNLSW3a5f",
        "colab_type": "code",
        "colab": {
          "base_uri": "https://localhost:8080/",
          "height": 51
        },
        "outputId": "25264d3c-ac6c-499b-89f6-5718af59d2db"
      },
      "cell_type": "code",
      "source": [
        "print(\"\\nLoss, Accuracy = \", model.evaluate(X_test, y_test))"
      ],
      "execution_count": 139,
      "outputs": [
        {
          "output_type": "stream",
          "text": [
            " 9248/10000 [==========================>...] - ETA: 0s\n",
            "Loss, Accuracy =  [0.09842466152608395, 0.9764]\n"
          ],
          "name": "stdout"
        }
      ]
    },
    {
      "metadata": {
        "id": "tBlCDCPm3a5i",
        "colab_type": "text"
      },
      "cell_type": "markdown",
      "source": [
        "### Whoops!\n",
        "So far, our model is staggeringly inefficient. There is something wrong with it. Guess, what?"
      ]
    },
    {
      "metadata": {
        "id": "2YVnnUc63a5i",
        "colab_type": "code",
        "colab": {
          "base_uri": "https://localhost:8080/",
          "height": 68
        },
        "outputId": "118a7a3b-8c02-402b-8ad4-bc2e639a32c6"
      },
      "cell_type": "code",
      "source": [
        "# Test score...\n",
        "test_predictions = model.predict_proba(X_test).argmax(axis=-1)\n",
        "test_answers = y_test.argmax(axis=-1)\n",
        "\n",
        "test_accuracy = np.mean(test_predictions==test_answers)\n",
        "\n",
        "print(\"\\nTest accuracy: {} %\".format(test_accuracy*100))\n",
        "\n",
        "assert test_accuracy>=0.92,\"Logistic regression can do better!\"\n",
        "assert test_accuracy>=0.975,\"Your network can do better!\"\n",
        "print(\"Great job!\")"
      ],
      "execution_count": 140,
      "outputs": [
        {
          "output_type": "stream",
          "text": [
            " 9216/10000 [==========================>...] - ETA: 0s\n",
            "Test accuracy: 97.64 %\n",
            "Great job!\n"
          ],
          "name": "stdout"
        }
      ]
    },
    {
      "metadata": {
        "id": "JxnVQx0v3a5l",
        "colab_type": "code",
        "colab": {}
      },
      "cell_type": "code",
      "source": [
        "answer_submitter = grading.Grader(\"0ybD9ZxxEeea8A6GzH-6CA\")\n",
        "answer_submitter.set_answer(\"N56DR\", test_accuracy)"
      ],
      "execution_count": 0,
      "outputs": []
    },
    {
      "metadata": {
        "id": "fLapcFEJ3a5n",
        "colab_type": "code",
        "colab": {
          "base_uri": "https://localhost:8080/",
          "height": 34
        },
        "outputId": "ba8d3b66-0684-47fe-b270-d46c0074efdb"
      },
      "cell_type": "code",
      "source": [
        "answer_submitter.submit('homero.gongora@generalstar.com', '3OlwU4Ombkj0QmX0')"
      ],
      "execution_count": 142,
      "outputs": [
        {
          "output_type": "stream",
          "text": [
            "You used a token for \"MNIST digits classification with TF\" in \"Introduction to Deep Learning\". Please use a token for the assignment you are submitting.\n"
          ],
          "name": "stdout"
        }
      ]
    },
    {
      "metadata": {
        "id": "vWjtvBZQ3a5p",
        "colab_type": "text"
      },
      "cell_type": "markdown",
      "source": [
        "## Keras + tensorboard\n",
        "\n",
        "Remember the interactive graphs from Tensorboard one notebook ago? \n",
        "\n",
        "Thing is, Keras can use tensorboard to show you a lot of useful information about the learning progress. Just take a look!"
      ]
    },
    {
      "metadata": {
        "id": "yHrx5xoK3a5r",
        "colab_type": "code",
        "colab": {
          "base_uri": "https://localhost:8080/",
          "height": 34
        },
        "outputId": "199f792e-954e-47b0-b6d8-4c885494bb31"
      },
      "cell_type": "code",
      "source": [
        "! rm -r /tmp/tboard/**"
      ],
      "execution_count": 77,
      "outputs": [
        {
          "output_type": "stream",
          "text": [
            "rm: cannot remove '/tmp/tboard/**': No such file or directory\n"
          ],
          "name": "stdout"
        }
      ]
    },
    {
      "metadata": {
        "id": "m0LaiFas3a5u",
        "colab_type": "code",
        "colab": {
          "base_uri": "https://localhost:8080/",
          "height": 391
        },
        "outputId": "7ae15fe9-fdec-4ace-d158-dd0a8a8ddc7a"
      },
      "cell_type": "code",
      "source": [
        "from keras.callbacks import TensorBoard\n",
        "model.fit(X_train, y_train, validation_data=(X_val, y_val), \n",
        "          epochs=10,\n",
        "          callbacks=[TensorBoard(\"/tmp/tboard\")])"
      ],
      "execution_count": 78,
      "outputs": [
        {
          "output_type": "stream",
          "text": [
            "Train on 50000 samples, validate on 10000 samples\n",
            "Epoch 1/10\n",
            "50000/50000 [==============================] - 4s - loss: 0.0952 - acc: 0.9697 - val_loss: 0.1095 - val_acc: 0.9666\n",
            "Epoch 2/10\n",
            "50000/50000 [==============================] - 4s - loss: 0.0929 - acc: 0.9709 - val_loss: 0.1110 - val_acc: 0.9682\n",
            "Epoch 3/10\n",
            "50000/50000 [==============================] - 5s - loss: 0.0913 - acc: 0.9709 - val_loss: 0.1031 - val_acc: 0.9683\n",
            "Epoch 4/10\n",
            "50000/50000 [==============================] - 5s - loss: 0.0892 - acc: 0.9714 - val_loss: 0.1143 - val_acc: 0.9666\n",
            "Epoch 5/10\n",
            "50000/50000 [==============================] - 5s - loss: 0.0880 - acc: 0.9708 - val_loss: 0.1053 - val_acc: 0.9698\n",
            "Epoch 6/10\n",
            "50000/50000 [==============================] - 5s - loss: 0.0876 - acc: 0.9722 - val_loss: 0.1093 - val_acc: 0.9688\n",
            "Epoch 7/10\n",
            "50000/50000 [==============================] - 4s - loss: 0.0866 - acc: 0.9721 - val_loss: 0.1059 - val_acc: 0.9694\n",
            "Epoch 8/10\n",
            "50000/50000 [==============================] - 4s - loss: 0.0816 - acc: 0.9742 - val_loss: 0.1106 - val_acc: 0.9694\n",
            "Epoch 9/10\n",
            "50000/50000 [==============================] - 4s - loss: 0.0808 - acc: 0.9736 - val_loss: 0.1072 - val_acc: 0.9699\n",
            "Epoch 10/10\n",
            "50000/50000 [==============================] - 4s - loss: 0.0814 - acc: 0.9732 - val_loss: 0.1148 - val_acc: 0.9684\n"
          ],
          "name": "stdout"
        },
        {
          "output_type": "execute_result",
          "data": {
            "text/plain": [
              "<keras.callbacks.History at 0x7faa0af8e320>"
            ]
          },
          "metadata": {
            "tags": []
          },
          "execution_count": 78
        }
      ]
    },
    {
      "metadata": {
        "id": "Q0946fSg3a5w",
        "colab_type": "text"
      },
      "cell_type": "markdown",
      "source": [
        "# Tips & tricks\n",
        "\n",
        "Here are some tips on what you could do. Don't worry, to reach the passing threshold you don't need to try all the ideas listed here, feel free to stop once you reach the 0.975 accuracy mark.\n",
        "\n",
        " * __Network size__\n",
        "   * More neurons, \n",
        "   * More layers, ([docs](https://keras.io/))\n",
        "\n",
        "   * Nonlinearities in the hidden layers\n",
        "     * tanh, relu, leaky relu, etc\n",
        "   * Larger networks may take more epochs to train, so don't discard your net just because it could didn't beat the baseline in 5 epochs.\n",
        "\n",
        "\n",
        " * __Early Stopping__\n",
        "   * Training for 100 epochs regardless of anything is probably a bad idea.\n",
        "   * Some networks converge over 5 epochs, others - over 500.\n",
        "   * Way to go: stop when validation score is 10 iterations past maximum\n",
        "     \n",
        "\n",
        " * __Faster optimization__\n",
        "   * rmsprop, nesterov_momentum, adam, adagrad and so on.\n",
        "     * Converge faster and sometimes reach better optima\n",
        "     * It might make sense to tweak learning rate/momentum, other learning parameters, batch size and number of epochs\n",
        "\n",
        "\n",
        " * __Regularize__ to prevent overfitting\n",
        "   * Add some L2 weight norm to the loss function, theano will do the rest\n",
        "     * Can be done manually or via - https://keras.io/regularizers/\n",
        "   \n",
        "   \n",
        " * __Data augmemntation__ - getting 5x as large dataset for free is a great deal\n",
        "   * https://keras.io/preprocessing/image/\n",
        "   * Zoom-in+slice = move\n",
        "   * Rotate+zoom(to remove black stripes)\n",
        "   * any other perturbations\n",
        "   * Simple way to do that (if you have PIL/Image): \n",
        "     * ```from scipy.misc import imrotate,imresize```\n",
        "     * and a few slicing\n",
        "   * Stay realistic. There's usually no point in flipping dogs upside down as that is not the way you usually see them."
      ]
    }
  ]
}