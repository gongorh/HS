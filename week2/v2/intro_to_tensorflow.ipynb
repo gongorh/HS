{
  "nbformat": 4,
  "nbformat_minor": 0,
  "metadata": {
    "colab": {
      "name": "intro_to_tensorflow.ipynb",
      "version": "0.3.2",
      "provenance": []
    },
    "kernelspec": {
      "display_name": "Python 3",
      "language": "python",
      "name": "python3"
    }
  },
  "cells": [
    {
      "metadata": {
        "id": "ssYSPht6zGi7",
        "colab_type": "text"
      },
      "cell_type": "markdown",
      "source": [
        "# Intro to TensorFlow\n",
        "\n",
        "This notebook covers the basics of TF and shows you an animation with gradient descent trajectory.\n",
        "<img src=\"https://github.com/hse-aml/intro-to-dl/blob/master/week2/v2/images/gradient_descent.png?raw=1\" style=\"width:50%\">"
      ]
    },
    {
      "metadata": {
        "id": "Xfqv7_FnzGi_",
        "colab_type": "text"
      },
      "cell_type": "markdown",
      "source": [
        "# TensorBoard"
      ]
    },
    {
      "metadata": {
        "id": "oR1JAXGEzGjD",
        "colab_type": "text"
      },
      "cell_type": "markdown",
      "source": [
        "**Plase note that if you are running on the Coursera platform, you won't be able to access the tensorboard instance due to the network setup there.**\n",
        "\n",
        "Run `tensorboard --logdir=./tensorboard_logs --port=7007` in bash.\n",
        "\n",
        "If you run the notebook locally, you should be able to access TensorBoard on http://127.0.0.1:7007/"
      ]
    },
    {
      "metadata": {
        "id": "ov-3w6CyzNiu",
        "colab_type": "code",
        "colab": {
          "base_uri": "https://localhost:8080/",
          "height": 153
        },
        "outputId": "ba942924-6744-408c-bc71-1b0672406a0b"
      },
      "cell_type": "code",
      "source": [
        "! wget https://raw.githubusercontent.com/hse-aml/intro-to-dl/master/setup_google_colab.py -O setup_google_colab.py\n",
        "import setup_google_colab\n",
        "setup_google_colab.setup_week2_v2()  # change to the week you're working on\n",
        "# note on week 2: select setup_week2_v2() if you've started the course after August 13, 2018,\n",
        "# otherwise call setup_week2()."
      ],
      "execution_count": 1,
      "outputs": [
        {
          "output_type": "stream",
          "text": [
            "\n",
            "Redirecting output to ‘wget-log’.\n",
            "**************************************************\n",
            "inception_v3_weights_tf_dim_ordering_tf_kernels_notop.h5\n",
            "**************************************************\n",
            "cifar-10-batches-py.tar.gz\n",
            "**************************************************\n",
            "mnist.npz\n"
          ],
          "name": "stdout"
        }
      ]
    },
    {
      "metadata": {
        "id": "gMaNzdmVzGjE",
        "colab_type": "code",
        "colab": {
          "base_uri": "https://localhost:8080/",
          "height": 51
        },
        "outputId": "8aa59fec-c9ab-43cb-e12c-fced40a373e9"
      },
      "cell_type": "code",
      "source": [
        "import tensorflow as tf\n",
        "import sys\n",
        "sys.path.append(\"../..\")\n",
        "from keras_utils import reset_tf_session\n",
        "s = reset_tf_session()\n",
        "print(\"We're using TF\", tf.__version__)"
      ],
      "execution_count": 2,
      "outputs": [
        {
          "output_type": "stream",
          "text": [
            "Using TensorFlow backend.\n"
          ],
          "name": "stderr"
        },
        {
          "output_type": "stream",
          "text": [
            "We're using TF 1.10.1\n"
          ],
          "name": "stdout"
        }
      ]
    },
    {
      "metadata": {
        "id": "8Q7hcXw2zGjI",
        "colab_type": "text"
      },
      "cell_type": "markdown",
      "source": [
        "# Warming up\n",
        "For starters, let's implement a python function that computes the sum of squares of numbers from 0 to N-1."
      ]
    },
    {
      "metadata": {
        "id": "TWGun5qgzGjJ",
        "colab_type": "code",
        "colab": {}
      },
      "cell_type": "code",
      "source": [
        "import numpy as np\n",
        "\n",
        "def sum_python(N):\n",
        "    return np.sum(np.arange(N)**2)"
      ],
      "execution_count": 0,
      "outputs": []
    },
    {
      "metadata": {
        "id": "-gSFMvcuzGjN",
        "colab_type": "code",
        "colab": {
          "base_uri": "https://localhost:8080/",
          "height": 68
        },
        "outputId": "9cfbcd9b-d411-4013-8c0d-d1a8b86e404b"
      },
      "cell_type": "code",
      "source": [
        "%%time\n",
        "sum_python(10**5)"
      ],
      "execution_count": 4,
      "outputs": [
        {
          "output_type": "stream",
          "text": [
            "CPU times: user 589 µs, sys: 2.9 ms, total: 3.49 ms\n",
            "Wall time: 5.15 ms\n"
          ],
          "name": "stdout"
        },
        {
          "output_type": "execute_result",
          "data": {
            "text/plain": [
              "333328333350000"
            ]
          },
          "metadata": {
            "tags": []
          },
          "execution_count": 4
        }
      ]
    },
    {
      "metadata": {
        "id": "EZOR6Ek7zGjS",
        "colab_type": "text"
      },
      "cell_type": "markdown",
      "source": [
        "# Tensoflow teaser\n",
        "\n",
        "Doing the very same thing"
      ]
    },
    {
      "metadata": {
        "id": "0NifUczjzGjT",
        "colab_type": "code",
        "colab": {}
      },
      "cell_type": "code",
      "source": [
        "# An integer parameter\n",
        "N = tf.placeholder('int64', name=\"input_to_your_function\")\n",
        "\n",
        "# A recipe on how to produce the same result\n",
        "result = tf.reduce_sum(tf.range(N)**2)"
      ],
      "execution_count": 0,
      "outputs": []
    },
    {
      "metadata": {
        "id": "w61VpQHszGjW",
        "colab_type": "code",
        "colab": {
          "base_uri": "https://localhost:8080/",
          "height": 34
        },
        "outputId": "cba78907-3f4d-4bb1-9bfa-b36731dc3b4b"
      },
      "cell_type": "code",
      "source": [
        "# just a graph definition\n",
        "result"
      ],
      "execution_count": 6,
      "outputs": [
        {
          "output_type": "execute_result",
          "data": {
            "text/plain": [
              "<tf.Tensor 'Sum:0' shape=() dtype=int64>"
            ]
          },
          "metadata": {
            "tags": []
          },
          "execution_count": 6
        }
      ]
    },
    {
      "metadata": {
        "id": "cCm6V4LPzGjZ",
        "colab_type": "code",
        "colab": {
          "base_uri": "https://localhost:8080/",
          "height": 68
        },
        "outputId": "54e8542a-315a-463a-b7e8-d2e3fe23b5af"
      },
      "cell_type": "code",
      "source": [
        "%%time\n",
        "# actually executing\n",
        "result.eval({N: 10**5})"
      ],
      "execution_count": 7,
      "outputs": [
        {
          "output_type": "stream",
          "text": [
            "CPU times: user 4.43 ms, sys: 783 µs, total: 5.21 ms\n",
            "Wall time: 9.31 ms\n"
          ],
          "name": "stdout"
        },
        {
          "output_type": "execute_result",
          "data": {
            "text/plain": [
              "333328333350000"
            ]
          },
          "metadata": {
            "tags": []
          },
          "execution_count": 7
        }
      ]
    },
    {
      "metadata": {
        "id": "QD0crnuPzGjf",
        "colab_type": "code",
        "colab": {}
      },
      "cell_type": "code",
      "source": [
        "# logger for tensorboard\n",
        "writer = tf.summary.FileWriter(\"tensorboard_logs\", graph=s.graph)"
      ],
      "execution_count": 0,
      "outputs": []
    },
    {
      "metadata": {
        "id": "JRLCjCrgzGji",
        "colab_type": "text"
      },
      "cell_type": "markdown",
      "source": [
        "# How does it work?\n",
        "1. Define placeholders where you'll send inputs\n",
        "2. Make a symbolic graph: a recipe for mathematical transformation of those placeholders\n",
        "3. Compute outputs of your graph with particular values for each placeholder\n",
        "  * `output.eval({placeholder: value})`\n",
        "  * `s.run(output, {placeholder: value})`\n",
        "\n",
        "So far there are two main entities: \"placeholder\" and \"transformation\" (operation output)\n",
        "* Both can be numbers, vectors, matrices, tensors, etc.\n",
        "* Both can be int32/64, floats, booleans (uint8) of various size.\n",
        "\n",
        "* You can define new transformations as an arbitrary operation on placeholders and other transformations\n",
        " * `tf.reduce_sum(tf.arange(N)**2)` are 3 sequential transformations of placeholder `N`\n",
        " * There's a tensorflow symbolic version for every numpy function\n",
        "   * `a+b, a/b, a**b, ...` behave just like in numpy\n",
        "   * `np.mean` -> `tf.reduce_mean`\n",
        "   * `np.arange` -> `tf.range`\n",
        "   * `np.cumsum` -> `tf.cumsum`\n",
        "   * If you can't find the operation you need, see the [docs](https://www.tensorflow.org/versions/r1.3/api_docs/python).\n",
        "   \n",
        "`tf.contrib` has many high-level features, may be worth a look."
      ]
    },
    {
      "metadata": {
        "id": "NPsoIZY1zGjk",
        "colab_type": "code",
        "colab": {}
      },
      "cell_type": "code",
      "source": [
        "with tf.name_scope(\"Placeholders_examples\"):\n",
        "    # Default placeholder that can be arbitrary float32\n",
        "    # scalar, vertor, matrix, etc.\n",
        "    arbitrary_input = tf.placeholder('float32')\n",
        "\n",
        "    # Input vector of arbitrary length\n",
        "    input_vector = tf.placeholder('float32', shape=(None,))\n",
        "\n",
        "    # Input vector that _must_ have 10 elements and integer type\n",
        "    fixed_vector = tf.placeholder('int32', shape=(10,))\n",
        "\n",
        "    # Matrix of arbitrary n_rows and 15 columns\n",
        "    # (e.g. a minibatch of your data table)\n",
        "    input_matrix = tf.placeholder('float32', shape=(None, 15))\n",
        "    \n",
        "    # You can generally use None whenever you don't need a specific shape\n",
        "    input1 = tf.placeholder('float64', shape=(None, 100, None))\n",
        "    input2 = tf.placeholder('int32', shape=(None, None, 3, 224, 224))\n",
        "\n",
        "    # elementwise multiplication\n",
        "    double_the_vector = input_vector*2\n",
        "\n",
        "    # elementwise cosine\n",
        "    elementwise_cosine = tf.cos(input_vector)\n",
        "\n",
        "    # difference between squared vector and vector itself plus one\n",
        "    vector_squares = input_vector**2 - input_vector + 1"
      ],
      "execution_count": 0,
      "outputs": []
    },
    {
      "metadata": {
        "id": "q_TZG4llzGjq",
        "colab_type": "code",
        "colab": {}
      },
      "cell_type": "code",
      "source": [
        "my_vector =  tf.placeholder('float32', shape=(None,), name=\"VECTOR_1\")\n",
        "my_vector2 = tf.placeholder('float32', shape=(None,))\n",
        "my_transformation = my_vector * my_vector2 / (tf.sin(my_vector) + 1)"
      ],
      "execution_count": 0,
      "outputs": []
    },
    {
      "metadata": {
        "id": "DzDs_Xi6zGjt",
        "colab_type": "code",
        "colab": {
          "base_uri": "https://localhost:8080/",
          "height": 34
        },
        "outputId": "0069f19a-bee3-4344-fdb8-896cd80701b6"
      },
      "cell_type": "code",
      "source": [
        "print(my_transformation)"
      ],
      "execution_count": 11,
      "outputs": [
        {
          "output_type": "stream",
          "text": [
            "Tensor(\"truediv:0\", shape=(?,), dtype=float32)\n"
          ],
          "name": "stdout"
        }
      ]
    },
    {
      "metadata": {
        "id": "j4P0FFi6zGjw",
        "colab_type": "code",
        "colab": {
          "base_uri": "https://localhost:8080/",
          "height": 68
        },
        "outputId": "d00af63c-250d-4055-933e-a548b9a9cb64"
      },
      "cell_type": "code",
      "source": [
        "dummy = np.arange(5).astype('float32')\n",
        "print(dummy)\n",
        "my_transformation.eval({my_vector: dummy, my_vector2: dummy[::-1]})"
      ],
      "execution_count": 12,
      "outputs": [
        {
          "output_type": "stream",
          "text": [
            "[0. 1. 2. 3. 4.]\n"
          ],
          "name": "stdout"
        },
        {
          "output_type": "execute_result",
          "data": {
            "text/plain": [
              "array([0.       , 1.6291324, 2.0950115, 2.6289961, 0.       ],\n",
              "      dtype=float32)"
            ]
          },
          "metadata": {
            "tags": []
          },
          "execution_count": 12
        }
      ]
    },
    {
      "metadata": {
        "id": "VUeF5obMzGj0",
        "colab_type": "code",
        "colab": {}
      },
      "cell_type": "code",
      "source": [
        "writer.add_graph(my_transformation.graph)\n",
        "writer.flush()"
      ],
      "execution_count": 0,
      "outputs": []
    },
    {
      "metadata": {
        "id": "ZGVvNjiezGj1",
        "colab_type": "text"
      },
      "cell_type": "markdown",
      "source": [
        "TensorBoard allows writing scalars, images, audio, histogram. You can read more on tensorboard usage [here](https://www.tensorflow.org/get_started/graph_viz)."
      ]
    },
    {
      "metadata": {
        "id": "QA0Rn6kHzGj2",
        "colab_type": "text"
      },
      "cell_type": "markdown",
      "source": [
        "# Summary\n",
        "* Tensorflow is based on computation graphs\n",
        "* A graph consists of placeholders and transformations"
      ]
    },
    {
      "metadata": {
        "id": "Eb1ROSpSzGj3",
        "colab_type": "text"
      },
      "cell_type": "markdown",
      "source": [
        "# Loss function: Mean Squared Error\n",
        "\n",
        "Loss function must be a part of the graph as well, so that we can do backpropagation."
      ]
    },
    {
      "metadata": {
        "id": "a3SEer_1zGj4",
        "colab_type": "code",
        "colab": {}
      },
      "cell_type": "code",
      "source": [
        "with tf.name_scope(\"MSE\"):\n",
        "    y_true = tf.placeholder(\"float32\", shape=(None,), name=\"y_true\")\n",
        "    y_predicted = tf.placeholder(\"float32\", shape=(None,), name=\"y_predicted\")\n",
        "    # Implement MSE(y_true, y_predicted), use tf.reduce_mean(...)\n",
        "    # mse = ### YOUR CODE HERE ###\n",
        "  \n",
        "    mse = tf.reduce_mean(tf.square(y_true - y_predicted))\n",
        "    \n",
        "def compute_mse(vector1, vector2):\n",
        "    return mse.eval({y_true: vector1, y_predicted: vector2})"
      ],
      "execution_count": 0,
      "outputs": []
    },
    {
      "metadata": {
        "id": "TDGVGO5gzGj5",
        "colab_type": "code",
        "colab": {}
      },
      "cell_type": "code",
      "source": [
        "writer.add_graph(mse.graph)\n",
        "writer.flush()"
      ],
      "execution_count": 0,
      "outputs": []
    },
    {
      "metadata": {
        "id": "t1gjbTRNtrAd",
        "colab_type": "code",
        "colab": {}
      },
      "cell_type": "code",
      "source": [
        ""
      ],
      "execution_count": 0,
      "outputs": []
    },
    {
      "metadata": {
        "id": "gQqeWXb1zGj8",
        "colab_type": "code",
        "colab": {}
      },
      "cell_type": "code",
      "source": [
        "# Rigorous local testing of MSE implementation\n",
        "import sklearn.metrics\n",
        "for n in [1, 5, 10, 10**3]:\n",
        "    elems = [np.arange(n), np.arange(n, 0, -1), np.zeros(n),\n",
        "             np.ones(n), np.random.random(n), np.random.randint(100, size=n)]\n",
        "    #print(elems)\n",
        "    for el in elems:\n",
        "        for el_2 in elems:\n",
        "            true_mse = np.array(sklearn.metrics.mean_squared_error(el, el_2))\n",
        "            my_mse = compute_mse(el, el_2)\n",
        "            if not np.allclose(true_mse, my_mse):\n",
        "                print('mse(%s,%s)' % (el, el_2))\n",
        "                print(\"should be: %f, but your function returned %f\" % (true_mse, my_mse))\n",
        "                raise ValueError('Wrong result')"
      ],
      "execution_count": 0,
      "outputs": []
    },
    {
      "metadata": {
        "id": "uUDrBIlezGkA",
        "colab_type": "text"
      },
      "cell_type": "markdown",
      "source": [
        "# Variables\n",
        "\n",
        "Placeholder and transformation values are not stored in the graph once the execution is finished. This isn't too comfortable if you want your model to have parameters (e.g. network weights) that are always present, but can change their value over time.\n",
        "\n",
        "Tensorflow solves this with `tf.Variable` objects.\n",
        "* You can assign variable a value at any time in your graph\n",
        "* Unlike placeholders, there's no need to explicitly pass values to variables when `s.run(...)`-ing\n",
        "* You can use variables the same way you use transformations \n",
        " "
      ]
    },
    {
      "metadata": {
        "id": "1DlDHQRCzGkB",
        "colab_type": "code",
        "colab": {}
      },
      "cell_type": "code",
      "source": [
        "# Creating a shared variable\n",
        "shared_vector_1 = tf.Variable(initial_value=np.ones(5),\n",
        "                              name=\"example_variable\")"
      ],
      "execution_count": 0,
      "outputs": []
    },
    {
      "metadata": {
        "id": "SY0x-l2tzGkE",
        "colab_type": "code",
        "colab": {
          "base_uri": "https://localhost:8080/",
          "height": 34
        },
        "outputId": "406f603b-6266-496c-8d66-81b79c3c14d6"
      },
      "cell_type": "code",
      "source": [
        "# Initialize variable(s) with initial values\n",
        "s.run(tf.global_variables_initializer())\n",
        "\n",
        "# Evaluating the shared variable\n",
        "print(\"Initial value\", s.run(shared_vector_1))"
      ],
      "execution_count": 34,
      "outputs": [
        {
          "output_type": "stream",
          "text": [
            "Initial value [1. 1. 1. 1. 1.]\n"
          ],
          "name": "stdout"
        }
      ]
    },
    {
      "metadata": {
        "id": "Bu0TLZigzGkK",
        "colab_type": "code",
        "colab": {
          "base_uri": "https://localhost:8080/",
          "height": 34
        },
        "outputId": "d37152be-5ad7-4de7-b831-732b0473f277"
      },
      "cell_type": "code",
      "source": [
        "# Setting a new value\n",
        "s.run(shared_vector_1.assign(np.arange(5)))\n",
        "\n",
        "# Getting that new value\n",
        "print(\"New value\", s.run(shared_vector_1))"
      ],
      "execution_count": 35,
      "outputs": [
        {
          "output_type": "stream",
          "text": [
            "New value [0. 1. 2. 3. 4.]\n"
          ],
          "name": "stdout"
        }
      ]
    },
    {
      "metadata": {
        "id": "gPbcm1mrzGkO",
        "colab_type": "text"
      },
      "cell_type": "markdown",
      "source": [
        "# tf.gradients - why graphs matter\n",
        "* Tensorflow can compute derivatives and gradients automatically using the computation graph\n",
        "* True to its name it can manage matrix derivatives\n",
        "* Gradients are computed as a product of elementary derivatives via the chain rule:\n",
        "\n",
        "$$ {\\partial f(g(x)) \\over \\partial x} = {\\partial f(g(x)) \\over \\partial g(x)}\\cdot {\\partial g(x) \\over \\partial x} $$\n",
        "\n",
        "It can get you the derivative of any graph as long as it knows how to differentiate elementary operations"
      ]
    },
    {
      "metadata": {
        "id": "wvaChNCAzGkP",
        "colab_type": "code",
        "colab": {}
      },
      "cell_type": "code",
      "source": [
        "my_scalar = tf.placeholder('float32')\n",
        "\n",
        "scalar_squared = my_scalar**2\n",
        "\n",
        "# A derivative of scalar_squared by my_scalar\n",
        "derivative = tf.gradients(scalar_squared, [my_scalar, ])"
      ],
      "execution_count": 0,
      "outputs": []
    },
    {
      "metadata": {
        "id": "UYzSuwi7zGkS",
        "colab_type": "code",
        "colab": {
          "base_uri": "https://localhost:8080/",
          "height": 34
        },
        "outputId": "b7c07e0b-3403-48bc-d41b-879a1e4bfb68"
      },
      "cell_type": "code",
      "source": [
        "derivative"
      ],
      "execution_count": 37,
      "outputs": [
        {
          "output_type": "execute_result",
          "data": {
            "text/plain": [
              "[<tf.Tensor 'gradients/pow_1_grad/Reshape:0' shape=<unknown> dtype=float32>]"
            ]
          },
          "metadata": {
            "tags": []
          },
          "execution_count": 37
        }
      ]
    },
    {
      "metadata": {
        "id": "ApAAorl4zGkX",
        "colab_type": "code",
        "colab": {
          "base_uri": "https://localhost:8080/",
          "height": 265
        },
        "outputId": "6ceb4679-4c83-42d6-af37-3b692ede341f"
      },
      "cell_type": "code",
      "source": [
        "import matplotlib.pyplot as plt\n",
        "%matplotlib inline\n",
        "\n",
        "x = np.linspace(-3, 3)\n",
        "x_squared, x_squared_der = s.run([scalar_squared, derivative[0]],\n",
        "                                 {my_scalar:x})\n",
        "\n",
        "plt.plot(x, x_squared,label=\"$x^2$\")\n",
        "plt.plot(x, x_squared_der, label=r\"$\\frac{dx^2}{dx}$\")\n",
        "plt.legend();"
      ],
      "execution_count": 38,
      "outputs": [
        {
          "output_type": "display_data",
          "data": {
            "image/png": "[encoded data removed]",
            "text/plain": [
              "<matplotlib.figure.Figure at 0x7ff7772061d0>"
            ]
          },
          "metadata": {
            "tags": []
          }
        }
      ]
    },
    {
      "metadata": {
        "id": "7WrrYb7_zGkZ",
        "colab_type": "text"
      },
      "cell_type": "markdown",
      "source": [
        "# Why that rocks"
      ]
    },
    {
      "metadata": {
        "id": "mAlP5Ly0zGka",
        "colab_type": "code",
        "colab": {}
      },
      "cell_type": "code",
      "source": [
        "my_vector = tf.placeholder('float32', [None])\n",
        "# Compute the gradient of the next weird function over my_scalar and my_vector\n",
        "# Warning! Trying to understand the meaning of that function may result in permanent brain damage\n",
        "weird_psychotic_function = tf.reduce_mean(\n",
        "    (my_vector+my_scalar)**(1+tf.nn.moments(my_vector,[0])[1]) + \n",
        "    1./ tf.atan(my_scalar))/(my_scalar**2 + 1) + 0.01*tf.sin(\n",
        "    2*my_scalar**1.5)*(tf.reduce_sum(my_vector)* my_scalar**2\n",
        "                      )*tf.exp((my_scalar-4)**2)/(\n",
        "    1+tf.exp((my_scalar-4)**2))*(1.-(tf.exp(-(my_scalar-4)**2)\n",
        "                                    )/(1+tf.exp(-(my_scalar-4)**2)))**2\n",
        "\n",
        "der_by_scalar = tf.gradients(weird_psychotic_function, my_scalar)\n",
        "der_by_vector = tf.gradients(weird_psychotic_function, my_vector)"
      ],
      "execution_count": 0,
      "outputs": []
    },
    {
      "metadata": {
        "id": "Y-61-jLezGkc",
        "colab_type": "code",
        "colab": {
          "base_uri": "https://localhost:8080/",
          "height": 265
        },
        "outputId": "b308d4aa-0ced-4e74-e7d7-a9ba0af1268f"
      },
      "cell_type": "code",
      "source": [
        "# Plotting the derivative\n",
        "scalar_space = np.linspace(1, 7, 100)\n",
        "\n",
        "y = [s.run(weird_psychotic_function, {my_scalar:x, my_vector:[1, 2, 3]})\n",
        "     for x in scalar_space]\n",
        "\n",
        "plt.plot(scalar_space, y, label='function')\n",
        "\n",
        "y_der_by_scalar = [s.run(der_by_scalar,\n",
        "                         {my_scalar:x, my_vector:[1, 2, 3]})\n",
        "                   for x in scalar_space]\n",
        "\n",
        "plt.plot(scalar_space, y_der_by_scalar, label='derivative')\n",
        "plt.grid()\n",
        "plt.legend();"
      ],
      "execution_count": 40,
      "outputs": [
        {
          "output_type": "display_data",
          "data": {
            "image/png": "[encoded data removed]",
            "text/plain": [
              "<matplotlib.figure.Figure at 0x7ff75785f2e8>"
            ]
          },
          "metadata": {
            "tags": []
          }
        }
      ]
    },
    {
      "metadata": {
        "id": "0zUVdG-6zGkf",
        "colab_type": "text"
      },
      "cell_type": "markdown",
      "source": [
        "# Almost done - optimizers\n",
        "\n",
        "While you can perform gradient descent by hand with automatic gradients from above, tensorflow also has some optimization methods implemented for you. Recall momentum & rmsprop?"
      ]
    },
    {
      "metadata": {
        "id": "j7FmVJcbzGkf",
        "colab_type": "code",
        "colab": {}
      },
      "cell_type": "code",
      "source": [
        "y_guess = tf.Variable(np.zeros(2, dtype='float32'))\n",
        "y_true = tf.range(1, 3, dtype='float32')\n",
        "\n",
        "loss = tf.reduce_mean((y_guess - y_true + 0.5*tf.random_normal([2]))**2) \n",
        "\n",
        "step = tf.train.MomentumOptimizer(0.03, 0.5).minimize(loss, var_list=y_guess)"
      ],
      "execution_count": 0,
      "outputs": []
    },
    {
      "metadata": {
        "id": "w--oKL_SzGki",
        "colab_type": "text"
      },
      "cell_type": "markdown",
      "source": [
        "Let's draw a trajectory of a gradient descent in 2D"
      ]
    },
    {
      "metadata": {
        "id": "ebVxlhkGzGkk",
        "colab_type": "code",
        "colab": {
          "base_uri": "https://localhost:8080/",
          "height": 269
        },
        "outputId": "c73b5257-c333-4e75-fbd3-62238a987661"
      },
      "cell_type": "code",
      "source": [
        "from matplotlib import animation, rc\n",
        "import matplotlib_utils\n",
        "from IPython.display import HTML, display_html\n",
        "\n",
        "# nice figure settings\n",
        "fig, ax = plt.subplots()\n",
        "y_true_value = s.run(y_true)\n",
        "level_x = np.arange(0, 2, 0.02)\n",
        "level_y = np.arange(0, 3, 0.02)\n",
        "X, Y = np.meshgrid(level_x, level_y)\n",
        "Z = (X - y_true_value[0])**2 + (Y - y_true_value[1])**2\n",
        "ax.set_xlim(-0.02, 2)\n",
        "ax.set_ylim(-0.02, 3)\n",
        "s.run(tf.global_variables_initializer())\n",
        "ax.scatter(*s.run(y_true), c='red')\n",
        "contour = ax.contour(X, Y, Z, 10)\n",
        "ax.clabel(contour, inline=1, fontsize=10)\n",
        "line, = ax.plot([], [], lw=2)\n",
        "\n",
        "# start animation with empty trajectory\n",
        "def init():\n",
        "    line.set_data([], [])\n",
        "    return (line,)\n",
        "\n",
        "trajectory = [s.run(y_guess)]\n",
        "\n",
        "# one animation step (make one GD step)\n",
        "def animate(i):\n",
        "    s.run(step)\n",
        "    trajectory.append(s.run(y_guess))\n",
        "    line.set_data(*zip(*trajectory))\n",
        "    return (line,)\n",
        "\n",
        "anim = animation.FuncAnimation(fig, animate, init_func=init,\n",
        "                               frames=100, interval=20, blit=True)"
      ],
      "execution_count": 43,
      "outputs": [
        {
          "output_type": "display_data",
          "data": {
            "image/png": "[encoded data removed]",
            "text/plain": [
              "<matplotlib.figure.Figure at 0x7ff756992080>"
            ]
          },
          "metadata": {
            "tags": []
          }
        }
      ]
    },
    {
      "metadata": {
        "id": "IUL9YV_DzGkm",
        "colab_type": "code",
        "colab": {
          "base_uri": "https://localhost:8080/",
          "height": 309
        },
        "outputId": "2d44118e-8d4e-4738-c83f-3e6dcb015124"
      },
      "cell_type": "code",
      "source": [
        "try:\n",
        "    display_html(HTML(anim.to_html5_video()))\n",
        "except (RuntimeError, KeyError):\n",
        "    # In case the build-in renderers are unaviable, fall back to\n",
        "    # a custom one, that doesn't require external libraries\n",
        "    anim.save(None, writer=matplotlib_utils.SimpleMovieWriter(0.001))"
      ],
      "execution_count": 44,
      "outputs": [
        {
          "output_type": "display_data",
          "data": {
            "text/html": [
              "<img src=\"data:image/jpeg;base64,/9j/4AAQSkZJRgABAQEASABIAAD/2wBDAAIBAQEBAQIBAQECAgICAgQDAgICAgUEBAMEBgUGBgYFBgYGBwkIBgcJBwYGCAsICQoKCgoKBggLDAsKDAkKCgr/2wBDAQICAgICAgUDAwUKBwYHCgoKCgoKCgoKCgoKCgoKCgoKCgoKCgoKCgoKCgoKCgoKCgoKCgoKCgoKCgoKCgoKCgr/wAARCAEgAbADASIAAhEBAxEB/8QAHwAAAQUBAQEBAQEAAAAAAAAAAAECAwQFBgcICQoL/8QAtRAAAgEDAwIEAwUFBAQAAAF9AQIDAAQRBRIhMUEGE1FhByJxFDKBkaEII0KxwRVS0fAkM2JyggkKFhcYGRolJicoKSo0NTY3ODk6Q0RFRkdISUpTVFVWV1hZWmNkZWZnaGlqc3R1dnd4eXqDhIWGh4iJipKTlJWWl5iZmqKjpKWmp6ipqrKztLW2t7i5usLDxMXGx8jJytLT1NXW19jZ2uHi4%2BTl5ufo6erx8vP09fb3%2BPn6/8QAHwEAAwEBAQEBAQEBAQAAAAAAAAECAwQFBgcICQoL/8QAtREAAgECBAQDBAcFBAQAAQJ3AAECAxEEBSExBhJBUQdhcRMiMoEIFEKRobHBCSMzUvAVYnLRChYkNOEl8RcYGRomJygpKjU2Nzg5OkNERUZHSElKU1RVVldYWVpjZGVmZ2hpanN0dXZ3eHl6goOEhYaHiImKkpOUlZaXmJmaoqOkpaanqKmqsrO0tba3uLm6wsPExcbHyMnK0tPU1dbX2Nna4uPk5ebn6Onq8vP09fb3%2BPn6/9oADAMBAAIRAxEAPwD9/KKKKACiiigAooooAKKKKACiiigAooooAKKKKACiiigAooooAKKKKACiiigAooooAKKKKACiiigAooooAKKKKACiiigAooooAKKKKACiiigAooooAKKKKACiiigAooooAKKKKACiiigAooooAKKKKACiiigAornLb4wfCS8%2BIk/wgs/ij4cl8W20Hn3PhePW7dtRii2q29rYP5qrtdGyVxhlPcU/Q/ix8LPE3jXU/ht4b%2BJXh/UPEeioH1nQLHWYJb2wU4wZoFcyRA7l5YD7w9aAOgooooAKKKKACiiigAooooAKKKKACiiigAooooAKKKKACiiigAooooAKKKKACiiigAooooAKKKKACiiigAooooAKKKKACiiigAooooAKKKKACiiigAooooAKKKKACiiigAooooAKKKKAPlvx7dXd3%2B2N4I1jR/hX43s7bwr4z1KXxBpo8CyNopjn0a8iXxJBfWltm5vJHuLeyMLTylY5pi1ujRGdM39nnwR46svjj4P8LX3w81/T7/wV4m%2BIl/4r1%2B%2B0OeCyu7bVNXkntBDdugiuzciW3uSkTuY/sxWURuqqfraigCrrWpHSNMk1EQ%2BZ5e35N2M5YDr%2BNY154/8Askoi/sndmJHz5%2BPvIGx933xV/wAZ/wDItXP/AAD/ANDWuN1j/j7T/r1g/wDRSVvShGS1JbaN7/hZP/UF/wDJn/7Gmy/E6OCMyy6QFVRkk3PT/wAdrkZrySG9SB4cRuMCTP8AF6YqheRS27zRtJCzTPhN7EyFWPAHPQHt6CrdOmugJs7OT4uF3CWOgiTClnDXJUgAjIAKdee9WoficlxCs8WjZV1BU/aOx/4DXEx2F1PdtduDA4UbWGGDNggn6EbfyFXbaBbWBbdCSFGMnvQqUeqBs6OL4j629x9om8NRR2Zd40Y3mXdl2nPC8DDDrVj/AIWT/wBQX/yZ/wDsawZv%2BQLb/wDX1N/6DFVWmqUBXZ1H/Cyf%2BoL/AOTP/wBjR/wsn/qC/wDkz/8AY1y9Kqs5wqkn2FP2VPsF2dP/AMLJ/wCoL/5M/wD2NSp4/wB9lJef2T/q5UTb5/XcGOfu/wCz%2BtcsLZxzIyp/vGrEQRdKmwd6faIt3Y52yYx7df0qHCl0Q7s3P%2BFk/wDUF/8AJn/7GlHxHJ6aIT9Lj/7Gua85F/1cCj3PNIbmcjHmED0HFP2cX0/ELnUD4gTkZ/sEge9zj/2Wl/4WCR9/S0H/AG9f4LXKEk9ST9aSj2KDmOui8ei4cxxaaCwRm/13ZVLH%2BH0FQH4iyBwRp6svddxBP4//AFqwtH/4%2B3/69Z//AEU9VaFRhcOZnUf8LJ/6gv8A5M//AGNH/Cyf%2BoL/AOTP/wBjXL0VXsqfYV2dR/wsn/qC/wDkz/8AY1LY%2BP8A7bew2f8AZO3zZVTd5%2BcZOM/drkqtaH/yGrP/AK%2Bo/wD0IUnShbYLs3v%2BFk/9QX/yZ/8AsaP%2BFk/9QX/yZ/8Asa5ein7Kn2C7Oo/4WT/1Bf8AyZ/%2Bxo/4WT/1Bf8AyZ/%2Bxrl6KPZU%2BwXZ08fxEf8A5a2Kn6Ej/GrFx48FtO9tJpqh43KuDOeoOD/DXIVa1z/kNXn/AF9Sf%2BhGp9jC4%2BZnQP8AEXYcf2Qrf7tz/wDY0xviNJINsWkqrHoWmyPywK5ilRyhyAD9RT9lGwrs6hPiNuHzaP7f8fH/ANjSn4iMBn%2Bxfw%2B0/wD2NcusgAwV75HNOWRd27PJx%2BFS6aT2Hc6m4%2BIIgjiYaUGMkZZl%2B0fdO5hj7vtn8ai/4WT/ANQX/wAmf/sa5%2B9V0t7UNjBgJUjuPMf%2BoNQrDI670Qke1NU6drsLs6b/AIWT/wBQX/yZ/wDsaP8AhZP/AFBf/Jn/AOxrlyCOCKKr2VPsK7Oo/wCFk/8AUF/8mf8A7Gq9p8SNbDM%2Bo%2BGYhC0jiGeK84OMHaQVznDDnpXP1am/5Atv/wBfU3/oMVJ0oaBdm8fiTgZ/sb/yZ/8Asaq23xaDWJvrzQ1iUE8i6JGM8fwVzl3btdQNCs7xkj7yY/rVa6t5UtY7d4GkVCDm3O0gjG04J9fr2pOlBdB3Z2kPxPiuEEsGlK6nut1n/wBlp3/Cyf8AqC/%2BTP8A9jXn8l1NGhmurgrLHIF2o2OgDOxA68A%2B3NXrO7upJzDdRopMQcKucrnsfehQpvoGp6D4d8W/29etZ/2f5W2Ivu83dnBAx0HrWzXG/Dz/AJDUv/Xq3/oS12VY1YqM7Ia1QUUUVmMKKKKACiiigAooooAKKKKAMvxn/wAi1c/8A/8AQ1rg7zV7O/1VrW0Lv5NtCskgQ7QwjUFc%2Bua7zxn/AMi1c/8AAP8A0Na43VwBdpgY/wBFg/8ARSV00diWZ97afbIhEZmTDA7kAzx6Z6U%2BKFIlCrk4/iY5P5mn0VtZXJCjr0op%2BM4eNeR1FDdgLMij%2BxoFdsYupf1WP/Cq7IANpA%2B7kEetTSkLpkTBchriTk/7qcfrVYuxJwcZ7ZqEpMegA4IJGcHoac1xKw2hto9FGKZRVtJ7iDr1q1D/AMgW4/6%2Bof8A0GWqtWof%2BQLcf9fUP/oMtDAq0UU%2BC2ubp/LtoHkb%2B6ikn9KYDKK0V8M6ig338kFqp73EwB/IZNH2Hw7bf8fOsyzEdVtoMfq1TzLoOxBo/wDx9v8A9es//op6q1s6bd6BHcstppErkW8p3z3HUCNiRhR3HH41X/4SHy/%2BPXRrGP0Pkbj%2BbE0ru%2BwGcAScAVKljey/6uzlb/djJq4fFWu4xHeCMekcSr/IVE/iDXJPvatcf8BlI/lT94NBq6JrL/d0m5P/AGwb/CrWj6HrMWrWs0ulzqq3KFmaIgABhzVJtV1N/v6jOfrM3%2BNWNFvbx9ZtFe7lINzGCDIefmFJ81g0GHQNcHXSLn/vyaY2j6un39LuR9YG/wAKjF/fDpey/wDfw09dX1ZPuancD6Tt/jT98NCN7W6j/wBZbSL/ALyEVHV1PEmvR/d1ac/7z5/nUn/CVaw3E8sUw9JbdD/Sj3g0M6rWuf8AIavP%2BvqT/wBCNT/27bS8XegWT%2BpjQof0NWNVm8Nyarcpd2d1E4uHDSQyhgx3HnBH6Uru%2BwGNRWj/AGVo1x/x5a%2Bik9Euoin6jIps3hrWI082K2E6f37dw4/TmnzRCzKFFK6PGxSRCpHUEYIpKoRa1D/j0sf%2BvU/%2BjZKqglTkHB9qtah/x6WP/Xqf/RslVaS2AkFw5GJQHH%2B0KMW8n3WKH0PIqOilyrpoO494ZEG4jI/vDkVPN/yBbf8A6%2Bpv/QYqrpI8ZyjkfSrUhEmlwvM%2B1TcShQq9DtTJ/HI/Kk3JbhoU6KfJC8Y3cFT0YdKZVJp7CI57S3uFdXjGZF2swHOPrSW1oltubezu5%2Bd3PJ9OlS0UWVwN74dnOtSnH/Lq3/oS12Vcb8PP%2BQ1L/wBerf8AoS12Vctb4y47BRRRWQwooooAKKKKACiiigDxj9oD4v8Axy%2BFfxN8KweG28IXGg%2BIPE2jaLY%2BG5bO6n1vWHuLorqNxDIsscVrHZWe68OYp/MS3lDGH5ScbRf2lviHJ%2B1/4i%2BDvjbxVovh/wAOWPiu30fwvZXnw41VpdeEmhWl%2BSmtfalsUm8%2Ba5VYPKLslowALEsOs8YfsvS%2BJvju37QWkfHvxroOrHQoNIjsdNttGntYLRJWmdIvtunTyw%2Bc7KZikimTyYc/6qPbPrH7MmneJPiVp3j/AMVfF7xpqllpms22sW3hO9vbRtMGpQWv2eO6AFsJ0wP3vkJMtv52ZPK3EkgHd%2BLoZrjw9cQ28TO7bNqIuSfnXsK5TVdH1eS5Vo9KuWAtoRkQMeREoI6etdT4z/5Fq5/4B/6GtcbrH/H2n/XrB/6KSuijexLD%2Bw9a/wCgPdf%2BA7f4U2TSdThx5%2BnzxhjgGSIqCfxFQxxtIcDgDkk9qdJKAvlQ8L3Pc1q3K9kIsSaDrCnCaVdNxyRbt/hSf2LrgG0aTdY9Ps7f4VUop2dhGnLo%2BrnSIIhpVzuFzKSvkNkArHg9PY/lVb%2Bw9a/6A91/4Dt/hRN/yBbf/r6m/wDQYqq0K4Fr%2Bw9a/wCgPdf%2BA7f4Uf2HrX/QHuv/AAHb/CqtXNP0Wa8iN5PKtvbKfmnl6fQD%2BI/ShtrcBv8AYetf9Ae6/wDAdv8ACtLTfC%2BqXGlTJcwtbq08b5eMliFDg4Uc5%2BYVWOsWWmDytBtcP3u5wC5/3R0X%2BdQmee50m5muJmdzdQ5Z2yT8stS%2BdrsPQv8A9mwafxa%2BGr28kH/LS5gZU/BQOfxNRzz%2BMJk8mLT7mCPtFbWrIP0FY9FPl7hcttouuOxZtJuyT1Jgb/Ck/sPWv%2BgPdf8AgO3%2BFVaKrURp6Vo%2Brx3LNJpVyoNtMMtAw5MTADp61W/sPWv%2BgPdf%2BA7f4UaP/wAfb/8AXrP/AOinqrS1uBa/sPWv%2BgPdf%2BA7f4Uf2HrX/QHuv/Adv8Kq0U9QLX9h61/0B7r/AMB2/wAKs6Po%2Brxavayy6Vcqq3KFmaBgANw5PFZlWtD/AOQ1Z/8AX1H/AOhCk72YB/Yetf8AQHuv/Adv8KP7D1r/AKA91/4Dt/hVWinqBa/sPWv%2BgPdf%2BA7f4Uf2HrX/AEB7r/wHb/CqtFGoFr%2Bw9a/6A91/4Dt/hVnWNH1eXV7qWLSrlla5cqywMQRuPPSsyrWuf8hq8/6%2BpP8A0I0tbgH9h61/0B7r/wAB2/wp8OleIbd/Mt9NvUb%2B8kLg/oKpUU9QNtLnxQ6iLUdDlu0Ha4s2JH0YDNL/AGBbah/q9Mv7GQ/wvbtJH%2BeMisOip5X00Hc2NZ8OazbxWsK2MkvlwFWaFCwz5jnsPQiqP9h61/0B7r/wHb/Cp21K%2B02CxksrloybU7gDw372TqOhp4n0bWfluo1srg/8tox%2B6Y%2B6/wAP1FJOSQaFX%2Bw9a/6A91/4Dt/hR/Yetf8AQHuv/Adv8KbqGmXmmSiO7iwGGUdTlXHqD3qvVq7EWv7D1r/oD3X/AIDt/hVmXR9XOkQRDSrncLmUlfIbIBWPB6ex/KsyrU3/ACBbf/r6m/8AQYqTuA6PSNdiOU0m69x9nbB/SibRtREZmbTLiLby2%2BFgPzIqnR06UnF3uh3LKaPq8qCSPSrllIyGWBiD%2BlL/AGHrX/QHuv8AwHb/AAqIMs42SEBv4W9fY1GysjFWGCOopptuzA6PwJp2oWeryS3dhNEptiA0kRUZ3LxyK6yuN%2BHn/Ial/wCvVv8A0Ja7Kuat8ZS2CiiishhRRRQAUUUUAFFFFABRRRQBl%2BM/%2BRauf%2BAf%2BhrXHaqrPexoo5NrBj/v0ldj4z/5Fq5/4B/6Gtcjqn7uUSd2tYFX/v0ma6KTtEl7lWV1UeTGeB1PqajoordKyJCiiimBam/5Atv/ANfU3/oMVVatTf8AIFt/%2Bvqb/wBBiqTRbKCVpNRv1zbWq7nX%2B%2B38Kfiam9lcB9lp9rY2y6trKkq3NvbA4MvufRf51W1HU7vU5RJcuAqjEcajCoPQDtTdQv7jUrpru5b5m6AdFHYD2qGhLqxhVqH/AJAtx/19Q/8AoMtVatQ/8gW4/wCvqH/0GWmxFWiiimAUUUUAWtH/AOPt/wDr1n/9FPVWrWj/APH2/wD16z/%2BinqrS6gFFFFMAq1of/Ias/8Ar6j/APQhVWrWh/8AIas/%2BvqP/wBCFJ7MCrRRRTAKKKKACrWuf8hq8/6%2BpP8A0I1Vq1rn/IavP%2BvqT/0I0uoFWiiimAUUUUAWtQ/49LH/AK9T/wCjZKq1a1D/AI9LH/r1P/o2SqtJbAXdO1hraI2N7F59ox%2BaFjyvup7Gk1TShZql5Zzeday/6qXHIP8Adb0IqnV3RtRitXazvgWtLj5Zk/u%2BjD3FJq2qGUqtTf8AIFt/%2Bvqb/wBBipmp2EmmXr2cjBtp%2BVx0ZTyCPwp83/IFt/8Ar6m/9Bip3vYRVooopgFSj/SE2n76j5T6j0qKlVijBlPIPFKSuBu/Dz/kNS/9erf%2BhLXZVx3gBlfXZmVcA2zcf8CWuxrlq/GWtgooorIYUUUUAFFFFABRRRQBz2u/Fz4UeF/G2mfDTxN8TvD2neI9aTfo/h%2B/1qCG9v1ywzDA7iSUfK3Kg/dPoaWX4sfCyD4hx/CKb4leH08WTWn2qLww2swDUXgwT5ott/mlMKx3bcfKeeK8F/aS1fw/4k/aP0r4Yar8LfE%2BnaJaXnh/xJ4q8Z6H8MdX1J9eutPv2u9L0yK7srOWNEguIVnnkkf5EkWJF/fyvFz954S8bah%2B0TeeG7T4c%2BI/t%2Bq/tAaX42sfE8nh26Sxj0OPw3a20kr3bRiKKX9zPYfZmYT5kB8vy2L0AfU3jP8A5Fq5/wCAf%2BhrXFX0zzPHv/hhRfyUD%2Bldv4uMK%2BHrg3EbMnyblR9pPzr3IP8AKuNkk0sMPPs7hm2jlLlVGMehQ1vS6fMllOirXnaL/wBA%2B6/8DF/%2BN0edov8A0D7r/wADF/8AjddF/Ikq0Va87Rf%2Bgfdf%2BBi//G6PO0X/AKB91/4GL/8AG6L%2BQBN/yBbf/r6m/wDQYqsam32PRLLT04MoNxL75OF/QUssukf2RATY3O37TLgfalyDtjzzs%2BlTa7JpRWykks7hg1jHsK3KjAGRg/Icn3/SovqhmNRVrztF/wCgfdf%2BBi//ABujztF/6B91/wCBi/8Axurv5CKtWof%2BQLcf9fUP/oMtHnaL/wBA%2B6/8DF/%2BN1Zil0j%2ByJyLG52/aYsj7UuSdsmOdn1pNgZlFWvO0X/oH3X/AIGL/wDG6PO0X/oH3X/gYv8A8bp38gKtFWvO0X/oH3X/AIGL/wDG6PO0X/oH3X/gYv8A8bov5AGj/wDH2/8A16z/APop6q1p6VLpBuW8uxuQfs03LXSnjymz/B6VW87Rf%2Bgfdf8AgYv/AMbpX1Aq0Va87Rf%2Bgfdf%2BBi//G6%2BXPiV%2B0Hc/tj%2BKp/2bP2StVv7XSIptnj/AOIcUy%2BVa2fIa2siVBkmkwV8wDaByMgll7MJhKmLk7aRjrKT2iu7/Rbt6Lywr4iFCKvrJ7Lq35fq9ktWdL4%2B/bb0e48V3Hws/Zo8B3vxL8V27FLyPSJRFpunNkjNzeN%2B7XBHRc5IKllNYuuav/wUQ8E%2BHrj4peMviv8AB3w9Z6ZH9turW8069e2tkU52SSjLkDgfICSeFzkV2ni74hfs3fsH/C/RfAPhnwNqTTXWbbwx4V0NhNf6xcgLuOBFlmJZS8jf3h1JCn4u/wCCnXw//wCClvxl%2BGGj%2BOT8PJpNKn1GTHw%2B8JLJfXWjoUHlT3AiGbmYguu5QVj7BTIRXXicZgsrwE8ZKj%2B5jreUfaVKltLQgnb7lyx3lJ2aPQ4Z4ex3F3EeHyWjiIU61aSipTmqVGndN3qVJW0ST0b5pO0YxvJHsH7Of/BQX9qv4qeFb/Vm/ZYs/FEegyqNa1DQ/EMenuI5EMkUiWtzudgUG7IOGBBGORXvv7Mv7W3wi/as8PXOr/DbULhLzThGNW0i/h2T2ZfdtzjKup2thkYjjnB4r8%2Bfg5%2Byv8TfgR/wT3vvjr8XNc1jwP4/TXWi0ux1G%2Bkik1jSGRI1026tywLszeeyqwLeWu1l2YK/dP8AwT//AGatO/Zo%2BC/2DUNZvNRufEc0erXEAtVtFsWkiX9wFcPIdowCXYnI6LznRYjKs04fhmcKLozqWtDVOL%2B0pXumlo01y72aT0J4iyTFcKcZ4vIo4uGLp4eco%2B2hZwqJP3ZQs21fVNXmrxdpNWZ7XRVrztF/6B91/wCBi/8AxujztF/6B91/4GL/APG68W/kYFWrWuf8hq8/6%2BpP/QjR52i/9A%2B6/wDAxf8A43VnWJdIGr3Qlsbkt9pfcVulAJ3HtsOKV9QMyirXnaL/ANA%2B6/8AAxf/AI3R52i/9A%2B6/wDAxf8A43Tv5AVaKtedov8A0D7r/wADF/8AjdHnaL/0D7r/AMDF/wDjdF/IA1D/AI9LH/r1P/o2Sqtad9LpAtrPfY3JBtjtAulGB5r9fk55zVbztF/6B91/4GL/APG6SegFWirXnaL/ANA%2B6/8AAxf/AI3R52i/9A%2B6/wDAxf8A43Tv5AWNQP23QbS/bl4Xa3c%2BoHzL%2BhIqvN/yBbf/AK%2Bpv/QYqviTS18MljZXHlvfDCm5XOQnXOzpz0x%2BNQyy6R/ZEBNjc7ftMuB9qXIO2PPOz6VCf5jMyirXnaL/ANA%2B6/8AAxf/AI3R52i/9A%2B6/wDAxf8A43V38hFWirXnaL/0D7r/AMDF/wDjdHnaL/0D7r/wMX/43RfyA1Ph5/yGpf8Ar1b/ANCWuyrk/Akmntq8gtLWZG%2BzHJknDDG5ewUV1lctb4y1sFFFFZDCiiigAooooAKKKKACiiigDL8Z/wDItXP/AAD/ANDWuO1SBIWi2f8APCPd9Sit/Wux8Z/8i1c/8A/9DWuR1FgbtYWOA1rBg%2Bh8pMVvT0jcl7lGilZSrFWGCOtJXSSFFFFAFqb/AJAtv/19Tf8AoMVWf%2BQp4dVEUebp7EkDq0THOfwP6Gq03/IFt/8Ar6m/9Bipmm6hNpl2t3CAccMjdHU9QfapabWgyCir%2BrabCkY1TTCWtJTx6xN/cb%2BnrVCmmmhBVqH/AJAtx/19Q/8AoMtVatQ/8gW4/wCvqH/0GWhgVaKKKYBRRRQBJDfwaVDdapdBzFbaddSyCNdzbVgcnA7nA6V81eFv2sf2ovj9ocfi39mv9l60j8OXjONM8S%2BNfEkcCz7XKFvssOZAAykZDEHHBr6Z0yKKeaWGaNXR7O4V0YZDAwvkEV8zfsyWlr%2Bzj%2B0v41/Zamtp7HQ9bCeIvh3amd5LZbcjF3BFuzsZZPm2Z6Atx1Pp4CNB0a0nBSnFJpO9uXaWiau1dPXS19DixTq%2B1pxUnGLbTta9%2BmrT0dmvWxY039iDxb8Smfxh%2B1H%2B0B4n1jxBcAbLPwpqsmm6bpi9fKgjQAv7yNgtgZGeT5P8cf8AgkJa2VnB4l/ZX%2BIOpWOvx3TPdDxHrRCSRkE/u5YYN6ybsfeODnqK%2B4aK1oZ9mmHqc1Odl/LZctu3La1vn8zOrlWBrQ5Zxu%2B93zet77n5%2BfBj/gnv%2B3bqvjy1%2BJnxQ%2BPV1oGs%2BEyG8K3mo6m%2BstI3O6MDzsRQMuVYHO4MVKEE19EaZ4X/AOCk3gTVbbW9F%2BKXw/8AHbtOjy6Jq%2Bivpmw7h8kEsJ5/3pPU173VrQ/%2BQ1Z/9fUf/oQp4vPcVi5c1WFNpKyXIrJdls1rrvuKhldDDxtCUk%2B/M/8Agry2Pz3/AG/P2l/jF/whXhST4m/AXWfA3iDw14wttY0d5ZLbU9K1C6gDbQZ0dSu1WZ9oV8/dYDO4fW/7JHxN8ffGX9nfwz8T/iZp1na6vrNq88sNhZzQReX5riJgkxLfNGEbIJVt25SVIra%2BLPwM%2BFPxzs9M074r%2BDrfWrfR9SW/sYLl3CLMqlfmCkCRSGOUbKtxkHFdXDDFbxLBBEqIihURFwFA4AAHQUYzMMHiMtp0KdLllFtt62SfRXbdm9XfZrQeHwmIpYydWdS8WkrenV2002Vh1FFFeMeiFWtc/wCQ1ef9fUn/AKEaq1a1z/kNXn/X1J/6EaXUCrRRRTAKKKKALWof8elj/wBep/8ARslVatah/wAelj/16n/0bJVWktgClVWdgiKSScAAdTSVq2cK6Bbrq14o%2B0uv%2BhwMPu/9NGH8qG7AM18rZx2%2BiIwJtkJmIPWRuSPw4FV5v%2BQLb/8AX1N/6DFVZ3eRzJIxLMcsSeSaszf8gW3/AOvqb/0GKlayQyrRRRVCCiinwx%2BY%2BDwo5Y%2BgpNpK4G38PP8AkNS/9erf%2BhLXZVx3w/YPrszBcA2zYA/3lrsa5avxlrYKKKKyGFFFFABRRRQAUUUUAFFeWeO/ix8VfC/7VngP4VWmk6B/wh3inR9Ue5vJWnfUmvbaNZAEAKxRRKrLknzGkMhGIhHmTktF/aW%2BIcn7X/iL4O%2BNvFWi%2BH/Dlj4rt9H8L2V58ONVaXXhJoVpfkprX2pbFJvPmuVWDyi7JaMACxLAA9s8Z/8AItXP/AP/AENa43WP%2BPtP%2BvWD/wBFJXaeLoZrjw9cQ28TO7bNqIuSfnXsK5TVdH1eS5Vo9KuWAtoRkQMeREoI6etdFFpIllH/AI%2BVx/y0A/76H%2BNRdOtWhomtg5GkXX/gO3%2BFSNo%2BqyoWl0q5RgOWMDAH68cVpdR9BblGirEWk6pOvmQabcOufvJCxH5gU7%2Bw9a/6A91/4Dt/hV80e4gm/wCQLb/9fU3/AKDFVWtOXR9XOkQRDSrncLmUlfIbIBWPB6ex/Kq39h61/wBAe6/8B2/wpJruAmm6pcaZKWjAeNxiWFxlXHoRVqbSLbUozeeH2LYGZLNj%2B8T6f3h%2BtVv7D1r/AKA91/4Dt/hTotI1%2BGQSw6XeIynKssDAj9KTte6YyoQVJVgQQeQasw/8gW4/6%2Bof/QZa0xHe6kBHr3h27L4wLuC2If8A4EMYb%2BdFz4V1G20iYWiPOrzxuoETK%2BArg5U8/wAQ9aXOtmFjCormfjn8WPDH7O/gGX4i/Ei3v4rNbmK1tba1s2kuLy5kbEcEKcb5G5IGeiknABNeWf8AC6f24vikfL%2BCf7Gl14dtH/1et/E%2B7a1256brOHM3vwTXfQwVevT9orKO3NKSivxevyTOariaVKfI7uXZJt/ht82j3mmyzRW8TTTyqiKMs7tgAepNeEj9kv8AbK%2BI/wC8%2BNf7WmuabbSf6zR/hzoS6cI/ULdsDKw/3lqWH/glx%2BzreSLP428J%2BLfFEqkEy%2BIfEl9KWPqdjoD%2BWK1%2Br5dT/iYi7/uRb/GTivwI9ti5/BSt/ikl%2BCUmei6v%2B01%2Bzr4CuZf%2BEx%2BOfhPT3W3mBhuNftxJkxsMBA%2B4nJxwK%2BU/j547%2BJf7ZnxAsPE/7E3w/nvX8B3Kpp/xNXVhp6rcSkGWFI5wBc24RNrqVJLMMfISJPqPwF%2BxF%2Bzb4Jud%2Bi/s0%2BHI2S3l8ue78PpcSK3ltjDzKzA5x3613ll4WvtNtI7DTvDktvBCgWKGGzKIijoAAMAe1a4fG4DAVfaUIuU9vfaUddH7sd9NLN211TM6uGxWKhyVZKMf7t7%2BWr2%2BSv6HFfAqL44QfDm0i/aGutBm8TB2%2B0yeHVkEDR/wZ3gfvMfe2gLnpXYVa/sPWv8AoD3X/gO3%2BFH9h61/0B7r/wAB2/wrzKlVVKjnZK/RaJeivsdsIckFG7du%2B5Vq1of/ACGrP/r6j/8AQhR/Yetf9Ae6/wDAdv8ACrOj6Pq8Wr2ssulXKqtyhZmgYADcOTxWbas9SjMoq1/Yetf9Ae6/8B2/wo/sPWv%2BgPdf%2BA7f4U7ruBVoq1/Yetf9Ae6/8B2/wo/sPWv%2BgPdf%2BA7f4UXXcCrVrXP%2BQ1ef9fUn/oRo/sPWv%2BgPdf8AgO3%2BFWdY0fV5dXupYtKuWVrlyrLAxBG489KV1fcDMoq1/Yetf9Ae6/8AAdv8KP7D1r/oD3X/AIDt/hTuu4FWirX9h61/0B7r/wAB2/woGha2SANIuufWBv8ACi67gGof8elj/wBep/8ARslQW9tcXcwt7WFpHboqjJrek8LTLaWsmppOPKgKtBbQmRyd7tjI4HDDrUFw2uJC1npHh%2B5tIW4YpAxd/wDebH6CoU10HYiWLT/D37y5KXN6Puwg5jiPqx/iPtWddXVxeztc3UpeRzlmY1N/Yetf9Ae6/wDAdv8ACj%2Bw9a/6A91/4Dt/hVLlWtwKtWpv%2BQLb/wDX1N/6DFR/Yetf9Ae6/wDAdv8ACrMuj6udIgiGlXO4XMpK%2BQ2QCseD09j%2BVDa7iMyirX9h61/0B7r/AMB2/wAKadJ1NZVhlsJkZ/uh4iM/TPWnzRXULECI0jBEGSafIyovkxnI/ib1NWn0fWEUxQ6RdYP3m%2Bztz%2BlR/wBh61/0B7r/AMB2/wAKlNSd2PY1Ph5/yGpf%2BvVv/Qlrsq5PwJp2oWeryS3dhNEptiA0kRUZ3LxyK6yuetrMpbBRRRWQwooooAKKKKACiiigDzH4o/s2XfxN%2BL3hv4xQfHzxr4euvCsM8el6VocGjtZnz1Czs/2vT55WLoqqf3gAC5UKckrrH7MmneJPiVp3j/xV8XvGmqWWmazbaxbeE729tG0walBa/Z47oAWwnTA/e%2BQky2/nZk8rcST6bRQBl%2BM/%2BRauf%2BAf%2BhrXG6x/x9p/16wf%2BikrsvGf/ItXP/AP/Q1rgb/W7OfVfsMqvBKsEKqk67d4EajcvqD2rpotJEsdRRRW5JIswK7JhuHY9xQ0BxviO9fbqKjpVZkO5WIPqKnltsMszf8AIFt/%2Bvqb/wBBiqrVyQq%2BlwyTscNcSABR0IWPn8cj8qrm3ZhmJg49B1/KkpW3CxHRQQQcEYoqxFDxT4p8O%2BCPDt74u8Xazb6dpmnW7T3t7dSBY4Y1HLE/5JPArwr/AIas%2BPX7QllcaN%2Bxd8L5bfSJLlFk%2BJ/jCJ7WxiwHG61tyPMuTgsQxGAVwy4Oag/ak0aP40/tQ/DX9m7xRdzP4Tnsb7X/ABFpMLbV1FrYqLeOY9WiEmSV6HPqFI%2BkrK3gtfD0trawpHFHPAkccagKqhJAAAOgA7V6aWHwVCFScOec1dJ/DFXaV19puzdm1FK173OJutiasoRlyxi7O27dk3r0Wq835Hh3gD9i7QdP8X6X8UPjf8VvFvxJ8T6XN9qtLrxPq7tZWl1g4lt7RTsi2k5VSWCnBHQY9w06JJrxI3XI5O31wCcVDSqzKwZWII6EGuPEYmvipXqSvbRbJLySSSS9EdFGjSoK0Fb9fVu7f3mhIttJc2zahGiFomeUY2g/e2g7foPfmkOmQPOqSAxeY4SIIdwJI%2B9k/wAPIqrHfXUchk83cSCG8wbgQeuc1KurzYJkjVnBYxv02ZGDx/L0rltJG10T6bp0kMjytKhZbOUvGM5UNC2D0x6fnWbWtaajFPcTeSjB5raUylsYGIWwB7f/AFqzrN7NJw19C7x4OVjbB/Omm9bgyKitHHhSTo9/EfcIw/pQ1j4dbmPXZV56PaE/yNHN5BYzqtaH/wAhqz/6%2Bo//AEIVP/ZWjN9zxLF/wK2cf0qxpOk6fHqttJHr9u5W4QhAjAsdw46UnJWYWMaitH%2Bx9MHXxJb/AIRv/hR/Zehr9/xKn/AbVzT5kFjOorR%2Bx%2BGo/v6zPJ/1ztcfzNG7wpHyIr%2BU%2BjMij9M0c3kFjOq1rn/IavP%2BvqT/ANCNT/2rosX/AB7eHEJ9Z7hm/QYFWNW8RX9rqtzDZxW8O24cb47ddxwx5JOeaV5X2Az7XRtVvf8Aj10%2BVwf4ghx%2BfSrP/COm351XVLa2x1TzN7j/AICuaq3Wr6pe5F1qEzg/wtIcfl0qvTtJhoaXneGrH/VW0964/ilby0/Icn86juPEWpSxm3t2S2iP/LK2XYPxxyao0Ucq6hctahza2Of%2BfU/%2BjZKq1a1D/j0sf%2BvU/wDo2SqtNbCCilCsRkKfrTvLxkscgelDaQWGValBOjW4AyftU3A/3YqrMu04zn3q07NHpMMkbld08ikZ44VOfqc/oKTb0sMgESR8znB7IOv/ANakkmZxtACqOiimdetFCjrdhcKKKRmVQWYgAdSaoRv/AA8/5DUv/Xq3/oS12VcX8N5Yp9WklhkV1a0baynIPzLXaVyVvjLWwUUUVkMKKKKACiiigAooooAKKy77xv4L0vxXYeA9T8X6Xb65qtvNcaXo0%2BoRpd3kUO3zpIoS2%2BRU3puZQQu5c4yKpy/Fj4WQfEOP4RTfErw%2Bniya0%2B1ReGG1mAai8GCfNFtv80phWO7bj5TzxQBc8Z/8i1c/8A/9DWuH8SWFnqEqwXlusi/ZYMZ6j90nQ9q7jxn/AMi1c/8AAP8A0Na43WP%2BPtP%2BvWD/ANFJXTRV4kvcwxa6zpXNjN9rhH/LGZsOB7N3/GprPXbG6k%2BzuzQTd4Zxtb8PX8KuVDeWFnqEflXlssi9tw5H0PatbNbCJqKzf7K1Ow50jUiyDpb3XzL9A3UUo16S0%2BXWdNlt/WVRvj/MdKOa24WNub/kC2//AF9Tf%2BgxVVBIOQcVLHe2d7odu1pdRyAXMpOxwcfLHUVNaoRILhiMSqHH%2B11/OkkezSNppZvKVVyzOflAHU57CmV5x%2B2B4su/BH7Lnj7xLYEieHwvdxwOpwUeSMxq34FwfwrShQ9tXjTjo5NL72l%2BpFWoqVOU30Tf3K559%2ByxDe/tEfHXxZ%2B2PeB20SNX8MfDxCSFfT4ZM3F2B382YHaeoAZT0FfScasui3AYEH7VD1/3Za88/Zl8IWvgH9njwR4SswMWXheyWRlGA8hhVpG/Fyx/GvQ4XY6VNOx3MtxEqlueCshP8hW%2BY1va4uXJ8Mfdiv7sdF99m35tmWEpunQXN8T1fq9X/l6IqUVJ5sTffgH1U4o22zdHZfqM1x83dHTYjoqTyAfuTofqcfzoNrP2TP0OaOaPcLMm0f8A4%2B3/AOvWf/0U9Vat6Ujx3TmRCv8Ao045H/TJqqU002IKKKKYBVrQ/wDkNWf/AF9R/wDoQqrVrQ/%2BQ1Z/9fUf/oQpPZgVaKKKYBRRRQAVa1z/AJDV5/19Sf8AoRqqAT0FXNYjkl1i7eNCwNzIQQOCNxqW0mBToqT7NKOWAX/eYCjyYx9%2B4X8MmjmiOzI6Kk/0VT/G36Ueeq/6uBR7nmjmfRBYm1Aj7JY8/wDLqf8A0bJVdAGBXHPY1Y1AD7PaSY5e3LMfU%2BY4/kBVZWZTlTg0K7iHUehwAScYznPcUhkAB2jqeQaYSTyTRRyLqFxWYsc1Zm/5Atv/ANfU3/oMVVaXUdY0uw0eCO6vo1cXMp8vdlsFY8cDmh2VhCUjMqqWZgABySelZ/8Aamq33GlaWUU/8trs7R/3yOTQugG6Ik1q%2BkuTnIjHyxj/AICOv40c19h2Fl1%2BKSQ2%2Bk27Xco4Pl8Iv1bpTRo93qLCXXbreuci1hJEY%2Bvdq0IoYoIxFBEqKOiqMAU6jlvuFzc%2BG8UcOryRQxhVW0YKqjAHzLXaVxvw8/5DUv8A16t/6EtdlXNW%2BMpbBRRRWQwooooAKKKKACiiigD5y%2BP2seFPCv7b/wALvGi/C/xTdXdnpWq22veI9B%2BGuq6hHHBLCFs4Zby0tJE2iVpyEL/u/MZiFD5PJXnhLxtqH7RN54btPhz4j%2B36r%2B0Bpfjax8TyeHbpLGPQ4/DdrbSSvdtGIopf3M9h9mZhPmQHy/LYvX11RQBm%2BLjCvh64NxGzJ8m5UfaT869yD/KvKPEg%2BIuheIJdQsRb65p0kcbx6e7rbXEKGNSqLJgq%2BBxlgCcV6r4z/wCRauf%2BAf8Aoa1xusf8faf9esH/AKKSuikrxJZzWnfFn4fz3S6brunajo14f%2BXbVZ1iz/uuY9rD055rpEudCkQSR2VyysMqy3qkEf8Afus/UdL03V7Y2Wq6fDcwt1iniDqfwNc4/wALbfS3M/gfxHf6K5OfJik823J9TE%2BR%2BRFa2kvMWh2nnaL/ANA%2B6/8AAxf/AI3R5uiHrp91/wCBi/8AxuuK/tf4p%2BH%2BNW8OWetQL/y8aZN5UoHqY34J9lNTWXxZ8GzTiy1W6n0m5PW31a3aBh%2BLfL%2BtF49QOpvfD/hCewivRo9xFK08iiWC8CPwEPJCYPX09fXjNlstWtZN2magZYh0ivcM2P8AfUD%2BVaqXNteeH7a4tLhJY2uZirxuGB%2BWLoRUFCitwuV1162tQBqfhW/GOslteI6n3x5eRXkn/BRHxB4Z039jDxsZYriKXUNOitLFHuAzSzSzRqiBRGCxOeg9Cexr07xt458H/DfwxdeM/HniS00nS7KPfc3t7MERB2HPUk8BRkkkAAk1876ZqHi39u74r%2BE/Gtv4HvNJ%2BEng3Vm1ayu9aBim8TXyKRbyxwEZWCNiWDNwwYjrkL6mV0JRrxxM9KdNptvS7Wqiu7bSVle123ZI4sbUTpOhHWclZL10bfZLV3%2BW59E/D02GkeDdD8O6jod7FcWuh2yThrtAFdYlVl%2B52INb9vrHhyTT7i3S0uxtuU3Zm4yokB%2Bby8cen%2BBrKjgvl1BrmTymRlCjBIKjPpzn9KjNpfjSrllt5Eh%2B0xfaI/M3h2Jc5UDPbPp16V5dSTlJyfVnZFJJI1orvQJ08yG0uHU9GW9Qj/0XTvO0X/oH3X/gYv8A8brnJtjTSvdpiORXeCJuCzcKMD1wM/8AAq1oPMW3QTHLBBuPqcc0LUbLvnaL/wBA%2B6/8DF/%2BN0CbRRyLC6/8DF/%2BN1ijxRowO2W5aJvSWJl/pU8es6TL/q9TgPt5ozTvF9Q1NzTJ9KkuGQWd1xBK2Gu1I4jY9NnXjg9jUX2/TO9ndH63aH/2nUOiSxS3TmORW/0Wf7rZ/wCWT1XpckWwuy99u0g9dNnP1uU/%2BN0hvNFx/wAgmb/wKX/43VKij2cQuy2bvSe2lyfjcj/4mptMmsJtTt4obOSN2nQJIJgdp3DBxt5rOq1of/Ias/8Ar6j/APQhQ4RsF2AutLH/ADDX/wDAgf8AxNOF3pA66VL/AOBI/wDiKp0U%2BSIXZe%2B26L/0CZv/AAJX/wCN0fb9J7adcD6XKf8AxuqNFL2cQuy99v0z/n0ux9Lxf/jdS6tLpMWp3MLWVz8k7rhLtQvDHoNhwPasyp/EFzbQ61eGa4RP9Kk%2B84H8Ro5Yphdj/O0X/oH3X/gYv/xujztF/wCgfdf%2BBi//ABusqXXtGh%2B/qcP/AAGQH%2BVRf8JPpb/8e3nTn0hgY/0ovFdQ1NrztF/6B91/4GL/APG6PO0X/oH3X/gYv/xusT%2B2dQm/49PD1yf%2BuzLH/Ojf4on%2B7DaW4PXezOw/Lii66XA6S%2Bl0gW1nvsbkg2x2gXSjA81%2Bvyc85qpLd6BCu%2Ba0uEX1a9QD/wBF1nXmi6tLbWh1DxJM6tbkqkESx7B5jjGRknnJz71DH4a0dH8yW2Mz93ncuT%2BfFJczX/BDQtS%2BKvByP5UNvdzv2S3uQ5P5R4qKbVbi8QjSfDc8BP3Zb68Uj/vlUB/WrEUMMCbIYlRfRVwKdT5X1YXRTt9KluCTrupXMin/AJZWUghA9slWJrUt9J8JadpkNxa6HKrNPIN/2lS5wqdWKZI56fX1qvVDXNc13TUs0GmQGxfURCsjTfvJXk8sMVA6BBgnPUZx0pOMU7hdmz52i/8AQPuv/Axf/jdUtQ8T%2BDtNijmuILtllLBPIn8zO37x%2BSI4A7k8CuN8RSaxMdUij1GVpjdi1%2ByFz5bQyqojwP4TncNw6nP4Gl2tw%2BvDV/DmluIrZFNzZ%2BX5ILsjRyxqGAXP7uFvT5TyM0XCx3sN5oFxClxBZ3Lo6hkdbxSGBGQR%2B7rn9b8f2NvqUugeGfAmsanexYEjfaVit4yQCN0rR46EHjNWPC2n3Ol6Db2F2gV41OYw2dgLEhc98AgfhWhVWbW4G38LJppZFbU7AQ3xsybgRXPmRg7l4XKA%2BldrXG/Dz/kNS/8AXq3/AKEtdlXNVVplLYKKKKyGFFFFABRRRQAUUUUAFFFFAGX4z/5Fq5/4B/6GteEeN7f9pjwv4nudX8L6h4f8VaVMscsOjX0JsLq3jMalYo5l3I%2BBxucAmvd/Gf8AyLVz/wAA/wDQ1ritRuba5u/9GuEk2QQo%2BxwdrCJMg46EeldFJXiSzyqH9qDw3oUy2Pxd8Ga94NuCwXztVsTLZu3olxDuRh7nbXfeHPFnhfxfYjU/CniOx1K3P/LaxuklUfUqTg1emhhuImguIlkR1IdHXIYehB61wXiL9mL4Na9fHWbHwudE1HqmpeHLl7GZD6/uiFJ9yDW3vIWh39Q3thYalAbXUbKK4ibrHNGGU/ga82/4Vl%2B0B4O%2BbwB8c01eBP8AV6d4000TE/W5h2yH8jXZ/D%2B%2B%2BIN9ojt8StB07T9RjuGRU0u8aaGaMBcSAsoK5JYbTkjGc88NO%2BjQhl78HfBq2MWpaEl5o9zJcShp9JvHhyAsZHy5K9z2ryj4%2B/Hjxd%2Bz3e6T4N8Kaw/jbxb4hl8vw94O%2BxL9pmAzmaSRGXy4lwcyNxweoVivY/tW/GbXvgn8L9M17wvJaz6pfa01lpejyWbTzajcyeSqRoqupCgEsx5OAAOWAPnHwG%2BG2sfB/wCJNz4g%2BIpsfFPxN8UadDeeItcv9WS3e2jlkdUsLGIoQY4xExIVlzsXttC9eFp4WnF1q%2BqW0VpzPza2iur3ey6tc9adaclTpaPq%2By/Vvp0W77PH0D9nb4q%2BPfGsHxZ/bZ8PzeL7i1kEui%2BE9EnR9G0gn/p2LZuJB0LuSD0O7Cke92vxb8CwbLLUZrjSnACpb6jYyQ7R6dNo/OnWPxb8IXc86zyXFpbxQSzw313EEhuoo5Fjd4jklgHdB0Gd64zkVtaRrGheLNJXUtJuory0mLKGC5BIJBUgjgggggjIIrPE4uvipJylotklZJdklt%2BLe7bLo0KdBPlWr3b1b9X/AEl0SF0zxH4f1kA6RrlpdZ7W9yr/AMjWtD/yBbj/AK%2Bof/QZa5jUvhj8P9WJa88JWW49Xhi8pj%2BKYNRR/CPTLbS5ptC8V6/poS4iCw2uqsY%2BVk5Kvuz0/U%2BtczcjbQ6IgHqKK5b/AIRT4kWRzpvxN85R92LUNKjb82Ug0CX4zWf%2BstPD18o/55yTQufzBFPm8gsdQVVhhgCPQ1DJpemTcy6dA3u0QP8ASud/4S/4iWx/0/4VyMo6vZ6tFJn8Dg0f8LOlg41D4d%2BJIj3ZNOEij8UY0c0XuFmdFYeE/D11css2lpgW8rDaxXkRsR0PqBVb/hGdMX/UtPH/ALlw3%2BNZ2m/GfwTZ3DPqh1GzBt5V/wBI0mcYJjYDop7kVFD8Y/hnOcL4tgU%2BkiOn/oSip/d36Bqa3/CPKPuazqC/S5z/ADFA0S6X7mv3n/AmU/0qpF8Svh9N9zxppg/37xF/manj8b%2BDJf8AVeLtLb/dv4z/AOzU7Q/r/hw1JP7I1Mfd8RT/AIxqf6VPpOj63JqttHF4olRmuECuLdCVO4c1Cvinww/3PEdgfpeJ/jVzRPEnh0azaOdesgBcxkk3ScfMPehqNg1KX9lav38Ry/8AfhKP7H1E/e8Q3H4Io/pTz4j8PDrr1kPrdJ/jTG8V%2BFk5fxLp4%2Bt4n%2BNO0f6Yah/YU7ff16%2B/4DIB/Sj/AIR2I/6zVb9/966NRSeO/BEX%2Bt8Y6Uv11CP/AOKqtN8UPh5By/jLTz/uXIb%2BWaVof1/w4al7/hF9IbmaKWT/AH52P9at6l4X8P2Wq3Nvb6VEES4dUVhuwAxA61zj/Gb4aI2xfFCOfSK3lc/%2BOqan1b4xeF73VbmfStN1i8V7h2T7Po82SCxI%2B8opfu79A1NyKwsYP9RZRJ/uxgVLXLf8LI1O54034Z%2BIJD2NxbJCP/Hmo/4Sb4n3XFp8NIbcHo95rMZ/8dQE/rVc0egWZ1NFct5PxlveJL3w/Yqe8UU0zj/vogUf8IT43veNZ%2BKd6VPVNPsYrfH0OGNHM%2BwWOz1AgWliSf8Al1P/AKNkrB1Txv4P0XI1TxPYwsvVGuV3f98g5qjefBvwpLb2j65f6tqpe3LH%2B0tVlcD9444AIGOOlXdL8C%2BDNFw2meF7GFh0kW2Ut/30Rn9aS5rBoZR%2BLnh2748OaVqurnoDp%2BnOV/Fn2jHvR/b/AMVNW40nwRZ6cp%2B7Nq1/vJH%2B5EMj866oAAYAop2fVgZnhqx8VWkc0ninXbe8kkYGOO2tPKSEc5AOSWzx19Kt%2BINCudWstMu4dYltRa3VzxFEjFiyRDILghSBkZx/Eao%2BJvHvgfwZF53i7xhpmmLjI%2B330cRP0DEZ/CuRu/2s/hdf2Eem%2BArHX/Fl1Fcy74vDehzTKMrGBmRgseODzu4pNxVkw1O5TQtL8%2BG8uLNJ7iBcR3M6BpB/wI9Op6epq3XmJ8a/tN%2BL/l8K/CPSPDcDfdvPFWr%2Bc5X18i2BKn2ZqT/hRnxG8WfP8U/j9rdzE33tO8NxJpkGO6MybpHX6sDTv2QHXeNfiv8ADX4cwmXxv4303TSFyIbi6XzWH%2BzGMu34A1yH/DQfiXxh%2B6%2BDHwa1zW0b7mrasn9m2JH95XmG%2BQD0C5rofBXwF%2BD/AMPpheeF/ANhFdBt32%2B4jM9xnufNlLP%2BtdfRaTDQv/BV/E0kUL%2BMoLKLVDYH7bHp0jtAr714QuAxHTqK9Brjfh5/yGpf%2BvVv/Qlrsq5q3xlLYKKKKyGFFFFABRRRQAUUUUAfPeiftR/FS/8Ajdp9vdWPh7/hBtZ%2BKupeArCzjsJxqkFzZ6Zd3TX8lwZzE8bz2M8IgECkLJHJ5pwyVJ%2Bzd%2B0t8Q/iR8Ytf8B/FPxVoulyweIPE1p4f8J/8K41XTrm5s9O1eWzhuo9UubprW/zbrDLIlvECv2lT8ijDdLP%2Bx74NPxVPxT074h%2BKbIx%2BI5vEWn6BbzWTafYazNZmynv4lktWk8yS3edCjyNEDcyyLGsjBxp%2BH/2a9K0n4uQ/FzXPil4v8QyabLqUnhzRdevreWz0V75w1wYGSBLhxgGNFnmlWKNikYRcAAHbeLoZrjw9cQ28TO7bNqIuSfnXsK%2BePiR%2Bwt8OfE/jG7%2BIPg9PFng/wARagI5r7XPB2sXFrJcTFFLGRDuifLZzlOeQa%2BhfGf/ACLVz/wD/wBDWvlb4o/tPftI/Cjx7qNv4x/Yl8Sa74UgdF0vxH4A1i21O5ntwi7GksGMcqNtwSFLDnAzit6duXUl7lj/AIVV%2B378NufB3xL0Hx9ZJ0svGXh%2BSwuwg/hW4tMq7f7Tp9fWhv2mfi54GXb8d/2O/Hmhon%2Bt1Tw5bLrdkijq7Pb4dF%2BqZHeqHgz/AIKR/sd%2BLNVHhrWPixH4S1kYE2i%2BOrCbRriJj/C32pUQnt8rGvatF1zRPEmmx6x4e1i1v7SYZhurK4WWNx6hlJB/CtUm9mI4HwF%2B17%2BzT8Srkaf4V%2BMejG8Lbf7P1Cc2dzu7r5NwEckegFenppepyQC6TTp2iK7hIIWKleuc46Vynjv4OfCb4oQmH4i/DXQ9byuA%2Bp6XFM6/7rspZfqCK%2BQPi58Fvh94o%2BJsv7Nv7DEviLRtWD7fHer6N4qvE0XRrV8rJFNGZGWWZhuUQpjByDyG29eFwtbFVeVWSWspPaK6t/1duyV2zCvXhQhd6vourfZf1otXoepfCLwtr37ZPx41P9piK4vovBnhC%2BfSPh3JaQrIL25iyLq/AkR12EsUUgc46ho69s8UfB7x14m1BY7nV5hpzTQSyR/2MRcxyRLwY5lICgt8xBQkEtggHA8r8Ifs5ftX/AfwFpnhD4KftE%2BHdU0LTDJDpmgeLvByxJAoCE5uLN1dyxOSSuc5JJJq5/wtv9tLwf8Au/Gn7LGj%2BIo0/wBbf%2BC/GMa8eqwXaI7fTdmljK9OvWfs42gtIryXV%2Bb3fm/IeHpzp0/fd5PV%2Br/RbLyRuXfwa%2BKdtDo2pax4Slmh8OvZQpYaSGkkuoo5hNJKodUAzJHbN5ZJOIm5JIrufht4O8YWGkXepa34fvLe41XU5r5rRoCTbq%2BAiHAxuCqucfxE15X/AMNy%2BCNC4%2BKXwf8AiR4PC/6y51rwbPJbj1xLbeaGHv8ApW94U/bP/ZT8ZlV0P49%2BGldjhYr/AFBbNyfTbPsbPtiuVWT3Nje8Y%2BOvip4P8R3FiP2cvFGraVFs8jVdGMMzTZQFv3JZXXDErz12571nt%2B1N8PtF0ya28deGfF3hl2njbGveE7uIABXByURgPvDvXa6Pr%2BheIrUX3h/WrS%2BgPSazuVlU/ipIrVh/5Atx/wBfUP8A6DLTal3DQ8/0T9pH4C%2BINo034taEC33Uub9YGP4SbTXYaLqOn%2BJEEnh2%2Bhv1IyGspRKP/Hc1n614B8C%2BJM/8JF4L0m/3fe%2B26dFLn/vpTXLar%2Byx%2BzzrDF7r4T6VGT3s42t8fTyiuKfv%2BQaHpP8AYetf9Ae6/wDAdv8ACj%2Bw9a/6A91/4Dt/hXlP/DKHwys/%2BRa1jxRo2Pu/2X4pu02/Tc7UD9nbXLLnRP2i/iBCewvNWiulH/fyLJ/E0rz7Boev6Vo%2Brx3LNJpVyoNtMMtAw5MTADp61Tm8N6lcDE%2BgTuP9u1Y/zFeaab8Ivj/b3LJo37VV6gFvKcX3hKyuMgRsSM/KeRkde9V/%2BEK/aksv%2BPb44eH73HT7Z4T8vP8A37lpXlfYND0ib4fW1xzP4Ijf/f0wH%2Ba1BJ8KNCl/1vw2tG%2Bujr/8TXn32D9sC24h8RfDy597jTb1D/47JR5v7Y0f3rL4aSj/AGbjUEP6oaL%2BX4Ad43wc8NP1%2BGdr%2BGkgf%2By1JpnwV8INqduLr4a23lmdPM36dgbdwznjpivP/wC1f2u4/v8Ag/wFJ/1z1e7H846saTr/AO10mq2xg%2BHngh3FwmwHXbgAncMZ/dUna234AdkPgv4XHT4aW/46Z/8AWp6/B7w0nT4Z2n46Qp/mtcF/bv7WzdPAHglf97XLg/8AtKj%2B0v2vpPueFvh/F/101S8b%2BUdPTt%2BAHoUfwt0aH/VfDm1X/d0hR/7LVmHwIlv/AMe/g0R/7mnY/kteabv2x5P%2BWfwzh%2Br6hJ/RaP7J/a7uuLjxl4Dtc97XSLuTH/fclF32/AD1VPD%2BrRLtj0S5Uei2zD%2BlWtY0fV5dXupYtKuWVrlyrLAxBG489K8g/wCEA/advObn9oTSbP1Fn4Njk/8ARktWNV%2BDPxsudVuY/EH7U%2BszkXDh2sPD9la7juOSNqnFF5X2DQ9O/sPWv%2BgPdf8AgO3%2BFH9h61/0CLr/AMB2/wAK8p/4Ztmuzu1r4%2B/EW6z95E8RCBD%2BEUa/zrPv/wBnL9m%2B20251rxpqtxf2tk229vNb8XXDRwtwMSEzKq9Rw3qKd59g0PS9d8X%2BE/C%2B7/hJfE%2Bnadt%2B99uvY4cfXeRXI6t%2B1P%2Bz3o8nlXHxV0ydycBNPZ7ok%2BwhVs/hTvDH7Pv7OkVhBqnhv4Y%2BG7u2njWS2ujaR3SSIRkMrvuyCOQQa7DSfDfh3QE8vQtBsrJcY22lqkY/wDHQKfvhocdP%2B0ppeu21qvgX4R%2BP/EIjgKedpnhKYRZMjsPnl2ADDDmov8AhNP2n9c%2BXw1%2By3c2UbfcuvEGuRxY%2BsUSu36ivTdQ/wCPSx/69T/6NkrnvEvj/wAB%2BC4zN4x8baRpKAZLanqUUAA%2BrsKlKVtw0OT/AOEC/bL8RfLqni3w54cQ9P7F8PT3sgHubgqufwxR/wAMq%2BJ9c%2Bf4hfFnx7rO7/W20F2bG2f6xwIv/oVY3iD9u79krw9c/YX%2BNemahcE4jg0KOXUGc%2Bi/ZkcGs4/tlX/iH918Lf2Xvibr5b/U3dxoC6daSf8Aba6df/QaXu97/eGp3/hr9lH4SeEpRcaT8GrV5gc/aL6ye6lz675t5B9813y6BqNvodtZ22izII7iXEUdsQFXbHjgDgcH8q8C/wCE0/b18Z/8i/8ABXwL4LjPV/FPiWXUpQPUJZoq59i2Pep5v2e/2nPF%2BlQy/FP9s3VLS0luJA2meB/D1tpnlHEedty/mynOQOcYx707tbID2XWmXw3p8mr%2BImFhaRDMt1enyo0HuzYArybxH%2B3B%2BzToepnw/o3xCHiXVTkRaV4QspdUmlPoPsysoP1YVxw/Zz/YY0G91jV/H3iCPxprHhmDz9dk8U%2BKJtYvLRc4/eWwdvmY8BfK3MSAASQK9e%2BDmo/CfU/DMjfCPw/aaVZW109tc6dBoh06S2lTgxy27Ro8TYIIDKDhgehp3m%2BwaHEf8Lm/ay%2BIH7v4Pfsaa1p9vJwmsfEW9XTVj9zaxiSZh%2BVIf2b/ANsP4j/P8YP2jb3Q7ST/AFui/DXQvse3/dvJw836CvSvHPxL%2BHXww0v%2B3PiT4%2B0Xw/Zc4u9b1SK1jOOuGlZQa8W1X/gpp%2BzVeahLoXwbg8V/E/VIm2vYfDrwrc6gFPbMxVIAPfzMAcmk1bdgfSnwO8Av8ONKtfCkLarNbWGnmGK71id5p5fmBy8r8u3Xk16BXmf7O/inV/G2hWXivXvBWoeHLy%2B0wyz6JqrIbizYuvySeWzLu78E9a9Mrnq/GUtgooorMYUUUUAFFFFABRRRQAUUUUAZfjP/AJFq5/4B/wChrXhFp%2B15%2Byz4t%2BJmo/CXw/8AtD%2BDbjxTos6WGp%2BG/wDhIbdb%2B3uY0VXjMDOJCQwI4BGQRmvd/Gf/ACLVz/wD/wBDWvnr9oX9h/8AY/8A2kLtpfjj%2BzZ4N8R3U1pDv1K/0KH7YMxJnFyiiZfwcV0Ur8uhLOx8Z/D3wD8R9LOh/ELwRpGvWRzmz1nTYrqI5/2ZFYfpXh3i/wD4JwfsfaGt5458HWur/C%2B5hjaa717wL4tudHECKMliqyeQoA5yUwPpXBeLv%2BCYPwc/Z%2B8N3njf4Bftk/F74JaVpUJma10zx/LfaJAB032epCdXGcAKGBJIA64ryLR/hV/wVA/av%2BGFl4hb4r%2BFviP4R03xC1xpFr8RtNfwyPFVmmdkksOlRPxkfKXZVYjO3Br0sNhFXi6tX3acd5b6/wAsVpeT6Lpu2lvy18R7NqEFeb2X6vsl/wABXZ1fgyw/bV%2BM2u6x4E/ZO/az8V638PI7WW0m8a%2BP9MtULz8qyWl1FALic44MgC7Tk5X5S3oPwW039t/9j/wLb/DvTv2NfBPi/TrdjJd6n4C8cm0ubqQ/euJY9RjDSytjkb%2BOAvAAqLR/20P2zvgjpdvoXxn/AOCTfiy30jT4Vhgu/g54m03xBD5ajA8qzBt5o1A6KV%2Bma0dM/wCCzn7ClnexaJ8XvFXiv4Y6rK20aX8TPAWpaTIp7hpHhMII/wCulGIxkJ0/Y0VyU1rbq33k%2Br7dF0XVlHDuM/aVHzT79EuyXRfi%2Br6HUyf8FIfBnhjS4bb43/s4/F7wEIriUz6hrPgWa5sBlY87bizMwfGOeAeRxzXReBf%2BCgH7FXxHZYvC/wC0z4R81zhLbUtVWxmY%2BgjufLcn2xmuq%2BGv7WH7L3xs0a0j%2BD/7RfgfxPJJcylYNC8VWl1KMrHgFI5Cyn2IBq547%2BBnwU%2BKKsvxK%2BEPhjxBvHzNrWg290fzkQmuJc3RnTodBpGt6N4gsU1PQdXtb62f7lxZ3Cyo30ZSQay/Ffwq%2BGHjsMPG/wAONB1jcMN/amkQ3Gf%2B/imvHdX/AOCX37E17fNrHh74Ry%2BGr9vu33hLX77TXT6LBMqfmpqt/wAMF%2BM/DP734Vft2fGbR2X/AFVvrHiCDWbaP0Aju4Sce26n73VBodRrH7A37JGr3R1CL4OWmm3P8Fxod9c2DIfb7PIg/TFMj/YksNL0uafwL%2B0r8WtBEdxEI7S28ZtcWwysnWK4STOMeo6mua/4U3/wUh8J/vPDX7Z/g/xUB9yDxf8ADRLX8GexnXP1CirEXjH/AIKmeFdKmbWfgt8HPFkIuIi3/CO%2BK7/TpGO2TAxdwuozz/Ee1S1HsGprf8KG/ay0Xjwv%2B21dTxL9y38QeBbG6z7GSMxv%2BPNH9lf8FCtF%2BSy8XfCbXUH8Wo6XqFnI34xO6j8qwf8Ahq/9sHQPm8d/8E4PEyRj70vhnx1peqZ9wu6JvzAo/wCHiGn6YceM/wBjn486IF/1k9x8OXuIV/7aW0sgxR7vd/iGpvf8LF/bs0TjVP2bPB2tkdTovjprbd9PtEH86P8Ahov9pbTefEn7DXiGMDq2k%2BLdOvPyAdT%2BgrCP/BU79jSw%2BTxd4z8Q%2BHpP4o9e8CatBt%2BrfZio/E1r6L/wUr/YP17H2H9qHwtHnp9tumtv/Ryrii6/mD5F7TP2ytb025b%2B3P2O/jHE32eUH7F4Whu1GY2GcxTk4Gc9OlV/%2BG5vANtxrfwd%2BKWmev2/4fXa4%2Bu0NXWeFP2yv2RNZuSdL/ak%2BHc5a2mAVPGljuyYmAGPNzWzpvxq%2BDes4/sj4teGbrPT7Nr1u%2Bf%2B%2BXNNXvuB51/w8B/Zsg/5Cuq%2BJLH1%2B1%2BCtSGPygNH/DxH9jtf9d8XWh/6%2BPDuox4/76txXsFlr2h6kAdO1m0uM9PIuVfP5GrdO0u4aHi8f/BQ79jKX7vx204f71ldL/OKrukf8FB/2M4dVtZ5fj5pColwjMxhn4AYEn/V16xJb283%2BtgRv95Qal0XSdKfWrTdpluf9Kj6wr/eHtSfNZhoeNN/wUE/Y3UZPx50n8IJz/7TqF/%2BCiH7GSHH/C87Fj6R6fdt/KE17Eul6Yn3dOgH0hX/AAqVIo4hiONVHooxT98NDxb/AIeH/shPxbfFG5uD2Ft4W1OTP/fNsaP%2BG/P2fp/%2BQRH4t1A9hZ%2BB9RbP/fUIr2skKNzEADqTWffeLvCmlgnU/E%2BnW4HXz72NMfmaPe7hoYPwi%2BMuhfGXTLvVtA8MeItNis51iYeIdDlsWlJXO6NZAC69sjvXLfta3Ueh%2BIJ/F2l%2BKrmK/wBGmjvryzh1%2BWCSGxS5O%2BS3tVHlXMkhPlkS8bT8pBwD1OpfH74EaLn%2B2PjX4RtMdftPiS1jx/31IK5X4j/tafsE3PiQ6r4t/aH%2BFd7cWF7JJYTT%2BJdPuZbdi2d0eHZkPAORjoKT9QOP%2BLM8X/C0tcutN1GJfFst9pJ8DzmUebJDJG8EkcBPLRCTe8qjKqSGfGAawdE0eOPVtGvvBPhm4W18OwabL44sbXTnLCe2vJUfzI1XdNNslkl4DOywqeflz0%2Bof8FNP%2BCffhwpAf2jfDzGMFYk022nucA9lEETfpVb/h6B%2By5qXHgeDx14nJ%2B6ugfDnVZN303wJmpfLfcep6j8A9Pv7HwjfSTadcWdldeIL640e1urZ4ZIrR5iYwY3AaMfeIUgEKRwKr/Fz4PeOviZrNrc6B%2B0B4l8JafFbeXcaf4eht1ad9xPmebJGzKcEDA44zXm3/Dfuvax%2B78FfsKfHbUHP%2Brkv/BkWnQt/wACuZ1P/jtJ/wANK/t16/x4S/4J1zWkT/cu/E/xO0622%2B5ihWV/w4qrxtYWp0t5%2Bwj8PNRtrQ%2BP/i58TvFiSW5Z4df8d3Jj/wBY4wEg8sKOM4GOSav%2BGv2Hf2SfCkgm0z4C6BO4Od%2Bq25vmJ9SbkuSfeuTvb/8A4KseJ7e0MXh/4G%2BFLd7chPtd7qup3KL5j84jWKPOc9yKr/8ADO/7fPig7/GX7f8AbaRE/wDrbHwf8NLOPA9FnuZJXH1wDSSj2A958P8AhLwp4StvsfhXwxp%2BmQ4x5Wn2UcK/kgAq79ptvtP2P7QnnbN/lbxu25xnHXGe9fPP/Du3SPEPzfFb9rD41eK1f/X2V548e0tH/wC2NokQA/E/Wu5%2BBX7Gf7Nn7Nmu3fir4OfDZNL1W/tDbX2qT6ndXdxcRFlcq0lxK5ILIp/CqV%2BwFr9o/QfiZrPhNZfhd4v1Kz1OCOT7DpGl3ltavqFyxQRl551YCOIb5GjUAyAYJxwfIvijq/hnWtE8CftbX/jnwTMl14Gk%2Bx2nxA0hytxqFs0FyhtYhKI7a6ZpJYyVLupCbBJsrvf27/FOkeEPgLNqs/w0tPFuqtqMKaBol3NJEJLgBpZZN8REiLFax3MzlOdkT5BGa5L4s%2BOvHfhy98O%2BG/gLc6R4R0m2%2BHF74zhgTRbeRdVktXsY2s5fMTKRrbzfejZZAWHzYGDMtwRyGtfCz4h/Fbw3p3w90/wfq2jeJX1PW9QXV7vT5vsUVpfW7X8Er3ap5bSC/jsFeLIk/dSNtwoz738FfD3jQ%2BN/GPxJ8X%2BDJ/Dn/CQz2CwaNcX0Fw%2B63t/Le4LQOyDeWCgZzthUkKSVHx98RPiz8cfGXwL1T4teDfGHiW81bxrq3iPQ9V8EvfyzRQCPS7nVLK1t4elu5t7N4Q8YV5ftilix2Y%2Bif2MdX8AP46%2BIfhf4Da/YX/w30%2BbS5vDqaTc%2BbaWF5PDLJe2kWCQmD5ErR8bXnYEA5FEbXGz1X4i/Az4NfF7UtK1f4q/C7QfEk%2BiGU6S2uaXFdC1MuzeUWQFQT5ac4/hFbsMHhzwfofl28NlpWm2URO1FSCCBB16YVQPwFeY/tQ/Ar9oD43yaJp3wd/a/1r4WaXbLcDxHF4f8M2V5d6qH8vyvLubkMbQptlyUVi3mDpt58ssP%2BCOH7J3iC8i1j9ovxN8R/jLqETh47n4p/EG9v40b/Zt4migC%2BimMgelU730Qj7B%2BEGvaH4nkTxB4a1m01Gwu7Eva3tjcLNDMu5fmR0JVh7g13tebfADwD4I%2BFuk2nw%2B%2BG/hLTtC0PStNMGm6RpNokFvbRh1O1I0ACjJJ4HJJPevSa5q3xlLYKKKKyGFFFFABRRRQAUUUUAc/b/Fj4WXXxCn%2BEdr8SvD8niu2tBdXPhiPWYDqMUBCkStbBvMVMOp3FcfMOeRRofxY%2BFnibxrqfw28N/Erw/qHiPRUD6zoFjrMEt7YKcYM0CuZIgdy8sB94etfMFn4e8YeH/2gNK0HUfht4o%2B26J%2B0HrPjHVvElv4VvJrObRLrQb20t5I7qOJo533XlnZm3VjKggZ2QRxB6s/s8%2BCPHVl8cfB/ha%2B%2BHmv6ff8AgrxN8RL/AMV6/faHPBZXdtqmryT2ghu3QRXZuRLb3JSJ3Mf2YrKI3VVIB9ReM/8AkWrn/gH/AKGtfGHjb4b/ALOX7CHx18S/tWal8bfiXNqfjyzZP%2BFa3Pji71LTL6%2BnaCUzWOlyMwin3II1dCscaSsuFDCvtvVNOh1axfT7h2VJMbih54IPf6V4x8Mf2DvhV4E%2BImpfGXxR4g1rxd4x1G4cp4i8RTxyy2MGSEt7ZQm2BFQ7flAOMjIU7R34KWCjeWIbstkt5PtfaK7uzfZX256/1hpKkld9X0%2BXV9lou7PjX9qT4L/th/tJ/DMfGf4meG1g0iyv0u4vhZZ6%2BtlcWWkIjyT3DSyRPHNqDIojRJAqxiRmyrDy65/4e%2BE9WtP2Afgj8PPhvLa%2BF7vR9Z1HxP4t8FXHxUn8P3t/Z2llfT3FqNQ0l55Udbm7sJ5BuyVX94AGbH6d/wDCvNF/5%2Brr/vtf/ia5r4lfsqfAX4zaVFoXxe%2BGmjeKbK3uftNva%2BItHtr2OGbbtEqLNEwV9pI3DBA71pi8e8VJX0itFFbJeX6t3berfZUMPGgnbVvdvd/10S0XRHwBov7Y/jjTvBen/Gjwj8Vde0rwL4Z8TeGPD8HhfxGsOoXWtRXKJc6vc317cpJdPJb2kk7xNFJHvNjuYusvy%2Bzfsx/tHfFH43%2BKdP8ABHx68H%2BGIrbxt8MLLxxoWkabYTGXS7O4mCGwvzPI6TzKJYcSokauyzDywEBPtni3/gnZ%2Byr448Z6h478T%2BCb25vNUtpIr60bW7kWEjvYNpxuPsW/7MtyLJ3thcCMSiJ2Tdjin/s//sNeB/gNqOoeIrj4meK/F%2BtX2n2emJrviiazNzb6baIVt7NBa28MQRS0jltm92kLOWODXIqsbm9jzL4p/wDBMf8A4J7/ABh0lLrx7%2Bxz8P7i5nuZhPfWPhyGyuZPlj%2B9PbCOQ9T1bjNecf8ADnf9njwtx8A/jb8bPhYi/wCrg8CfFnUEhX28q7a4Qj/ZIIr6E/a9/YB0X9rbR/D%2Bnw/tSfGb4Y3Xhu5up7PUvhN42Gky3TTrCpW6UwyR3KL5KlVdSAWf14679n/9my7%2BDHwh0b4ZeL/jX4r8f6hpSTJP4u8Vy251DUA80kimYwxIhKK6xghRlYwTzk0KpTvqgsz5N/4Yp/4KEeCPl%2BEP/BWHxDPax8x6f8Q/hppWs%2BZ6BriPyJR9Qfwo8r/gtp4I4ju/2cPHtrF3lj1rRL2b/vkzwg/l%2BNfcf/CvNF/5%2Brr/AL7X/wCJo/4V5ov/AD9XX/fa/wDxNP2lPuwsz4c/4a7/AOCmfhH5fH//AASkfVIY/wDW6h4H%2BMWl3W73W3uUhk/DJqxH/wAFVb3w7pc1r8T/APgnJ%2B0zoBFxE095b/DRdTs48LJ1msriT17qOhr7b/4V5ov/AD9XX/fa/wDxNSL4E0hbV7QXNzteRXJ3rnKhgP4f9o0OpHuFj4aX/gtf/wAE9tMIh%2BIPxI8TeDp84aDxb8ONasyp93NoUH4tXr/7PH7an7Kv7WM1/a/s5/HLQvFs2lwpNqNvpc7GW2jckIzoyhlBIIGR2NfQLfDrQ2Uq1xckEYILrz/47VDS/gh8PNEv59V0XRIbO6ulC3Nza20MckoBJAZlQFgCT19aarR7/gFjyL9or4x3HwV%2BGt54i0HQG1nxBPDNH4b0JMg310sLy7WI%2B5GqRvI7nACoeclQfJfHvxm8R6p8PfAXlfAjwZr/AIv8WeEbrX9WttXQxWNvBaW8Uk6oWjkkJkaZUj3DA6sa%2Blfjd%2Bx98C/2h/B83g34seDrPWITbzx2NxqOn29xLYSSxmMzQGWNvLkAPDD0Fec%2BJP8Agm/oR8D%2BG/Bvww%2BMGp%2BF28MaDqHh7T7qDSLaUJo17HAk9uqAIqzA20TxznJRt2VYMRSdWNwSPnq1%2BL/7H/iRIviF4v8A2IPh7N4AeSbT7/xJd6NZTXcGoJpVxfTBbQ2ZV4YhbyI0pnVt6grGwO6tv4Mfs/fsa/G7XL/wt46/YN8F%2BFNVh0iz1ixsorS3l%2B1abdbxDOWhjjEb7o3VoznaRwzDmvVNZ/4JY%2BDNXF/4AHxOuLb4c3c1/eQeFbbSAL23vLvRZ9Jlb7aZirQ7Lqe4ERg3CdlbzNi7D6F8Ef2RtS%2BHnizVPiF8SPiZF4j1y/0TTtGgn0rQf7Mt7axsxKyIImnuCztLPM7NvA%2BZVCgLzKqRvqOx45e/8Euf2AtQJM/7MmhLn/nhNcRf%2BgSiqn/DqP8AYEX/AFHwEEH/AF7eKNVi/wDQLoV7R%2B05%2BxHb/tI6fpFlpn7T/wAWPhu%2BkTTSfaPhr4jt7B77zAo23Hm20okVduVA24LN1zx5A3/BI/4mWvGkf8FXv2kUHb7Zrul3H87EZpupSvsKzK3/AA6r/YfT/j1%2BGOswf9cvH2tD%2Bd5VjSf%2BCVv7GU%2Bq20DeEPEwR7hFYL8Q9ZHBYf8AT1R/w6r/AGi4OLL/AIK4/G9R28%2Bx0aX%2BdpTrf/gl/wDtWWk6XFv/AMFevi%2BDG4Zd3h3RDyDn/n2pOpTtsFmVf%2BHWX7Gbf6zwZ4kf2b4g6z/8lUf8Oqf2GH/4%2BfhPqk3/AF28ea03/t5U/wDw63/alfib/grx8YSP9jQNEX/21pR/wSm%2BP8/Gof8ABW746sO/2eHR4v5WZp%2B0p9gsyAf8Eo/%2BCf8AkGb9nq3nI/5%2BvEGpS/8Aodya0LD/AIJjfsEacQbf9mHw42OnnrLL/wChuarj/gkP45uz/wATn/gqx%2B03IO/2LxVplv8AysDTv%2BHMmiz/APIU/wCClv7XN1n7w/4XIsAP/fizjpe1p/yhZnR6b%2BwV%2BxPpWPsv7KXgBsdPtPhW1m/9GI1dY37Mn7NvhvWLmPw7%2Bz34HsFjuXCLZeE7OIKAxwBtjGK8wH/BED9ni9/5Gn9qD9o3XAfvDVvjbqL7vrsK0sv/AAQR/wCCb2pytN4t8DeNtfZmJY638VddmyfcfawD%2BOaftY32CzPXJ774WfDeE/abzw/oEYXnfJBagD8dtcj4l/bZ/Y08G7v%2BEu/a1%2BGellfvLqHjvT4SPwaYGsLQf%2BCEH/BKTw44ksf2QdBmYHOdRnnvM/Xz5Hz%2BNd34b/4JYf8ABPHwgVfw5%2Bxx8NbWRfuzr4F01pP%2B%2B2gLfrT9sg5TxzxT/wAFg/8AgmT4PLDVf2z/AAZOV7aTeSX%2Bfp9mSTP4Vhf8Pnv2L9b%2BX4WWXxM8dMfuL4Q%2BE2tT7z/smW2jB/PFfYvhb9mv4M%2BBwq%2BCvAmmaOFHyjS9Lt7fH08uMVu/8K80X/n6uv8Avtf/AImj2y7/AIBY%2BJL3/gpv8VfFltaW/wAKP%2BCW37RWoyLblY5fE/hmy0GGT945BDXd1uA5xkoOQeKg/wCGkf8AgrL40/ceD/8Agmx4S8Ihv9Xe%2BOfjNbXAA7FodPt5CPpvJr7mm8CaRPHFE9zcgQxlFw68jcW5%2BX1Y1H/wrzRf%2Bfq6/wC%2B1/8AiaFUj3Cx8Of8IR/wWo8efufEXx2%2BAHw/hbpJ4T8IaprVxGPc300SMf8AgIFel/szfAL9p74V%2BJNR8TftD/tt6r8U2vbEQW2myeCtP0WysnDhvNjjtQWLYBX53bg%2BtfTH/CvNF/5%2Brr/vtf8A4mj/AIV5ov8Az9XX/fa//E01Up92FmeMfG39nz4VftC6JbaD8VPD81/BZtM9oIdTubby2liaJ8%2BRIm8FHYFXypz0rhvF37Iv7O/gH9mbTNC%2BIuoaq/hn4e6NqAguoNS/s17PTBbRG8gMln5LNBNHEDKjsQ%2B0ZOK9i%2BLH7K%2BpfEn4g%2BBvGWhftCeNfClj4R1WW91Xw/4fmtVtfEqsqBbe9MkLsYl2scRlSd554GOn%2BJXwA%2BHPxd%2BHeo/Cr4gWd3e6Hq0EkGoWsd88DSxuFDL5kJV0%2B6OVYEetJ1abCzPgGPxX8WvHv7N/h39p74Z/s22vg/4qWXjex8MeMofDHhK21PXdL0X7StpLBa/bQFWaOJ7YyGTKIsUoIZVFc545/aB8Z61L4x8TeEvin8QNH1X4NfCw67aaBq7Q2Fxfajpt7O%2BsJqFlp%2B2zvJJIEjjxGrwKt1FJFh2V6%2Bxfhn/wS4/Zz%2BEmleNfDHgXVfE2m6N461P%2B0NY0%2Bx1fypftISIJMt6FN55iNEHV/P8AvMcgjiuh0X/gnT%2ByNpnhrTvC2r/Cu38RQ6XrUus2114ykOtXR1KVlaS8ee%2B82R5mZEJctwUXGNq4XtIjsfFX7HGpaf4a/aL8G6Do2qWkHxL1PxB41tPjfpUU%2BLvULG3vLx9N1i7izkiQtaNBKRho70qhwhVfrz9o74W%2BPfjR8IdT%2BHPw0%2BOuufDbV9QeDyfF/hu0t57yzjSZHlWNbhHjBkjV492Mrv3DkV7Qnwz8ORTSXEbTrJLjzXUoC%2BOBk7ecU/8A4V5ov/P1df8Afa//ABNUqsErCszhP2VPhxf/AAh8DaR8NNU%2BJfiPxjcaNo/2ebxP4uu459S1Fg4Pm3Ekccas/OMhRwB1PJ9ZrM0bwrp%2Bh3TXdpNMzNGUIkYEYyD2A9K06wqSUpXQ1sFFFFQMKKKKACiiigAooooAKKKKAPnP4GftbfEvxn4t0DUfiLZaAvhjx74Q8Q%2BJPC0OkafPHe6XbaZe2kSw3Ukk7pdSTW97HLuSOARvE6YkDKw4vQf24P2j7tfA3hTWtN8Exa/8XtB0DWfBNxBo92bXQor6SR7q3vYzd7r57e3VCkkb2wmkYgpEBk%2Bx/Dz9jjwR8NPHMHjXQfH/AIomj06HULTQNEvpLKSy0ewvrtLu9sYB9lEhhlmigz5jySItvGkbxoCrYOif8E9PhZoOiw6ZafEnxpJdaPZ6TZeC9YnvbN7rwrZ6ZO81nbWR%2By7HRTIyO1ylw80eEleQAAAHefs0/FPxH8XPhlLrvjO0sYta0rxNrWgaudMieO2nuNN1O5sWniR3do0l%2BziURs7lBJsLsVLHv65j4P8Awp8PfBbwHb%2BAfDd9fXkSXl5fXmoanKj3N9eXd1Ld3VzKUVE8yW4nlkYIqoC%2BFVVAUdPQAV896J%2B1H8VL/wCN2n291Y%2BHv%2BEG1n4q6l4CsLOOwnGqQXNnpl3dNfyXBnMTxvPYzwiAQKQskcnmnDJX0JXkk/7Hvg0/FU/FPTviH4psjH4jm8RafoFvNZNp9hrM1mbKe/iWS1aTzJLd50KPI0QNzLIsayMHAB5r%2B0L%2B1J%2B1V8F/Eni3Q9F0rwRr13a%2BB9d8QaPoWj6HqF5c6JBbXEUWmzX7pcL9q%2B2BpSLeOKBw8UqRyTrDJLXsf7N3xQu/il4N1C91f4g6Zr%2BpaXrUlhqf9n%2BCL/w7JYSiKKQW89hqE81xFLslSUFyoeOaNlXaQzc74f8A2PV8Naz421bS/wBpD4ixjx3qd5qGqxxS6TFJBczYELw3UWnrdYto1jigSSZ1WOFEcSLkHsfg38FdK%2BDsOvXSeL9a8Rav4o1oar4h8QeIGtvtV7cLbQWkeVtYYYI1SC2gjVY4kGE3HLszMAdnRRRQB4B%2B1h%2B0v8W/hNrviCy%2BFFh4deHwL8L73xz4mj16xnmk1O3hkcR2Fs0U8QtpJFt7rNw4mVD5X7pgWxD8Uv2ofHng79p%2B0%2BH83ivRvDPgR/DXh2/TW9X%2BG%2Bramt9d6hqN/bSWzahb3UVrpuFt7RUa4Vh5l2M7uFPafHv9k7wL%2B0HqR1DxH4r8Q6QLzw7deHvEVvoNzbxx67o9w6PNYXXnQyERttYB4TFMollCyKHNN%2BI/7LVl8Vbm3g8X/GrxxLpBhs4tb8NxXdklhrSW101zEJ0%2ByboTubY5tWgMsaokhcKuADjv2df2o/ip8TfiF4Wt/HFj4eXw98SPDGva94Rh0qwniu9Lg06/s4I4buWSeRLp5oL6OUskcAieJ0xIGVh9CV5b8Jf2TPAfwf8AHo8daL4p8QagLGx1Gx8M6RqtxbtaeHrS/vI7y7t7QRwpIUkmhg/17zMiwIiFEBU%2BpUAFeXfHz4mfFLRfHfgv4O/Bm68P2Wu%2BLW1K4fVvE2lz3traWllbq7gQQXFu8kjyzW6A%2BaoVTI2GKhT6jXD/ABm%2BBemfGKXRNXh8deIPC2t%2BHbqebR/EXhiS2W7gWeB4JosXUE8Txuj8hoyQyRupVkUgA8r8ZftJfHPxX%2Bx74K/aZ%2BC2peEtF1XxZ4d0uW18L%2BJPDN1qgu9X1P7PFaWaTQX9r5MYuJ9kkpSTEeZMAIQZvg3%2B0n8UfEf7R2t/Cb4seMPD%2BlQ2viS90rw7o6/DPV7STWhb2cc5kg1aa7azlkwZpTbpG0giiY9FZ677Rv2X/AOg%2BEvAHgLTtW1ddG%2BGmrW974W04zQ7I47ewmsre0kIi3SwxJNvUk%2BaZIo2aRsEEb9mvSrz4w6f8WvEHxS8X6tFoutXGseHvC2p39vJpulX89nLZSTwkQC5P7i4uUWKSd4k%2B0PsjXCbQD0iiiigCj4mm8R2/hy/n8HWFndaslnKdMttRumgt5bgKfLWWREdo0LYDMqMQMkKTxXg%2BhftSfFjUv2L/B/xiudP8O/8Jt4u1zStCiMdjONLt7u81ZNPNyYTOZWijVmm8rzgz7NnmJu3D3nxHpd9reg3ekaZ4kvdHuLmBo4dV06OBp7ViMCSMXEcsRYdQHR19VNeQeEf2I9B8MfBBPgJf/HTx3rOkWd5bXuh3epf2Sl3pF5b3sd9b3MD22nxKzx3MSuBKsiNkq6uh20AeU6/%2B3R%2B0TZWfjzR9J0vwZJrHwb8O69rfjuSbSLvyNeisbhvs0FiguwbF57eKR2kle5EMhVdsoy1fXtjeQahZQ39sxMc8SyRkjBKsMj9DXhOs/8ABPL4Ua5oc2j3XxD8ZJJrFlqtj431CK9sxP4us9RuRcXlvf8A%2Bi7FR23Kptlt3ijdo4mjU4r3pVVFCIoAAwABwBQAtIxYKSi5OOATjNLTLiN5oHhjuHiZ0IWWMAshI%2B8NwIyOvII9jQB5B%2Bz38Xfj38UfhP421HxX4c8JL418PeKNZ0fTNO067uYtMea3/wCPeOW4dXlK7mVHnWJSwBdYVz5Y8i179sj9pzRdW/4RWPU/CmoWtj8Rbnw/qnj/AMOfCfW9YsZIoNFa8mSHTrK/ecyQ3im1klEzxhldSqPHIq%2Bs%2BBv2PtQ8B%2BFvGXhSx/ap%2BJlzH42l1G4vryb%2Bw4bmxvLyNkku7WS20yIxyqWV0zuRXjX5SMgv8Mfsiah4K%2BHWkfDbwd%2B1F8RtJtfD5VNEuNLh0K2NpbCBofsvkR6WttLGQQ%2BZYXkV0DI65bIB6X8PfE%2Bn%2BNvAOh%2BMtJ8T6drdrq2kW15bazpERS0v45YldbiFS8hWJwwZQXchWA3N1OxWF8MPhz4V%2BD/w30D4UeBrOS30bw1o9tpmlQyzNI6W8ESxRhnbJdtqjLHknJPJrdoAK8s0L4sfFWb9sLXPgj4i0nQIfC0Pgi31nQLizaeTUJZDc%2BTK1wzFY0XduVYkViBGHMh8zy4/U68t1P8AZlv779oCb9oWz/aI8c2N7No66UNCtbfRTp8dmJDKIh5mnPP/AKwl9xmLZOM7cLQB4vJ%2B3X8WPDdn49u/GereHINY07XPEGmeCPBV58OtX01r37Nr50qxujqs901vfxlJLWadLaIMFuARsAGfcP2efib4/wDGOq%2BOvh78U5tGutd8B%2BK4tJuNU0DTpbO11GKbTLLUIplt5Z53hIW88plMsmWhLggOFXA8bfsP%2BA/idq2pXnxN%2BKHjfxBZXFvqkeiaTqWq25i8PPfyLJLNZypbrceYjKPJM8sywL8sYVQFHcfBz4MaT8HbLWmh8V6x4g1bxLrZ1bxF4h19rf7XqF19ngtUZ1toYYUCW9tbxKscaKFiBILFmIB2NFFFAHlnjv4sfFXwv%2B1Z4D%2BFVppOgf8ACHeKdH1R7m8lad9Sa9to1kAQArFFEqsuSfMaQyEYiEeZOd%2BOXxS/aU8BfGbTfC3w98S%2BDNT02/0bVdauNAufBd419aabY2ihnN4mpBJJJL6e0iRPsy5SWUjJhJPT/FH9my7%2BJvxe8N/GKD4%2BeNfD114Vhnj0vStDg0drM%2BeoWdn%2B16fPKxdFVT%2B8AAXKhTkndHwV8PyfEDU/iZe%2BIdZn1TVfB1r4cnkF2sPlW8MtzKZ4jCiNFPI10d7qwH7mHaqFSSAcP%2BxZ8e/F3xy8Fy3fxI8baPd%2BJINM0281TQLH4eap4cn0n7VCzgPDqVzNJcROySrHcIFjfyJApYq232mvPvg3%2Bz5p/wAI/EOseNdR%2BJfijxh4g1vTdP02817xXNaNcCxsTcNbWyi0t4I9qPd3Tlyhkdp2Lu2FC%2Bg0AFef/tH%2BMPiL4C8BN4w8E%2BNPBfhnT9MMt14n8S%2BN7K4u7fT7GOCRtyW0E0BmdpBGvMyBVLECRsIfQK88/aB/Z5sf2goPDcGofEzxJ4c/4RjxBHrNmNAj0%2BVLm6jjdYTPFf2lzHKImfzUG0bJUjkHzRoVAPLvGn7Uf7SFx4L8FL4Q8DeH/DXi3U/gzfePfFmi%2BLbG5uVs5rWKw3aOgimhaKRpryRDcNv8oW/MMhfCw/Cb9tL4jfFDxn4V8a22laFF8PfGvj%2B68I6RpxsJxq1rNDpFxffbZbjzzE6NNZzweQsCkK8cnmnDJXd/En9kDS/ivplhF4v%2BOHjltUtdE1HRLvxFZSaZb3moaVfi3%2B12M3l2IhVJDbQsJIo45o2XMcqZOZfDH7G/wy8IfFGz%2BIuh67rkVhpmty63o/gwT240jT9Vl086fJexKIROHa2eVPLaYwhp5HEYdtwAPWqKKKACiiigAooooAKKKKACiiigAooooAKKKKACiiigAooooAKKKKACiiigAooooAKKKKACiiigAooooAKKKKACiiigAooooAKKKKACiiigAooooAKKKKACiiigAooooAKKKKACiiigAooooAKKKKACiiigD//Z\">"
            ]
          },
          "metadata": {
            "tags": []
          }
        }
      ]
    },
    {
      "metadata": {
        "id": "QULOp_KC1au_",
        "colab_type": "code",
        "colab": {}
      },
      "cell_type": "code",
      "source": [
        ""
      ],
      "execution_count": 0,
      "outputs": []
    }
  ]
}