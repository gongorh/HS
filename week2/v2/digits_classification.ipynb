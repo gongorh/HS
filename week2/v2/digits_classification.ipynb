{
  "nbformat": 4,
  "nbformat_minor": 0,
  "metadata": {
    "colab": {
      "name": "digits_classification.ipynb",
      "version": "0.3.2",
      "provenance": []
    },
    "kernelspec": {
      "display_name": "Python 3",
      "language": "python",
      "name": "python3"
    }
  },
  "cells": [
    {
      "metadata": {
        "id": "Q4kVl-6zBbc1",
        "colab_type": "text"
      },
      "cell_type": "markdown",
      "source": [
        "# MNIST digits classification with TensorFlow"
      ]
    },
    {
      "metadata": {
        "id": "9bs08VJfBbc3",
        "colab_type": "text"
      },
      "cell_type": "markdown",
      "source": [
        "<img src=\"https://github.com/hse-aml/intro-to-dl/blob/master/week2/v2/images/mnist_sample.png?raw=1\" style=\"width:30%\">"
      ]
    },
    {
      "metadata": {
        "id": "WG4kiJexBj94",
        "colab_type": "code",
        "colab": {
          "base_uri": "https://localhost:8080/",
          "height": 153
        },
        "outputId": "acf8e6a9-dbb6-4ab0-9639-d7f0f642616d"
      },
      "cell_type": "code",
      "source": [
        "! wget https://raw.githubusercontent.com/hse-aml/intro-to-dl/master/setup_google_colab.py -O setup_google_colab.py\n",
        "import setup_google_colab\n",
        "setup_google_colab.setup_week2_v2()  # change to the week you're working on\n",
        "# note on week 2: select setup_week2_v2() if you've started the course after August 13, 2018,\n",
        "# otherwise call setup_week2()."
      ],
      "execution_count": 1,
      "outputs": [
        {
          "output_type": "stream",
          "text": [
            "\n",
            "Redirecting output to ‘wget-log’.\n",
            "**************************************************\n",
            "inception_v3_weights_tf_dim_ordering_tf_kernels_notop.h5\n",
            "**************************************************\n",
            "cifar-10-batches-py.tar.gz\n",
            "**************************************************\n",
            "mnist.npz\n"
          ],
          "name": "stdout"
        }
      ]
    },
    {
      "metadata": {
        "id": "KrTo6bflBbc3",
        "colab_type": "code",
        "colab": {
          "base_uri": "https://localhost:8080/",
          "height": 51
        },
        "outputId": "93761db6-4e13-499a-fa5e-6b6d9948dad4"
      },
      "cell_type": "code",
      "source": [
        "import numpy as np\n",
        "from sklearn.metrics import accuracy_score\n",
        "from matplotlib import pyplot as plt\n",
        "%matplotlib inline\n",
        "import tensorflow as tf\n",
        "print(\"We're using TF\", tf.__version__)\n",
        "\n",
        "import sys\n",
        "sys.path.append(\"../..\")\n",
        "import grading\n",
        "\n",
        "import matplotlib_utils\n",
        "from importlib import reload\n",
        "reload(matplotlib_utils)\n",
        "\n",
        "import grading_utils\n",
        "reload(grading_utils)\n",
        "\n",
        "import keras_utils\n",
        "from keras_utils import reset_tf_session"
      ],
      "execution_count": 2,
      "outputs": [
        {
          "output_type": "stream",
          "text": [
            "We're using TF 1.10.1\n"
          ],
          "name": "stdout"
        },
        {
          "output_type": "stream",
          "text": [
            "Using TensorFlow backend.\n"
          ],
          "name": "stderr"
        }
      ]
    },
    {
      "metadata": {
        "id": "G5-xAksVBbc7",
        "colab_type": "text"
      },
      "cell_type": "markdown",
      "source": [
        "# Fill in your Coursera token and email\n",
        "To successfully submit your answers to our grader, please fill in your Coursera submission token and email"
      ]
    },
    {
      "metadata": {
        "id": "F6TSr_FQBbc7",
        "colab_type": "code",
        "colab": {}
      },
      "cell_type": "code",
      "source": [
        "grader = grading.Grader(assignment_key=\"XtD7ho3TEeiHQBLWejjYAA\", \n",
        "                        all_parts=[\"9XaAS\", \"vmogZ\", \"RMv95\", \"i8bgs\", \"rE763\"])"
      ],
      "execution_count": 0,
      "outputs": []
    },
    {
      "metadata": {
        "id": "MpCnNB4vBbc-",
        "colab_type": "code",
        "colab": {}
      },
      "cell_type": "code",
      "source": [
        "# token expires every 30 min\n",
        "COURSERA_TOKEN = \"x678enmLAd5Lr3lx\"\n",
        "COURSERA_EMAIL = \"homero.gongora@generalstar.com\""
      ],
      "execution_count": 0,
      "outputs": []
    },
    {
      "metadata": {
        "id": "NaBMq60nBbdA",
        "colab_type": "text"
      },
      "cell_type": "markdown",
      "source": [
        "# Look at the data\n",
        "\n",
        "In this task we have 50000 28x28 images of digits from 0 to 9.\n",
        "We will train a classifier on this data."
      ]
    },
    {
      "metadata": {
        "id": "rZPQ-aYlBbdB",
        "colab_type": "code",
        "colab": {}
      },
      "cell_type": "code",
      "source": [
        "import preprocessed_mnist\n",
        "X_train, y_train, X_val, y_val, X_test, y_test = preprocessed_mnist.load_dataset()"
      ],
      "execution_count": 0,
      "outputs": []
    },
    {
      "metadata": {
        "id": "nmwvmo3HBbdE",
        "colab_type": "code",
        "colab": {
          "base_uri": "https://localhost:8080/",
          "height": 683
        },
        "outputId": "bb058bfc-702f-4e90-b66f-34f610b73c1d"
      },
      "cell_type": "code",
      "source": [
        "# X contains rgb values divided by 255\n",
        "print(\"X_train [shape %s] sample patch:\\n\" % (str(X_train.shape)), X_train[1, 15:20, 5:10])\n",
        "print(\"A closeup of a sample patch:\")\n",
        "plt.imshow(X_train[1, 15:20, 5:10], cmap=\"Greys\")\n",
        "plt.show()\n",
        "print(\"And the whole sample:\")\n",
        "plt.imshow(X_train[1], cmap=\"Greys\")\n",
        "plt.show()\n",
        "print(\"y_train [shape %s] 10 samples:\\n\" % (str(y_train.shape)), y_train[:10])"
      ],
      "execution_count": 49,
      "outputs": [
        {
          "output_type": "stream",
          "text": [
            "X_train [shape (50000, 28, 28)] sample patch:\n",
            " [[0.         0.29803922 0.96470588 0.98823529 0.43921569]\n",
            " [0.         0.33333333 0.98823529 0.90196078 0.09803922]\n",
            " [0.         0.33333333 0.98823529 0.8745098  0.        ]\n",
            " [0.         0.33333333 0.98823529 0.56862745 0.        ]\n",
            " [0.         0.3372549  0.99215686 0.88235294 0.        ]]\n",
            "A closeup of a sample patch:\n"
          ],
          "name": "stdout"
        },
        {
          "output_type": "display_data",
          "data": {
            "image/png": "[encoded data removed]",
            "text/plain": [
              "<matplotlib.figure.Figure at 0x7f2a7869fba8>"
            ]
          },
          "metadata": {
            "tags": []
          }
        },
        {
          "output_type": "stream",
          "text": [
            "And the whole sample:\n"
          ],
          "name": "stdout"
        },
        {
          "output_type": "display_data",
          "data": {
            "image/png": "[encoded data removed]",
            "text/plain": [
              "<matplotlib.figure.Figure at 0x7f2a789a3278>"
            ]
          },
          "metadata": {
            "tags": []
          }
        },
        {
          "output_type": "stream",
          "text": [
            "y_train [shape (50000,)] 10 samples:\n",
            " [5 0 4 1 9 2 1 3 1 4]\n"
          ],
          "name": "stdout"
        }
      ]
    },
    {
      "metadata": {
        "id": "5wGJF0MABbdI",
        "colab_type": "text"
      },
      "cell_type": "markdown",
      "source": [
        "# Linear model\n",
        "\n",
        "Your task is to train a linear classifier $\\vec{x} \\rightarrow y$ with SGD using TensorFlow.\n",
        "\n",
        "You will need to calculate a logit (a linear transformation) $z_k$ for each class: \n",
        "$$z_k = \\vec{x} \\cdot \\vec{w_k} + b_k \\quad k = 0..9$$\n",
        "\n",
        "And transform logits $z_k$ to valid probabilities $p_k$ with softmax: \n",
        "$$p_k = \\frac{e^{z_k}}{\\sum_{i=0}^{9}{e^{z_i}}} \\quad k = 0..9$$\n",
        "\n",
        "We will use a cross-entropy loss to train our multi-class classifier:\n",
        "$$\\text{cross-entropy}(y, p) = -\\sum_{k=0}^{9}{\\log(p_k)[y = k]}$$ \n",
        "\n",
        "where \n",
        "$$\n",
        "[x]=\\begin{cases}\n",
        "       1, \\quad \\text{if $x$ is true} \\\\\n",
        "       0, \\quad \\text{otherwise}\n",
        "    \\end{cases}\n",
        "$$\n",
        "\n",
        "Cross-entropy minimization pushes $p_k$ close to 1 when $y = k$, which is what we want.\n",
        "\n",
        "Here's the plan:\n",
        "* Flatten the images (28x28 -> 784) with `X_train.reshape((X_train.shape[0], -1))` to simplify our linear model implementation\n",
        "* Use a matrix placeholder for flattened `X_train`\n",
        "* Convert `y_train` to one-hot encoded vectors that are needed for cross-entropy\n",
        "* Use a shared variable `W` for all weights (a column $\\vec{w_k}$ per class) and `b` for all biases.\n",
        "* Aim for ~0.93 validation accuracy"
      ]
    },
    {
      "metadata": {
        "id": "MjsHY73WBbdK",
        "colab_type": "code",
        "colab": {
          "base_uri": "https://localhost:8080/",
          "height": 51
        },
        "outputId": "61bfb54f-c02d-4852-e2b9-f9907a7e4452"
      },
      "cell_type": "code",
      "source": [
        "X_train_flat = X_train.reshape((X_train.shape[0], -1))\n",
        "print(X_train_flat.shape)\n",
        "\n",
        "X_val_flat = X_val.reshape((X_val.shape[0], -1))\n",
        "print(X_val_flat.shape)"
      ],
      "execution_count": 50,
      "outputs": [
        {
          "output_type": "stream",
          "text": [
            "(50000, 784)\n",
            "(10000, 784)\n"
          ],
          "name": "stdout"
        }
      ]
    },
    {
      "metadata": {
        "id": "Ko1IHPBwBbdN",
        "colab_type": "code",
        "colab": {
          "base_uri": "https://localhost:8080/",
          "height": 85
        },
        "outputId": "24d48296-51ac-42e4-e83f-1ccb239dfb56"
      },
      "cell_type": "code",
      "source": [
        "import keras\n",
        "\n",
        "y_train_oh = keras.utils.to_categorical(y_train, 10)\n",
        "y_val_oh = keras.utils.to_categorical(y_val, 10)\n",
        "\n",
        "print(y_train_oh.shape)\n",
        "print(y_train_oh[:3], y_train[:3])"
      ],
      "execution_count": 51,
      "outputs": [
        {
          "output_type": "stream",
          "text": [
            "(50000, 10)\n",
            "[[0. 0. 0. 0. 0. 1. 0. 0. 0. 0.]\n",
            " [1. 0. 0. 0. 0. 0. 0. 0. 0. 0.]\n",
            " [0. 0. 0. 0. 1. 0. 0. 0. 0. 0.]] [5 0 4]\n"
          ],
          "name": "stdout"
        }
      ]
    },
    {
      "metadata": {
        "id": "7jB02F2rBbdT",
        "colab_type": "code",
        "colab": {}
      },
      "cell_type": "code",
      "source": [
        "# run this again if you remake your graph\n",
        "s = reset_tf_session()"
      ],
      "execution_count": 0,
      "outputs": []
    },
    {
      "metadata": {
        "id": "7nFI0onmBbdW",
        "colab_type": "code",
        "colab": {
          "base_uri": "https://localhost:8080/",
          "height": 51
        },
        "outputId": "e8cc6f39-9837-4d8c-a668-c3e8c4ca18ea"
      },
      "cell_type": "code",
      "source": [
        "# Model parameters: W and b\n",
        "### YOUR CODE HERE ### tf.get_variable(...) with shape[0] = 784\n",
        "W = tf.Variable(np.random.rand(X_train_flat.shape[1],10),dtype = 'float32')\n",
        "print(W)\n",
        "### YOUR CODE HERE ### tf.get_variable(...)\n",
        "b = tf.Variable(np.random.rand(10),dtype = 'float32')\n",
        "print(b)"
      ],
      "execution_count": 76,
      "outputs": [
        {
          "output_type": "stream",
          "text": [
            "<tf.Variable 'Variable:0' shape=(784, 10) dtype=float32_ref>\n",
            "<tf.Variable 'Variable_1:0' shape=(10,) dtype=float32_ref>\n"
          ],
          "name": "stdout"
        }
      ]
    },
    {
      "metadata": {
        "id": "DAabL281BbdZ",
        "colab_type": "code",
        "colab": {}
      },
      "cell_type": "code",
      "source": [
        "# Placeholders for the input data\n",
        "### YOUR CODE HERE ### tf.placeholder(...) for flat X with shape[0] = None for any batch size\n",
        "input_X = tf.placeholder('float32', shape=(None,X_train_flat.shape[1]))\n",
        "### YOUR CODE HERE ### tf.placeholder(...) for one-hot encoded true labels\n",
        "input_y = tf.placeholder('float32', shape = (None,y_train_oh.shape[1]))"
      ],
      "execution_count": 0,
      "outputs": []
    },
    {
      "metadata": {
        "id": "KyXxUuKSBbdb",
        "colab_type": "code",
        "colab": {
          "base_uri": "https://localhost:8080/",
          "height": 68
        },
        "outputId": "16262e79-1f7a-4336-830d-a07bb0d51bcb"
      },
      "cell_type": "code",
      "source": [
        "# Compute predictions\n",
        "### YOUR CODE HERE ### logits for input_X, resulting shape should be [input_X.shape[0], 10]\n",
        "logits = tf.matmul(input_X,W) + b\n",
        "print(logits.shape)\n",
        "### YOUR CODE HERE ### apply tf.nn.softmax to logits\n",
        "probas = tf.nn.softmax(logits)\n",
        "print(probas.shape)\n",
        "### YOUR CODE HERE ### apply tf.argmax to find a class index with highest probability\n",
        "classes = tf.argmax(probas,axis = -1)\n",
        "print(classes.shape)\n",
        "# Loss should be a scalar number: average loss over all the objects with tf.reduce_mean().\n",
        "# Use tf.nn.softmax_cross_entropy_with_logits on top of one-hot encoded input_y and logits.\n",
        "# It is identical to calculating cross-entropy on top of probas, but is more numerically friendly (read the docs).\n",
        "### YOUR CODE HERE ### cross-entropy loss\n",
        "loss =  tf.reduce_mean(tf.nn.softmax_cross_entropy_with_logits(logits = logits, labels = input_y))\n",
        "\n",
        "# Use a default tf.train.AdamOptimizer to get an SGD step\n",
        "### YOUR CODE HERE ### optimizer step that minimizes the loss\n",
        "step =  tf.train.AdamOptimizer(.01).minimize(loss)"
      ],
      "execution_count": 78,
      "outputs": [
        {
          "output_type": "stream",
          "text": [
            "(?, 10)\n",
            "(?, 10)\n",
            "(?,)\n"
          ],
          "name": "stdout"
        }
      ]
    },
    {
      "metadata": {
        "id": "l0vjrHuEBbdd",
        "colab_type": "code",
        "colab": {
          "base_uri": "https://localhost:8080/",
          "height": 2172
        },
        "outputId": "b219e60f-f6ed-4398-a5a1-e96e80ec720f"
      },
      "cell_type": "code",
      "source": [
        "s.run(tf.global_variables_initializer())\n",
        "\n",
        "BATCH_SIZE = 512\n",
        "EPOCHS = 40\n",
        "\n",
        "# for logging the progress right here in Jupyter (for those who don't have TensorBoard)\n",
        "simpleTrainingCurves = matplotlib_utils.SimpleTrainingCurves(\"cross-entropy\", \"accuracy\")\n",
        "\n",
        "for epoch in range(EPOCHS):  # we finish an epoch when we've looked at all training samples\n",
        "    \n",
        "    batch_losses = []\n",
        "    for batch_start in range(0, X_train_flat.shape[0], BATCH_SIZE):  # data is already shuffled\n",
        "        _, batch_loss = s.run([step, loss], {input_X: X_train_flat[batch_start:batch_start+BATCH_SIZE], \n",
        "                                             input_y: y_train_oh[batch_start:batch_start+BATCH_SIZE]})\n",
        "        # collect batch losses, this is almost free as we need a forward pass for backprop anyway\n",
        "        batch_losses.append(batch_loss)\n",
        "\n",
        "    train_loss = np.mean(batch_losses)\n",
        "    val_loss = s.run(loss, {input_X: X_val_flat, input_y: y_val_oh})  # this part is usually small\n",
        "    train_accuracy = accuracy_score(y_train, s.run(classes, {input_X: X_train_flat}))  # this is slow and usually skipped\n",
        "    valid_accuracy = accuracy_score(y_val, s.run(classes, {input_X: X_val_flat}))  \n",
        "    simpleTrainingCurves.add(train_loss, val_loss, train_accuracy, valid_accuracy)"
      ],
      "execution_count": 114,
      "outputs": [
        {
          "output_type": "error",
          "ename": "InvalidArgumentError",
          "evalue": "ignored",
          "traceback": [
            "\u001b[0;31m---------------------------------------------------------------------------\u001b[0m",
            "\u001b[0;31mInvalidArgumentError\u001b[0m                      Traceback (most recent call last)",
            "\u001b[0;32m/usr/local/lib/python3.6/dist-packages/tensorflow/python/client/session.py\u001b[0m in \u001b[0;36m_do_call\u001b[0;34m(self, fn, *args)\u001b[0m\n\u001b[1;32m   1277\u001b[0m     \u001b[0;32mtry\u001b[0m\u001b[0;34m:\u001b[0m\u001b[0;34m\u001b[0m\u001b[0m\n\u001b[0;32m-> 1278\u001b[0;31m       \u001b[0;32mreturn\u001b[0m \u001b[0mfn\u001b[0m\u001b[0;34m(\u001b[0m\u001b[0;34m*\u001b[0m\u001b[0margs\u001b[0m\u001b[0;34m)\u001b[0m\u001b[0;34m\u001b[0m\u001b[0m\n\u001b[0m\u001b[1;32m   1279\u001b[0m     \u001b[0;32mexcept\u001b[0m \u001b[0merrors\u001b[0m\u001b[0;34m.\u001b[0m\u001b[0mOpError\u001b[0m \u001b[0;32mas\u001b[0m \u001b[0me\u001b[0m\u001b[0;34m:\u001b[0m\u001b[0;34m\u001b[0m\u001b[0m\n",
            "\u001b[0;32m/usr/local/lib/python3.6/dist-packages/tensorflow/python/client/session.py\u001b[0m in \u001b[0;36m_run_fn\u001b[0;34m(feed_dict, fetch_list, target_list, options, run_metadata)\u001b[0m\n\u001b[1;32m   1262\u001b[0m       return self._call_tf_sessionrun(\n\u001b[0;32m-> 1263\u001b[0;31m           options, feed_dict, fetch_list, target_list, run_metadata)\n\u001b[0m\u001b[1;32m   1264\u001b[0m \u001b[0;34m\u001b[0m\u001b[0m\n",
            "\u001b[0;32m/usr/local/lib/python3.6/dist-packages/tensorflow/python/client/session.py\u001b[0m in \u001b[0;36m_call_tf_sessionrun\u001b[0;34m(self, options, feed_dict, fetch_list, target_list, run_metadata)\u001b[0m\n\u001b[1;32m   1349\u001b[0m         \u001b[0mself\u001b[0m\u001b[0;34m.\u001b[0m\u001b[0m_session\u001b[0m\u001b[0;34m,\u001b[0m \u001b[0moptions\u001b[0m\u001b[0;34m,\u001b[0m \u001b[0mfeed_dict\u001b[0m\u001b[0;34m,\u001b[0m \u001b[0mfetch_list\u001b[0m\u001b[0;34m,\u001b[0m \u001b[0mtarget_list\u001b[0m\u001b[0;34m,\u001b[0m\u001b[0;34m\u001b[0m\u001b[0m\n\u001b[0;32m-> 1350\u001b[0;31m         run_metadata)\n\u001b[0m\u001b[1;32m   1351\u001b[0m \u001b[0;34m\u001b[0m\u001b[0m\n",
            "\u001b[0;31mInvalidArgumentError\u001b[0m: logits and labels must be broadcastable: logits_size=[512,256] labels_size=[512,10]\n\t [[Node: softmax_cross_entropy_with_logits_sg = SoftmaxCrossEntropyWithLogits[T=DT_FLOAT, _device=\"/job:localhost/replica:0/task:0/device:CPU:0\"](softmax_cross_entropy_with_logits_sg/Reshape, softmax_cross_entropy_with_logits_sg/Reshape_1)]]",
            "\nDuring handling of the above exception, another exception occurred:\n",
            "\u001b[0;31mInvalidArgumentError\u001b[0m                      Traceback (most recent call last)",
            "\u001b[0;32m<ipython-input-114-2f3bd18d7b49>\u001b[0m in \u001b[0;36m<module>\u001b[0;34m()\u001b[0m\n\u001b[1;32m     12\u001b[0m     \u001b[0;32mfor\u001b[0m \u001b[0mbatch_start\u001b[0m \u001b[0;32min\u001b[0m \u001b[0mrange\u001b[0m\u001b[0;34m(\u001b[0m\u001b[0;36m0\u001b[0m\u001b[0;34m,\u001b[0m \u001b[0mX_train_flat\u001b[0m\u001b[0;34m.\u001b[0m\u001b[0mshape\u001b[0m\u001b[0;34m[\u001b[0m\u001b[0;36m0\u001b[0m\u001b[0;34m]\u001b[0m\u001b[0;34m,\u001b[0m \u001b[0mBATCH_SIZE\u001b[0m\u001b[0;34m)\u001b[0m\u001b[0;34m:\u001b[0m  \u001b[0;31m# data is already shuffled\u001b[0m\u001b[0;34m\u001b[0m\u001b[0m\n\u001b[1;32m     13\u001b[0m         _, batch_loss = s.run([step, loss], {input_X: X_train_flat[batch_start:batch_start+BATCH_SIZE], \n\u001b[0;32m---> 14\u001b[0;31m                                              input_y: y_train_oh[batch_start:batch_start+BATCH_SIZE]})\n\u001b[0m\u001b[1;32m     15\u001b[0m         \u001b[0;31m# collect batch losses, this is almost free as we need a forward pass for backprop anyway\u001b[0m\u001b[0;34m\u001b[0m\u001b[0;34m\u001b[0m\u001b[0m\n\u001b[1;32m     16\u001b[0m         \u001b[0mbatch_losses\u001b[0m\u001b[0;34m.\u001b[0m\u001b[0mappend\u001b[0m\u001b[0;34m(\u001b[0m\u001b[0mbatch_loss\u001b[0m\u001b[0;34m)\u001b[0m\u001b[0;34m\u001b[0m\u001b[0m\n",
            "\u001b[0;32m/usr/local/lib/python3.6/dist-packages/tensorflow/python/client/session.py\u001b[0m in \u001b[0;36mrun\u001b[0;34m(self, fetches, feed_dict, options, run_metadata)\u001b[0m\n\u001b[1;32m    875\u001b[0m     \u001b[0;32mtry\u001b[0m\u001b[0;34m:\u001b[0m\u001b[0;34m\u001b[0m\u001b[0m\n\u001b[1;32m    876\u001b[0m       result = self._run(None, fetches, feed_dict, options_ptr,\n\u001b[0;32m--> 877\u001b[0;31m                          run_metadata_ptr)\n\u001b[0m\u001b[1;32m    878\u001b[0m       \u001b[0;32mif\u001b[0m \u001b[0mrun_metadata\u001b[0m\u001b[0;34m:\u001b[0m\u001b[0;34m\u001b[0m\u001b[0m\n\u001b[1;32m    879\u001b[0m         \u001b[0mproto_data\u001b[0m \u001b[0;34m=\u001b[0m \u001b[0mtf_session\u001b[0m\u001b[0;34m.\u001b[0m\u001b[0mTF_GetBuffer\u001b[0m\u001b[0;34m(\u001b[0m\u001b[0mrun_metadata_ptr\u001b[0m\u001b[0;34m)\u001b[0m\u001b[0;34m\u001b[0m\u001b[0m\n",
            "\u001b[0;32m/usr/local/lib/python3.6/dist-packages/tensorflow/python/client/session.py\u001b[0m in \u001b[0;36m_run\u001b[0;34m(self, handle, fetches, feed_dict, options, run_metadata)\u001b[0m\n\u001b[1;32m   1098\u001b[0m     \u001b[0;32mif\u001b[0m \u001b[0mfinal_fetches\u001b[0m \u001b[0;32mor\u001b[0m \u001b[0mfinal_targets\u001b[0m \u001b[0;32mor\u001b[0m \u001b[0;34m(\u001b[0m\u001b[0mhandle\u001b[0m \u001b[0;32mand\u001b[0m \u001b[0mfeed_dict_tensor\u001b[0m\u001b[0;34m)\u001b[0m\u001b[0;34m:\u001b[0m\u001b[0;34m\u001b[0m\u001b[0m\n\u001b[1;32m   1099\u001b[0m       results = self._do_run(handle, final_targets, final_fetches,\n\u001b[0;32m-> 1100\u001b[0;31m                              feed_dict_tensor, options, run_metadata)\n\u001b[0m\u001b[1;32m   1101\u001b[0m     \u001b[0;32melse\u001b[0m\u001b[0;34m:\u001b[0m\u001b[0;34m\u001b[0m\u001b[0m\n\u001b[1;32m   1102\u001b[0m       \u001b[0mresults\u001b[0m \u001b[0;34m=\u001b[0m \u001b[0;34m[\u001b[0m\u001b[0;34m]\u001b[0m\u001b[0;34m\u001b[0m\u001b[0m\n",
            "\u001b[0;32m/usr/local/lib/python3.6/dist-packages/tensorflow/python/client/session.py\u001b[0m in \u001b[0;36m_do_run\u001b[0;34m(self, handle, target_list, fetch_list, feed_dict, options, run_metadata)\u001b[0m\n\u001b[1;32m   1270\u001b[0m     \u001b[0;32mif\u001b[0m \u001b[0mhandle\u001b[0m \u001b[0;32mis\u001b[0m \u001b[0;32mNone\u001b[0m\u001b[0;34m:\u001b[0m\u001b[0;34m\u001b[0m\u001b[0m\n\u001b[1;32m   1271\u001b[0m       return self._do_call(_run_fn, feeds, fetches, targets, options,\n\u001b[0;32m-> 1272\u001b[0;31m                            run_metadata)\n\u001b[0m\u001b[1;32m   1273\u001b[0m     \u001b[0;32melse\u001b[0m\u001b[0;34m:\u001b[0m\u001b[0;34m\u001b[0m\u001b[0m\n\u001b[1;32m   1274\u001b[0m       \u001b[0;32mreturn\u001b[0m \u001b[0mself\u001b[0m\u001b[0;34m.\u001b[0m\u001b[0m_do_call\u001b[0m\u001b[0;34m(\u001b[0m\u001b[0m_prun_fn\u001b[0m\u001b[0;34m,\u001b[0m \u001b[0mhandle\u001b[0m\u001b[0;34m,\u001b[0m \u001b[0mfeeds\u001b[0m\u001b[0;34m,\u001b[0m \u001b[0mfetches\u001b[0m\u001b[0;34m)\u001b[0m\u001b[0;34m\u001b[0m\u001b[0m\n",
            "\u001b[0;32m/usr/local/lib/python3.6/dist-packages/tensorflow/python/client/session.py\u001b[0m in \u001b[0;36m_do_call\u001b[0;34m(self, fn, *args)\u001b[0m\n\u001b[1;32m   1289\u001b[0m         \u001b[0;32mexcept\u001b[0m \u001b[0mKeyError\u001b[0m\u001b[0;34m:\u001b[0m\u001b[0;34m\u001b[0m\u001b[0m\n\u001b[1;32m   1290\u001b[0m           \u001b[0;32mpass\u001b[0m\u001b[0;34m\u001b[0m\u001b[0m\n\u001b[0;32m-> 1291\u001b[0;31m       \u001b[0;32mraise\u001b[0m \u001b[0mtype\u001b[0m\u001b[0;34m(\u001b[0m\u001b[0me\u001b[0m\u001b[0;34m)\u001b[0m\u001b[0;34m(\u001b[0m\u001b[0mnode_def\u001b[0m\u001b[0;34m,\u001b[0m \u001b[0mop\u001b[0m\u001b[0;34m,\u001b[0m \u001b[0mmessage\u001b[0m\u001b[0;34m)\u001b[0m\u001b[0;34m\u001b[0m\u001b[0m\n\u001b[0m\u001b[1;32m   1292\u001b[0m \u001b[0;34m\u001b[0m\u001b[0m\n\u001b[1;32m   1293\u001b[0m   \u001b[0;32mdef\u001b[0m \u001b[0m_extend_graph\u001b[0m\u001b[0;34m(\u001b[0m\u001b[0mself\u001b[0m\u001b[0;34m)\u001b[0m\u001b[0;34m:\u001b[0m\u001b[0;34m\u001b[0m\u001b[0m\n",
            "\u001b[0;31mInvalidArgumentError\u001b[0m: logits and labels must be broadcastable: logits_size=[512,256] labels_size=[512,10]\n\t [[Node: softmax_cross_entropy_with_logits_sg = SoftmaxCrossEntropyWithLogits[T=DT_FLOAT, _device=\"/job:localhost/replica:0/task:0/device:CPU:0\"](softmax_cross_entropy_with_logits_sg/Reshape, softmax_cross_entropy_with_logits_sg/Reshape_1)]]\n\nCaused by op 'softmax_cross_entropy_with_logits_sg', defined at:\n  File \"/usr/lib/python3.6/runpy.py\", line 193, in _run_module_as_main\n    \"__main__\", mod_spec)\n  File \"/usr/lib/python3.6/runpy.py\", line 85, in _run_code\n    exec(code, run_globals)\n  File \"/usr/local/lib/python3.6/dist-packages/ipykernel_launcher.py\", line 16, in <module>\n    app.launch_new_instance()\n  File \"/usr/local/lib/python3.6/dist-packages/traitlets/config/application.py\", line 658, in launch_instance\n    app.start()\n  File \"/usr/local/lib/python3.6/dist-packages/ipykernel/kernelapp.py\", line 477, in start\n    ioloop.IOLoop.instance().start()\n  File \"/usr/local/lib/python3.6/dist-packages/zmq/eventloop/ioloop.py\", line 177, in start\n    super(ZMQIOLoop, self).start()\n  File \"/usr/local/lib/python3.6/dist-packages/tornado/ioloop.py\", line 888, in start\n    handler_func(fd_obj, events)\n  File \"/usr/local/lib/python3.6/dist-packages/tornado/stack_context.py\", line 277, in null_wrapper\n    return fn(*args, **kwargs)\n  File \"/usr/local/lib/python3.6/dist-packages/zmq/eventloop/zmqstream.py\", line 440, in _handle_events\n    self._handle_recv()\n  File \"/usr/local/lib/python3.6/dist-packages/zmq/eventloop/zmqstream.py\", line 472, in _handle_recv\n    self._run_callback(callback, msg)\n  File \"/usr/local/lib/python3.6/dist-packages/zmq/eventloop/zmqstream.py\", line 414, in _run_callback\n    callback(*args, **kwargs)\n  File \"/usr/local/lib/python3.6/dist-packages/tornado/stack_context.py\", line 277, in null_wrapper\n    return fn(*args, **kwargs)\n  File \"/usr/local/lib/python3.6/dist-packages/ipykernel/kernelbase.py\", line 283, in dispatcher\n    return self.dispatch_shell(stream, msg)\n  File \"/usr/local/lib/python3.6/dist-packages/ipykernel/kernelbase.py\", line 235, in dispatch_shell\n    handler(stream, idents, msg)\n  File \"/usr/local/lib/python3.6/dist-packages/ipykernel/kernelbase.py\", line 399, in execute_request\n    user_expressions, allow_stdin)\n  File \"/usr/local/lib/python3.6/dist-packages/ipykernel/ipkernel.py\", line 196, in do_execute\n    res = shell.run_cell(code, store_history=store_history, silent=silent)\n  File \"/usr/local/lib/python3.6/dist-packages/ipykernel/zmqshell.py\", line 533, in run_cell\n    return super(ZMQInteractiveShell, self).run_cell(*args, **kwargs)\n  File \"/usr/local/lib/python3.6/dist-packages/IPython/core/interactiveshell.py\", line 2718, in run_cell\n    interactivity=interactivity, compiler=compiler, result=result)\n  File \"/usr/local/lib/python3.6/dist-packages/IPython/core/interactiveshell.py\", line 2822, in run_ast_nodes\n    if self.run_code(code, result):\n  File \"/usr/local/lib/python3.6/dist-packages/IPython/core/interactiveshell.py\", line 2882, in run_code\n    exec(code_obj, self.user_global_ns, self.user_ns)\n  File \"<ipython-input-113-6ec4b6c3da91>\", line 12, in <module>\n    loss =  tf.reduce_mean(tf.nn.softmax_cross_entropy_with_logits(logits = logits, labels = input_y))\n  File \"/usr/local/lib/python3.6/dist-packages/tensorflow/python/util/deprecation.py\", line 272, in new_func\n    return func(*args, **kwargs)\n  File \"/usr/local/lib/python3.6/dist-packages/tensorflow/python/ops/nn_ops.py\", line 1968, in softmax_cross_entropy_with_logits\n    labels=labels, logits=logits, dim=dim, name=name)\n  File \"/usr/local/lib/python3.6/dist-packages/tensorflow/python/ops/nn_ops.py\", line 1879, in softmax_cross_entropy_with_logits_v2\n    precise_logits, labels, name=name)\n  File \"/usr/local/lib/python3.6/dist-packages/tensorflow/python/ops/gen_nn_ops.py\", line 7209, in softmax_cross_entropy_with_logits\n    name=name)\n  File \"/usr/local/lib/python3.6/dist-packages/tensorflow/python/framework/op_def_library.py\", line 787, in _apply_op_helper\n    op_def=op_def)\n  File \"/usr/local/lib/python3.6/dist-packages/tensorflow/python/util/deprecation.py\", line 454, in new_func\n    return func(*args, **kwargs)\n  File \"/usr/local/lib/python3.6/dist-packages/tensorflow/python/framework/ops.py\", line 3155, in create_op\n    op_def=op_def)\n  File \"/usr/local/lib/python3.6/dist-packages/tensorflow/python/framework/ops.py\", line 1717, in __init__\n    self._traceback = tf_stack.extract_stack()\n\nInvalidArgumentError (see above for traceback): logits and labels must be broadcastable: logits_size=[512,256] labels_size=[512,10]\n\t [[Node: softmax_cross_entropy_with_logits_sg = SoftmaxCrossEntropyWithLogits[T=DT_FLOAT, _device=\"/job:localhost/replica:0/task:0/device:CPU:0\"](softmax_cross_entropy_with_logits_sg/Reshape, softmax_cross_entropy_with_logits_sg/Reshape_1)]]\n"
          ]
        }
      ]
    },
    {
      "metadata": {
        "id": "Zj6lGhSBBbdg",
        "colab_type": "text"
      },
      "cell_type": "markdown",
      "source": [
        "# Submit a linear model"
      ]
    },
    {
      "metadata": {
        "id": "3dofcESMBbdh",
        "colab_type": "code",
        "colab": {}
      },
      "cell_type": "code",
      "source": [
        "## GRADED PART, DO NOT CHANGE!\n",
        "# Testing shapes \n",
        "grader.set_answer(\"9XaAS\", grading_utils.get_tensors_shapes_string([W, b, input_X, input_y, logits, probas, classes]))\n",
        "# Validation loss\n",
        "grader.set_answer(\"vmogZ\", s.run(loss, {input_X: X_val_flat, input_y: y_val_oh}))\n",
        "# Validation accuracy\n",
        "grader.set_answer(\"RMv95\", accuracy_score(y_val, s.run(classes, {input_X: X_val_flat})))"
      ],
      "execution_count": 0,
      "outputs": []
    },
    {
      "metadata": {
        "id": "u7DUMelnBbdj",
        "colab_type": "code",
        "colab": {
          "base_uri": "https://localhost:8080/",
          "height": 34
        },
        "outputId": "718439e3-4d5b-48c3-b474-3c9349aaaf1a"
      },
      "cell_type": "code",
      "source": [
        "# you can make submission with answers so far to check yourself at this stage\n",
        "grader.submit(COURSERA_EMAIL, COURSERA_TOKEN)"
      ],
      "execution_count": 82,
      "outputs": [
        {
          "output_type": "stream",
          "text": [
            "Submitted to Coursera platform. See results on assignment page!\n"
          ],
          "name": "stdout"
        }
      ]
    },
    {
      "metadata": {
        "id": "CUM8hs-MBbdl",
        "colab_type": "text"
      },
      "cell_type": "markdown",
      "source": [
        "# Adding more layers"
      ]
    },
    {
      "metadata": {
        "id": "Qbb2CmukBbdm",
        "colab_type": "text"
      },
      "cell_type": "markdown",
      "source": [
        "Let's add a couple of hidden layers and see how that improves our validation accuracy.\n",
        "\n",
        "Previously we've coded a dense layer with matrix multiplication by hand. \n",
        "But this is not convinient, you have to create a lot of variables and your code becomes a mess. \n",
        "In TensorFlow there's an easier way to make a dense layer:\n",
        "```python\n",
        "hidden1 = tf.layers.dense(inputs, 256, activation=tf.nn.sigmoid)\n",
        "```\n",
        "\n",
        "That will create all the necessary variables automatically.\n",
        "Here you can also choose an activation function (rememeber that we need it for a hidden layer!).\n",
        "\n",
        "Now add 2 hidden layers to the code above and restart training.\n",
        "You're aiming for ~0.97 validation accuracy here."
      ]
    },
    {
      "metadata": {
        "id": "gJkncVQNBbdn",
        "colab_type": "code",
        "colab": {}
      },
      "cell_type": "code",
      "source": [
        "# you can write the code here to get a new `step` operation and then run cells with training loop above\n",
        "# name your variables in the same way (e.g. logits, probas, classes, etc) for safety\n",
        "### YOUR CODE HERE ###\n",
        "# run this again if you remake your graph\n",
        "s = reset_tf_session()"
      ],
      "execution_count": 0,
      "outputs": []
    },
    {
      "metadata": {
        "id": "oHwx-twmUX15",
        "colab_type": "code",
        "colab": {}
      },
      "cell_type": "code",
      "source": [
        "# Placeholders for the input data\n",
        "### YOUR CODE HERE ### tf.placeholder(...) for flat X with shape[0] = None for any batch size\n",
        "input_X = tf.placeholder('float32', shape=(None,X_train_flat.shape[1]))\n",
        "### YOUR CODE HERE ### tf.placeholder(...) for one-hot encoded true labels\n",
        "input_y = tf.placeholder('float32', shape = (None,y_train_oh.shape[1]))\n"
      ],
      "execution_count": 0,
      "outputs": []
    },
    {
      "metadata": {
        "id": "zzMWx3XuUcCv",
        "colab_type": "code",
        "colab": {}
      },
      "cell_type": "code",
      "source": [
        "#hidden\n",
        "hidden1 = tf.layers.dense(input_X,256,activation=tf.nn.sigmoid)\n",
        "hidden2 = tf.layers.dense(hidden1,256,activation=tf.nn.sigmoid)\n",
        "logits = tf.layers.dense(hidden2,10,activation = tf.nn.sigmoid)\n"
      ],
      "execution_count": 0,
      "outputs": []
    },
    {
      "metadata": {
        "id": "dU7BnbEHVrJe",
        "colab_type": "code",
        "colab": {
          "base_uri": "https://localhost:8080/",
          "height": 68
        },
        "outputId": "13d06c3b-1d68-4a9a-9784-335b887f3d60"
      },
      "cell_type": "code",
      "source": [
        "print(logits.shape)\n",
        "### YOUR CODE HERE ### apply tf.nn.softmax to logits\n",
        "probas = tf.nn.softmax(logits)\n",
        "print(probas.shape)\n",
        "### YOUR CODE HERE ### apply tf.argmax to find a class index with highest probability\n",
        "classes = tf.argmax(probas,axis = -1)\n",
        "print(classes.shape)\n",
        "# Loss should be a scalar number: average loss over all the objects with tf.reduce_mean().\n",
        "# Use tf.nn.softmax_cross_entropy_with_logits on top of one-hot encoded input_y and logits.\n",
        "# It is identical to calculating cross-entropy on top of probas, but is more numerically friendly (read the docs).\n",
        "### YOUR CODE HERE ### cross-entropy loss\n",
        "loss =  tf.reduce_mean(tf.nn.softmax_cross_entropy_with_logits(logits = logits, labels = input_y))\n",
        "\n",
        "# Use a default tf.train.AdamOptimizer to get an SGD step\n",
        "### YOUR CODE HERE ### optimizer step that minimizes the loss\n",
        "step =  tf.train.AdamOptimizer(.01).minimize(loss)"
      ],
      "execution_count": 157,
      "outputs": [
        {
          "output_type": "stream",
          "text": [
            "(?, 10)\n",
            "(?, 10)\n",
            "(?,)\n"
          ],
          "name": "stdout"
        }
      ]
    },
    {
      "metadata": {
        "id": "Pf68YaBIYBRK",
        "colab_type": "code",
        "colab": {
          "base_uri": "https://localhost:8080/",
          "height": 309
        },
        "outputId": "049a0057-d287-45cd-d275-1f30a4b7ae18"
      },
      "cell_type": "code",
      "source": [
        "s.run(tf.global_variables_initializer())\n",
        "\n",
        "BATCH_SIZE = 512\n",
        "EPOCHS = 40\n",
        "\n",
        "# for logging the progress right here in Jupyter (for those who don't have TensorBoard)\n",
        "simpleTrainingCurves = matplotlib_utils.SimpleTrainingCurves(\"cross-entropy\", \"accuracy\")\n",
        "\n",
        "for epoch in range(EPOCHS):  # we finish an epoch when we've looked at all training samples\n",
        "    \n",
        "    batch_losses = []\n",
        "    for batch_start in range(0, X_train_flat.shape[0], BATCH_SIZE):  # data is already shuffled\n",
        "        _, batch_loss = s.run([step, loss], {input_X: X_train_flat[batch_start:batch_start+BATCH_SIZE], \n",
        "                                             input_y: y_train_oh[batch_start:batch_start+BATCH_SIZE]})\n",
        "        # collect batch losses, this is almost free as we need a forward pass for backprop anyway\n",
        "        batch_losses.append(batch_loss)\n",
        "\n",
        "    train_loss = np.mean(batch_losses)\n",
        "    val_loss = s.run(loss, {input_X: X_val_flat, input_y: y_val_oh})  # this part is usually small\n",
        "    train_accuracy = accuracy_score(y_train, s.run(classes, {input_X: X_train_flat}))  # this is slow and usually skipped\n",
        "    valid_accuracy = accuracy_score(y_val, s.run(classes, {input_X: X_val_flat}))  \n",
        "    simpleTrainingCurves.add(train_loss, val_loss, train_accuracy, valid_accuracy)"
      ],
      "execution_count": 158,
      "outputs": [
        {
          "output_type": "display_data",
          "data": {
            "text/html": [
              "<img src=\"data:image/jpeg;base64,/9j/4AAQSkZJRgABAQEASABIAAD/2wBDAAIBAQEBAQIBAQECAgICAgQDAgICAgUEBAMEBgUGBgYFBgYGBwkIBgcJBwYGCAsICQoKCgoKBggLDAsKDAkKCgr/2wBDAQICAgICAgUDAwUKBwYHCgoKCgoKCgoKCgoKCgoKCgoKCgoKCgoKCgoKCgoKCgoKCgoKCgoKCgoKCgoKCgoKCgr/wAARCAEgA2ADASIAAhEBAxEB/8QAHwAAAQUBAQEBAQEAAAAAAAAAAAECAwQFBgcICQoL/8QAtRAAAgEDAwIEAwUFBAQAAAF9AQIDAAQRBRIhMUEGE1FhByJxFDKBkaEII0KxwRVS0fAkM2JyggkKFhcYGRolJicoKSo0NTY3ODk6Q0RFRkdISUpTVFVWV1hZWmNkZWZnaGlqc3R1dnd4eXqDhIWGh4iJipKTlJWWl5iZmqKjpKWmp6ipqrKztLW2t7i5usLDxMXGx8jJytLT1NXW19jZ2uHi4%2BTl5ufo6erx8vP09fb3%2BPn6/8QAHwEAAwEBAQEBAQEBAQAAAAAAAAECAwQFBgcICQoL/8QAtREAAgECBAQDBAcFBAQAAQJ3AAECAxEEBSExBhJBUQdhcRMiMoEIFEKRobHBCSMzUvAVYnLRChYkNOEl8RcYGRomJygpKjU2Nzg5OkNERUZHSElKU1RVVldYWVpjZGVmZ2hpanN0dXZ3eHl6goOEhYaHiImKkpOUlZaXmJmaoqOkpaanqKmqsrO0tba3uLm6wsPExcbHyMnK0tPU1dbX2Nna4uPk5ebn6Onq8vP09fb3%2BPn6/9oADAMBAAIRAxEAPwD9/KKKKACiiigAooooAKKKKACiiigAooooAKKKKACiiigAooooAKKKKACiiigAooooAKKKKACiiigAooooAKKKKACiiigAooooAKKKKACiiigAooooAKKKKACiiigAooooAKKKKACiiigAooooAKKKKACiiigAooooAKKKKACiiigAooooAKKKKACiiigAooooAKKKKACiiigAooooAKKKKACiiigAooooAKKKKACiiigAooooAKKKKACiiigAooooAKKKKACiiigAooooAKKKKACiiigAooooAKKKKACiiigAooooAKKKKACiiigAooooAKKKKACiiigAooooAKKKKACiiigAooooAKKKKACiiigDxPxd/wAFFP2PvAmoXmn%2BK/ipc2gs9UbTReHwpqj2l5eLfw6fJb2lwlsYb2SO7nigkW3eQxOxD7drY2j%2B2f8As6R%2BObL4c3XjHUbfVLy6sLNlu/Cmpw29le3sUctpY3dw9sIbG8lSWIraXDxzkzRjy8uoPiVz%2Bxn%2B1bH4C8N/s66Zqfw9HgXwn8W9N8V22tXOo3r6rqtnb%2BLrXWxbyQC1EVrLHAlxFvEswuJFiJ%2Bzqzbeh8cfsffGzXfGPi3wPoup%2BFv%2BEA8c/F7QfHuq61dalcrrOnvp8mlTyWEVqtu0Mwll0mLbcNcRmJLhh5TmNSwB6Fa/t1fsv3cGr3w8f30Nno2n3N7LqV54U1OC0vYLedLeZ7G4ktli1HbNJHHi1aYlpEAB3rns/hT8ZfAXxp0m91fwJc6njTdQNlqVnrfh690q8tJxGkuyW1voYZ48xyxupZAGVwQSDmvmbTf2IPj5a6t4mtbTwl8ONN8MazoOp22reBV8Za1feHfFN5cXcEsdw2mTwCPQGCJcEvZyTnzLkMRL5Q3egfs4/sm%2BOvDGmXP/AAu3xl4hhgsfFa6n4L8M6H8ZPEOpQaLbC3tla2mvpmtZtTheeGSUQXUbxRLKY1BQnIB0kX7eP7Kk0fiC6HxNlW18N6Jqur32oy%2BHdQS0urLTSRfzWVw1uItSFuRiQWjTFSQCMkZ5vx3/AMFL/wBmXwh4Vl8TaPd%2BJtceDxF4b0yXTdP8Dav9qeLW78WdnfwxNaB7m1crO0c8IeOZoTFEzyvGjeKaH/wSx%2BI%2BjfBrXPgl5eiXX9m/DfxR4c8C%2BK9W%2BK/ia/LzajZT2VtI%2Bkz5sdLUQzFZjALjJGY0j4A7z4//ALEPxs8d%2BOH%2BIfw%2B1Pwo9zp/hz4cxaTp2r6nc20dzfeG/FE2szxSyRW0phhlidIklVJGDliYsAbgD1V/25/2ZFtteu4/G%2BpzJ4b8Sf8ACPakLbwfqsrPq/nPCdOt1S1JvLsOhJggEkgQrIV2MrGpqn/BQX9lDSbTRp5PH%2Bq3U%2Bv2Wq3WmaXpfgnWLy/ZNMuIrfUFks4LR7iGW3lmRZIpI1kT5iVwjleFtv2OvjToXha08QaFfeFZvFegftCaz8R9G0y61O5j0%2B%2Bgvl1C3NnPcrbNJDILbUZSJFhlCyxJ8rCvMNI%2BEf7S3wX/AG5vCGqeD9N8Dav478U%2BA/iX4l1jSNT128tdItftmt%2BFwlvBdpZyzN5Srb5kNuvnFZfli8wbQD6jsf2yP2adU8Gaz8QtK%2BKVvd6PoNxpMGoXtpY3MoLapDaTaeYVWMtcrcJfWvlvCHVmkKZ3I6r6bXwN8Nv2Q7XwR%2B1Z8Ff2dvBXxLsNdsPh58M9Ff432dmnD3ugLu8PPKqki2klutRnuUjf52i06PGVQGvvmgAooooAKKKKACiiigAooooAKKKKACiiigAooooAKKKKACiiigAooooAKKKKACiiigAooooAKKKKACiiigAooooAKKKKACiiigArzb4q/tdfs/fBPxlH4D%2BJPje4stR%2By2l1efZ9Bvru3023urh7a2nvbi3geGwilmjkRJLl41YxvgnY2PSa%2BQ/28f2Kv2o/2pNZ8Z6N4R%2BIWn/8I5rvhC0s/DFtqHxB1rSoNGvoXnkm8/TtPi8jU47ljApluZG8hVJWCXbscA9gh/br/ZUku9btpviqtrFoGn6hfXeoahot7bWVzb2EywXslndSwrDqAhldI3%2ByvKVd1U8sAdDwJ%2B2B%2Bz78R/EmneC/DXjC%2Bj1vVNTutPt9D1fwzqOnX0Vzb2kd5LHPb3dvHLbH7NLHMvnKgkSRShbIrwzQ/wBjX9rW8/ZXP7IXiDWvh5pWgaLpEn9ga1ZX99qF3qF9FqUN9YC5R7e3W2hjMRinKNO1xuDqIOYz1/jH4S/tp%2BNfiB4H%2BPWqaH8ME1/wZ4l1CS08HQeJtQWzGmXel/ZHLambAyTXAnHnAfY408s%2BVnK%2BawB2uh/t0/steJddsPDmh/EuW4utR0KfWotnh7UBFDpsM9zbzXk8pg8u1gSa0njaSZkUMEBP72Le3w9%2B3Z%2By74m8J6741sviFe21l4dsdPvdSj1fwrqdhctbX8jRWM0Ftc20c13Hcyq0UDQJIJpAUjLN8teO/s%2BfsI/tK/Bjw3q7xfFHwvY%2BKLj4J3fhXR/EWlxzSrY61Jq2rX0V6IZYgDAn263baWJ3RuuCAGbkrH/gnN%2B1HceNNR%2BImoa74div59G8Iz2dvrXxT1/xIw1jw7r39rQrLc6hbB/st3vlR/JSJbU7WjgmJY0AfUHw9/bC/Z2%2BJ%2Buy%2BF/Cnj%2BRdTttLvdQvdN1fRL3Tbizgs5Yorrz47uGJoHia4ty8UgWRVnicrskRj2nw98e%2BFvip4C0T4m%2BBr%2BS70XxFpNvqWkXU1nLbtNazxrLE5imVJIyUZTtdVYZwQDxXxx%2B3H8PfjP8Ybb4c/D3xh4x8IaH8UvFXjTUNFj8PeD724unh8D6lZNaa0vnSpDLMYoUS7N2YYIxPDbRBdxQyfbOnadYaRp8Gk6XZx29rawrDbW8KBUijUAKqgcAAAAD2oAmooooAKKKKACiiigAooooAKKKKACiiigAooooAKKKKACiiigAooooAKKKKACiiigAooooAKKKKACiiigAooooAKKKKACvLP2xPix8Vfgl8GZPiN8J9J0C6ubLWLFNUPiFpzHFZS3CRSGKOEqZZSXVVDOiruLkvsEUnqdcD%2B0d8BYP2j/hzJ8MtR%2BJ/iTwvY3F1DNeT%2BGEsDNcCKRZEjY3trcKqh0RvkVWJUDdgkEA88/bN/ax8UfAXxh4b%2BH3gzVdD0q61bw1rniG/wBa8Q%2BF9T1e1t7TTWsY2jeLTWEsCO9%2BjPePuit44JGdGLKK4zxZ%2B3x42%2BGviH4p%2BJPiDregwaD4KttZuvCnh1PAOqxy%2BJoLHQE1XFvrr3P2GWVgLhvKSEuYoGbbhWcetfEj9kyy%2BKmiWFp4o%2BOHjYatZ6RqOjzeJ7L%2By4b680y/WAXllIFsfIWOVrW3cvHEkqNECkiDINDxR%2Bwz8LvHN4mmeOfGXivWfCNtHcrpvw%2B1HUYX0mwM%2Bly6XIYm8kXe37JcXCLE1w0SGdmVAwQqAanwE%2BJvxb1T4i%2BLvgp8cZ/Dl5r/AIZ03SNUXVPCumT2dpNa6gtyqxmGeedxJHNZXIL%2BZh0MZ2ocivRvEV/qmn2ST6TZ%2BfIZQrJ5bNgYPPyn2H51yXwV%2BAWk/Bm51jWpfHviLxXreu/ZU1LxD4qntnu5ILaLyre3/wBGghjEcYaRh8m5nmkZmZmJrK%2BMfxYfQvjP4Q%2BCbaUjx%2BJfDut6x9uMpDRPp82mxCILjBDjUXYnPHkgYO7hOcISXN1aXzeiOnDYTEY2Uo0VdxjKb/wwjzSfyWtt30Op/wCEn8af9C9/5KSf40f8JP40/wChe/8AJST/ABrl6K7fZx7I47s6j/hJ/Gn/AEL3/kpJ/jR/wk/jT/oXv/JST/GuXoo9nHsguzrX8ReLhZRzroWZGldWT7LJwAFwevfJ/Kov%2BEn8af8AQvf%2BSkn%2BNYM3/IFt/wDr6m/9BiqrSVOPYLnUf8JP40/6F7/yUk/xo/4Sfxp/0L3/AJKSf41y9FP2ceyC7Oo/4Sfxp/0L3/kpJ/jUtx4i8XRxQPFoW5pIi0g%2ByyfKd7DHXjgA/jXJVa1D/j0sf%2BvU/wDo2Sk6cb7Bc3v%2BEn8af9C9/wCSkn%2BNH/CT%2BNP%2Bhe/8lJP8a5ein7OPZBdnUf8ACT%2BNP%2Bhe/wDJST/Gj/hJ/Gn/AEL3/kpJ/jXL0Uezj2QXZ1t34i8XQyhINC3qYkYn7LIeSgJHXsSR%2BFRf8JP40/6F7/yUk/xrB1j/AI%2B0/wCvWD/0UlVaSpxtsFzqP%2BEn8af9C9/5KSf40f8ACT%2BNP%2Bhe/wDJST/GuXrhvHH7Tv7Nfwy8RS%2BEPiT%2B0N4G8PatAiPPpeueLbO0uI1ZQylo5ZFYAgggkcg5qKssPQjzVHGK7tpL720deCwGYZlW9lg6M6s7X5YQnN272hCbtqtbW8z2H/hJ/Gn/AEL3/kpJ/jUt74i8XQXs0FvoW%2BNJWVH%2ByyHcAeDwa8D/AOG3f2L/APo7v4X/APhfad/8eq3qH7bH7Geoa/PDYftb/DGd57xlhSHx7pzGQs5wFAm5zkYx1rn%2BuZbf%2BLD/AMDj/wDJnqvhTixK7y7Ef%2BE9f/5Qe2f8JP40/wChe/8AJST/ABo/4Sfxp/0L3/kpJ/jXFeJfEGn%2BE/DmoeKdWWc2umWUt3ci1tnmlMcaF22RxgvI2AcKoLE4ABJryn4dft0fAn4h%2BEbfxJaS%2BI4Lo%2BHdM1fUdIXwXqs1xZJfiL7NCRHanzJXMo2ImWkVXdQURmHXyQXRHz92fRf/AAk/jT/oXv8AyUk/xqWy8ReLp72GC40LZG8qq7/ZZBtBPJ5NfOsv7bnwAt7uGSbxiWsru0szYrb6LqUt/Lc3F3e2i2rWa2hdJfOsJ4vLyZhLG8bxIQm/0T4O/FfwP8WRpXiTwFqF3eWN2I7iG6l0m5t1x57wtG3nRpsmSSGRXhbEsZX51XIyOELdAuz0H/hJ/Gn/AEL3/kpJ/jR/wk/jT/oXv/JST/GvF/g78atd%2BJ3jrx74J174cy%2BH38F69DYWz3GqR3EmoQy2sc6XDLGNsG4SZCb3O3aWKsWjXhPiZ%2B3h4Z%2BHXxC8ZeEl8CXGoaZ4P8JT6i%2BuR6ikaX2px3NtA2mRKy4yHvLZWnL7Ekd4yN0Um05IW2QXZ9R/8JP40/6F7/yUk/xo/wCEn8af9C9/5KSf418qfEH9un/hW37LGqftB3/gbQtf1O0%2B3nSND8F%2BOItUsdXSzgkuZ5Yb9YF2xxwQzvIZIVZGhZArFo9/QeBf2przxv8AtJeK/gQuneCrKHwprBsZvtPj8jW7tBptpem5j0v7HgwhrtYi5uMDYzeiUckOyC7PpC08ReLppSk%2BhbFETsD9lkHIQkDr3IA/Gov%2BEn8af9C9/wCSkn%2BNfKMP/BQDUrj4O/FP43eBvgRd6xYfD2%2BuIrBJPEEVsur6YNIi1AaoWaMmCGSKYmJFWZ3UwsQgkYRdJq/7Ul9Z/tUyfs12mmeC7fyLHTbo3Ov%2BPjZajfC6NzvWysBZyfamiW2LEecmd4B2jmlywvsPU%2Biv%2BEn8af8AQvf%2BSkn%2BNH/CT%2BNP%2Bhe/8lJP8a%2BXfgL%2B27pXxW%2BFms/GPxfbeDdL0nR9NW7udP8ADXjpta1S2LM4SC5tRZwmCZ9oVI1aRndtignGaV9%2B3pLpXwI8HfFDU/g5PH4i8W%2BIzpkng%2BPXEkbTYYtVXT7u7luFjwYoWePlUIaWeGIEeZ5gfLDsg1Pq/wD4Sfxp/wBC9/5KSf41Lb%2BIvF0kU7y6FtaOINGPssnzHeox154JP4V8kWP7eYli%2BImq3vhfwg1v4DvNYtF0PTviD5%2Bv3ktnfNZQmTT2s0W2juJVULI0zBfMTO7JIvS/tp/EHS9e1L4SS/BTQ18c2Vxexanp1x47aHS1tbaystQM8N81iHlZ47uJFjaCP5o7glgkW9k4wtsGp9Sf8JP40/6F7/yUk/xo/wCEn8af9C9/5KSf418f6R/wUh8P%2BJviLp/hPwn8Ok1K01axt7zS7C318f8ACRXtrNoI1iO%2Bh0vycPYkEWn2jzx/pIaPbxzlaP8A8FONO1fwKPGK%2BGPAyWz63p2nyeJf%2BFnA%2BGdPa6sLm82X2qfYR9luI/s6QvD5LYlvLRd/735Tlp%2BQan2r/wAJP40/6F7/AMlJP8a1PDeqa1qXnf2xp32fZt8v9yybs5z9489B%2BdePfBr4iH4u/CXw18Uj4dudJ/4SLQ7XUf7MvDmS286JX2E4GcbuDgZGDgZwPTfht/y%2B/wDbP/2alUhFQukCep1FFFFcxQVHdTW9vayXF3cLFEkZaSV32hFAyWJ7ADnNSUUAfB3wu%2BIfwk/4Yj/aL%2BF37LvxY0nVtXt9X8YS6FYeGvFa6hqs0LwswnhZJXuJppAsrrNlneTLbi2TWCP%2BGUB8dWe4j8Ff8MwDxLJ5XyW//CK/8JB/wj0fK4/0bHl%2BYBj5fte4D/SK/Q%2BigDzP9i4eNx%2ByD8Lh8Sl1Aa//AMK%2B0f8Atgatu%2B1i4%2Bxxb/P3/N52fv5537s112s%2BLjpepS2Jlxsxx9j3dQD180Z6%2Blb1cH4z/wCRluf%2BAf8AoC1rSipSsxPQ1P8AhPv%2Bm3/kh/8AbqP%2BE%2B/6bf8Akh/9url6K39lAm7Oo/4T7/pt/wCSH/26j/hPv%2Bm3/kh/9url6KPZQC7OtvfGxtL2a1M3%2BqlZP%2BPLPQ46%2BaM/kKi/4T7/AKbf%2BSH/ANurB1z/AJDV5/19Sf8AoRqrSVKFguzqP%2BE%2B/wCm3/kh/wDbqP8AhPv%2Bm3/kh/8Abq5ein7KAXZ1tl42N3ew2om/1sqp/wAeWOpx1804/I1F/wAJ9/02/wDJD/7dWDof/Ias/wDr6j/9CFVaXsoXC7Oo/wCE%2B/6bf%2BSH/wBuo/4T7/pt/wCSH/26uXop%2BygF2dR/wn3/AE2/8kP/ALdUtp42NzKYxN0id/8Ajyx91C3/AD1Pp/8Aq61yVWtH/wCPt/8Ar1n/APRT0nShYLs3v%2BE%2B/wCm3/kh/wDbqP8AhPv%2Bm3/kh/8Abq5ein7KAXZ1H/Cff9Nv/JD/AO3Uf8J9/wBNv/JD/wC3Vy9FHsoBdnW2/jYzRTyCb/VRB/8Ajyx/Gq/89efve39DF/wn3/Tb/wAkP/t1YOn/APHpff8AXqP/AEbHVWkqULhdnUf8J9/02/8AJD/7dR/wn3/Tb/yQ/wDt1cpcXFvaQNc3U6RRouXkkYKqj1JPSuZ0j44/BXxD4uT4f6B8X/C99r0kbvHoln4gtpbtlQZdhCrlyAOSccd6mX1eDSk0m9rtK/pdq/yudNDCY3EwnOjSlNQV5OMZSUUt3Jxi1FLq5NLzPUf%2BE%2B/6bf8Akh/9uqVPGxaykuvO%2B5Kif8eX94Menm/7Pr%2BfbkqtQ/8AIFuP%2BvqH/wBBlqnSgc12b3/Cff8ATb/yQ/8At1H/AAn3/Tb/AMkP/t1eYav8bfgz4f8AGUfw6174t%2BGLLxBKgeLQrvXreO8dT0IhZw5B9cV0lxc21pbveXVwkUMaF5JZHCqqgZJJPAGO9TFUJtqLTtvZp29ddPnY6a2ExuHjB1aUoqavG8ZLmT2cbxXMn3jzLzOr/wCE%2B/6bf%2BSH/wBuo/4T7/pt/wCSH/26vAYf26P2N7jxu3w5h/ac8EnWFODbf8JDBsLZxsEu7yy%2BeNgbd7V3njL4kfD74eeEpfHvjvxvpWj6JDGHk1bUr%2BOG3CkZB8xiFOewB57ZrKnXwNWMpQqRaju1KLt62enzsd2KyHP8DWpUsThKsJ1bcilSqRc77cilTTlfpyqT8j0d/GxWyjuvO%2B/K6f8AHl/dCnp5v%2B16/l3i/wCE%2B/6bf%2BSH/wBur5E07/grz%2BxXqepW%2Bi3XinX9N0WbUJoNN8cap4YuYNDv5wEDRRXJX7y4%2BYuqqAQd3NfQnhjxX4X8baHb%2BJ/BniSw1fTbtN9rqGmXiTwTL6q6Eqw%2BhrLCYzLcc2sPVjO29mn%2BG9uztZ9Gzrz3hHirhiMJZtgatBT%2BFzhKKfdX1jzLrFyU4/ahFnb/APCff9Nv/JD/AO3Uf8J9/wBNv/JD/wC3V598QPiH4G%2BFPhC98ffEjxXY6Jo2nReZe6jqNwI4o17cnqSeAoySSAASQK%2Bb9K/4KJfGX4pQP4m/Zq/YG8b%2BMvC00rLpHia/1e20eLUkHHnRJcAt5ROdrHqOoByAsVjcvwU1CrL3nqopOUrd%2BWKk7ebSV9L3Nci4O4j4jw08TgqK9jBqMqlSdOjTUnqo%2B0rTpwc7a8kZSlbVxS1f2j/wn3/Tb/yQ/wDt1S3HjYwxQSGb/WxF/wDjyz/Gy/8APXj7vv8A0HxdL/wUE%2BO3w3b7f%2B0t/wAE8fiF4X0huRq/hbULbxJHAnd7gW20wqPxPtVjWv8Agrf%2Bzf4ttNO0L9mrwx4y%2BKviSWyP/FP%2BE/C9yr2jGWTH2qS4RFgX1b5sdcY5rkedZKtJ1OV/yyUoyfpFxUn8kz214V8f1GpUMF7Wn/z8pVKNWjHvz1qdaVKml19pOn8z7E/4T7/pt/5If/bqP%2BE%2B/wCm3/kh/wDbq%2BL9B/4KH/ED4WeLLPw/%2B3p%2BzhdfCjTtflX/AIR3xTFq6appaM3S1vLiEbbeYY6n5SMk7ApJ%2Blr3xj4R07w8ni7UPFOmwaVJCssepzX0a27RsMq4kJ2lSOQc4IrrwmMwGMjJ05ax3Uk4yj6xlZpPdN6Pv28LPeEeIeHalKOLpXjV/hzpyjWpVLaNU6tJzhOUXpKKfNF6OKunLuv%2BE%2B/6bf8Akh/9ure0W/8A7U0yK%2B3Z37ufL29GI6ZOOnrXz/4b/ag/Zp8Y3r6b4R/aG8D6pcpIUe30/wAWWczqw7FUkJzXungaaK48K2k8Equjhyro2QRvbkEda1c8PUhzUpKXo0/ybPHxeX5jl9TkxdGdJ9pwnB/dOEH%2BBrUUUVByhRRRQAUUUUAFFFFABRRRQAUUUUAFFFFABRRRQAUUUUAFFFcl8Y/jn8KfgB4btfFvxd8XxaPY32qQabZO1vLNJcXUzYSJI4Ud3OAzEhSERHdiqozAA62iuL%2BMf7Qnwm%2BAdrZXXxP8Q3Vp/aAne1g0/RbzUJjFAnmTztFaRSukESlTJMyiOPcu5l3LnF8Rftj/ALOfhTxVqfg7XvH8sN1pEdyb65XQr6SyElvYHUZrZLtITby3KWatcG2SRpvLVm2YU4APTq%2BZ/wBqjU/sH7efwHtd2PtvhDxxDj1x/Ysn/tOvcPhV8X/B3xm0JvEvgm18QJZqU2Sa/wCEdS0hpQyh1aNL%2B3haRCCPnQFe2c182/tu6n9g/wCCi/7LFtuwL2y8eQfXGnWUmP8AyHXBmM/Z0oS/6eUvxqJfqfZ8CYf61nGIp/8AUJjX/wCA4WpL/wBtPaqKKK98%2BICiiigC1N/yBbf/AK%2Bpv/QYqq1am/5Atv8A9fU3/oMVVaSAKKKKYBVrUP8Aj0sf%2BvU/%2BjZKq1a1D/j0sf8Ar1P/AKNkpPdAVaKKKYBRRRQBa1j/AI%2B0/wCvWD/0UlVatax/x9p/16wf%2BikqrSWwBXDeOP2Yv2a/ib4il8X/ABJ/Z58DeIdWnREn1TXPCVnd3EiqoVQ0ksbMQAAACeAMV3NeG/HD/gpL%2BxZ%2Bzh8RLr4UfGf4z/2Nr9lDFLc2H/CO6lcbEkQOh3wW7ocqQeGOM84NcmOq5fRo82McFC/2%2BW1/%2B3k1ffzKjntTh5/WoYp4dv3edVJUnrry80Zwettr2dttDo/%2BGIv2L/8Ao0T4X/8AhA6d/wDGat6h%2BxP%2Bxnp%2BvzzWH7JHwxgeC8ZoXh8BacpjKucFSIeMYGMdK8j/AOHzX/BNf/o5D/yz9Z/%2BQ6uy/wDBZL/gm7rviNrTSv2jfNkvL0pbL/wiGsLvZ3wo5tBjOR1xXkLH8Jc2lSh/5S/%2BRNP%2BIoYqWn9uzd/%2Bour/APNB9E67pUOvaJeaHcSMkd7ayQO6dVDqVJHvzXzjpP8AwT98RWfwluPh5q3xj0jUbqf/AIRlJ3u/Bbtpt7Do8KQLb3dkb4tcQzJGpePzlG4Z5X5K%2BhvGXiQeDfCGq%2BL20W%2B1IaVps94dO0yNXubryo2fyoldlVpG27VDMoLEZIHNePeP/wDgoD8E/Ami3HiaPT9T1XS7ePTW/tW2vtMtLWRr2ykvoolmv7y3jMgtlikKFgxF3BsDkuE%2BhfL1Mlc5L4Sf8E4JPhb4h0rVV%2BLtlPaaLrsF/p%2Bn2PhBbNI4Y9X1jU/IwlwUUb9YeNSiKqJAmEOePdP2cfhPq/wasYPBsniu21OwOvX%2BoQkaW0EyzXurXd84Lec6sqrcpGAFBzEzk/OETxLTP%2BCiPhdfE3iDUdXhkuPDVvcGXwuNJ0VnutStG0HQNRhVmluUCTyTaz5aL5e1gYwxjKM7%2Bnfsu/Hzxn8Y/iB4v0nxJ8MdQ0OLwz8QV0a2gu1t1ns410rSrwi78u5lWSRpr2cI8BaMxomSD8zr3baBqVPhv8FvjV4H%2BKfjn4i6n8XfC9/B4yvbW5j0%2BDwNcwPZNBFBboDKdScSg28TA/In7xw4wqmNuL8X/wDBNv4Qa74j1DWfD3iTX9Ntb7w1qNgNLu/EOpajbRXt1fw3/wBsEN1dvCVFxEZGg8vY7PuJBANd9ovxR%2BJs37WOs/BrX9L0OLw1F4Mg1fQ57RpnvpXNwYZGnZiI0XduCxqrEBA5kO/y4%2BY%2BLv7U/jHwp%2B0D4f8Ahb8PvDWk6howuL6z8W6nqVyYfK1BdFvNTtrOGXcEjYR2qSTvICqR3UGASzFG%2BW2oamB46/4Jz%2BF/iz4D8ewfEv4g3j%2BNfHVvrCSeJ/DE2o6PZae1/p1nYMqafBf4nh2afZySQzyyCaRHJID7R0fjn9jqf4m%2BIrXR/H/xEh1DwJY6hNeW%2BgDSZYtXkaXR5tKeKbV1uvNlQw3ErGQxi5JKhrhguD5TpX7dv7ROufsy/E/4teG9F8J3useBvh5aeKreTWPDGqaLEqyWN7dzW5sriZ57uNfsiJFeRyR29wZpPLb/AEdw3pXxI/as1/w5%2B1EnwW0rWdB0rSdLXQRrFxrfh/Ubg302p3c0KQJeW5%2Bz6cwWJPKNyri6mmWFfLKlyvcDUq337AFza/D74s/Df4RfGG50mP4qQtDd3Hiwap4hGm2K6Mti0US3GpoTMTH5gmLDClIijrFGV6Px1%2Bzp8U/idqumr43%2BMOgPpKanoWp65Zad4E8i5nu9LvlvYTa3JvHa3ieSOIMkouHVfM8uSMyZXifgZ%2B2d8Wvif4k1HwPpr%2BCLnxTfeCNY1qx0EQXds/hWazuorWaw1RvNlaedEu4pMItuXMTDCLLHKHePv2qPj1oP7JHgb9qHRrPwtEmseBdP1fWrCbw9qN2lzqFzaxTi3EsUyx6TZgGUNf3TyRQ5QuMDLJct2GpvR/sR2/jXxTB4g%2BP/AMQV8RppOkx6f4fTwxp9x4amhRL2O8S4uJrG7BmuFlghZWiEESMHZYgX%2BXnZf%2BCYHwnm%2BFkfgdvH3i4axFf%2BYPEUfjPW1ZrX%2B2m1QW7QjUAr4LsgkYlg5E33gAM3Xf2/PFOl6p8QNbtpPDraf4ck8Q6f4c8NX2h6lbXd/faZMLXd/aTE2k4a4WUvbxqJYoGjkJb5hWh8Tv2wvjF8IvAHxG8Jalp3hnxB8SvCzkeHP7P024tNOvoDpS6g95PbtcSyxRW6CcSATfvDHCquj3CKr9wNTe%2BJ37FGvfGPUbi28ffGG2bSLNNYfwsml%2BFEttQ0%2B4vsbZbi689kvBAQCi%2BTGZDHG0zSupdptc/Yx8deMvDniK9134q%2BEr7xH4g19dZ1q91f4YRX2nIY7K3sLf7HaT3bSWs0KxJKk3nyfvHm3KyOES9rfxK/aJPxX8DeHfCPiPwVdWXivT5dUvNCu/C92lzZ6fb2kRuJfty35TLXlxaxKPsxKrcE4fymLee6l%2B3B8a/AWo698LvF3/COzeIW8RaNoNhrFn4B1hIre4uY7%2B6usaW07XmowpFpci291A0cV3JNtjx5EhKfKGprSf8ABOTRYrBvh1pHxPksvAn2yG9i0qHR/wDibQXEXh5dCjEeo%2BdtWEW6I%2BzyC%2B7cvmCM7Bb079iP4hWPinS/iofjboJ8YaFJpkekTx%2BA3j0gWtlYalZRpNYrf73mMeqXBMyTx48uFQgRCjt8SftPfGXRvD3w6%2BIOma14J1TQ/FWoaLpty%2Bm%2BHdUeO9uLm/S2vJTeSPHDo6RI6tHFdCWSaYNbD94F35/xX/ar/aH%2BEOv%2BJNB1i38E6pJYaXbX0g0TS72f/hGVutbtLG0iuR54fVLia1nuLmK2gS3llksWhjVjPE1P3Q1Pc/gf8LbL4JfCHw58JdP1aW/i8P6TDZLezRCMzFFwWCLxGpOcIOFGFHAr1L4bf8vv/bP/ANmrw/8AZW%2BLviX41/CuTxf4sitBeW/iDU9NM1rpVxp3npbXckKyyWVy7z2MjKgLW8zGRD1xkAe4fDb/AJff%2B2f/ALNU1LezBbnUUUUVyFhRRRQAUUUUAFcH4z/5GW5/4B/6Atd5XB%2BM/wDkZbn/AIB/6AtbUPjJlsZdFFFdRIUUUUAWtc/5DV5/19Sf%2BhGqtWtc/wCQ1ef9fUn/AKEaq0lsgCiiimBa0P8A5DVn/wBfUf8A6EKq1a0P/kNWf/X1H/6EKy9b13RPDWly654j1i10%2BytwDPeXtwsUUYJABZ2IA5IHJ6mpbSu2VCE6klCCbb0SSbbfZJXbfkky1RTY5I5o1mhkV0dQVZTkEHoQag1jWdH8PaZPrev6rbWNlbRl7m7vJ1iiiUdWZ2ICj3JptpK7CMJzmoRTbeiSTbv2stb%2BVr%2BRZrzr4/8A7YvwA/ZIttP1H41%2BMXs5dY86DS9NsbKS7u7k%2BU251hiDOY0yCz4wMgZyQD5R8UP%2BCoHwg%2B23nw5/ZR0TU/jB46KeXY6V4OsZLiwhlY7Ukub0ARJCDyzozYA5Kj5h0n7Gv7HeueAfGl9%2B0t%2B0x4jh8XfF/wAQafOt9q23NpoNuYXxYaeh4ijUEqXGC/PYnd4lXM5YyfsMuak/tT3hBfKylJ9IxlpvJpWT/R8HwXQ4ewn9p8XwqUabX7rDpqnicQ2tHaSlKhRje8q1SmnLSFGnOTcoO8F/8FNv2CPHto15o37Ufhe2VELNHrd02muMdRtu1jJPsAazPEf/AAVl/wCCePha6Fnqf7TekyuW2503Tb28T/vq3gdce%2Ba9d8afAX4GfEe8XUfiH8F/CevXCPvSfWvDlrdOreoaVGIPvWr4b%2BH3gLwbamx8IeCNI0qErtMOm6bFApHphFAxWns%2BIHp7Sl68lS/3c6S%2B9nP9b8KY%2B%2BsHjm39j6xhUl6VFh3OXzpxPDZP%2BCsn/BPRNHm1pP2l9KkjhTcYU068Mz%2ByxeTvY%2BwFYUH7en7Rnxfl%2B0fsnfsE%2BLNe0jqPEfjrU4fDttOvZ4EmDPOp9Rj6V9Gt8Ofh6%2BqRa2/gTRjewPvgvDpcXmxt/eV9uQfcGtmj6rnNZ2q4hRX/AE7hZv5zc7fJfMazzw8y9c%2BByipWm/8AoKxLlTj6Qw0KDm/OdRJfys%2BZrP4sf8Fab%2B3upNP/AGTPhhYIYB5keoeO5JXC%2BYnQxLjOcfrVO78Uf8FefFsf/COWHwt%2BEHhFrltr%2BI5tcur77Gnd0gA%2Bd/7obK568cj6v0//AI9L7/r1H/o2OqtL%2ByarupYqr/4FFflT0%2BQLjzBU3enkeATW16NWVn0dp4pqVu0k0%2Bqa0fyzpv8AwSz%2BH/xFul8Uftp/F7xb8YtcPzbNX1SXT9LtW6n7NZWjqsQz1G4g%2BgrQ%2BK3/AAS5/Zs1X4fLZfs9%2BC9O%2BG/jLR7pNQ8J%2BM9Atyl3ZXseTH5j5LzQno6MSCDkcgV9LUVX9gZP7OUXRi295PWfrzu879U%2BZNPaxL8VPEL61TrRzGpGNN3jTi1Cgl/L9XgoUORpuMoOlKMotqXNds%2BS/h9/wVB8EfDfwNrHg/8AbaiPhH4oeDZo7LWfDdnatM%2BvyOD5F1pqKP30c2AcDhC3zEKVYyad4Z/b3/bl0241zxZ4u1P4A/DO4miFr4d0dEPirVYir4knuGH/ABL8jOEUbhkhlYYY/R%2Bs/CT4XeI/Hmm/FLX/AIeaNe%2BJNGgaHStdutNjkurSNjkrHKw3IMk9DxubH3jnq4f%2BQLcf9fUP/oMtYRyvHVkqWLruVOOiUbxcl0dSSabdtGocqdrvVtHoYjjbhnLpvG5BlcaOLqe9KdVxrU6EvtLCUZxcIxbvKM66rVKal7OmkoRm/nLw/wD8Es/2EdF8GS%2BDdQ%2BAGma0bqQy32ta7LJc6ncynO6Rrst5qEkkkIyrnsK5%2BL/gkJ%2ByV9oj0y/1Hx7e%2BFoXDw%2BA7zx1ePo6ODwwi3CTI4HMmOK%2Bo6K6JZDkskk8NDT%2B6lp2drXXk%2BZPrc8ql4o%2BJFGc5RzfEXm7u9WUtduaPNzqEraKVNU2lpFxWh5bL%2BxF%2Bx/N4HX4byfsz%2BCToycpaf8ACO24KtjBkEm3eJMfx7t3vXAeFv8Agkz%2Bw54V8Ww%2BJYvhddajaWUjS6Z4a1vXLm90qylY5aSO2mdlJbjIfcvA4GK%2BkaK1qZRlVWUXOhBuO3ux0/BaeTuvI4sJx/x1gaVWnh80xEY1b86Ver7ze71nJpvVOUXGVm1zWbRW1jwV4O1r4ew%2BCNY8J6Zd6K7SwPpFzYRyWrRBIgIzEwKFQO2MV846/wD8EqP2bYtaufEvwV8SeOfhXqF1J5ssvw38WzWERk9fJbfGo4A2qqjHpX1DN/yBbf8A6%2Bpv/QYqq1eJy7AY1L29NSts7ar0as18mjkyTi7ijhxz/szGVKSn8cVK8J/44TVSnP1lTk/M%2BYvDX/BNXT9d8caf4q/ap/aF8V/GGw8PsH8MeHfFiRpY2kmTmaeOP5byTsGcAYyCGGMfTcEENtCltbQrHHGoWONFAVVAwAAOgp1FVhMBhMCpKjG3Nu7tt9ryk23bZXdktkiM/wCKc/4nnTeZV%2BdU1aEVGEKcE3d8lOnGnTi5PWTjBSk9ZNu1ipJdN06wgt5rGwhhe5iaS4aKIKZX8xxuYgfMcADJ54qOrWof8elj/wBep/8ARsldbSujwFKSTSe5ieLvCHhXx94bvPB3jfw5ZavpOoQmG%2B07UbZZoZ0PVWRgQRXzxoX/AASG/YP0jVRqOo/Cm91mGCVm03TNb8R3txaaejMWMUMJlC7Mk8OG69a%2BmKK5MVl2X42cZYilGbW3Mk7ff/wV1tc%2BhyXi/ivhzD1KGU4%2Bth4VNZKnUlBNpWv7rVnbS65W1o21oeL%2BIv8AgnT%2Bwr4osU0/U/2UvBEcaIEVtP0OO0kx7vAEYn3JzXv37Nfwe%2BHHwD%2BCui/Cb4SeG10jw9pRuf7P05bmWYQ%2BbcyzSYeVmc5kkduWOM4GAABk13ngz/kWrb/gf/obVm8BgcPL2lKlGMtrqMU7drpLQzx3FHE2a4JYPHY6tWoqXMoVKtScVKzXMoznNJ2bV97N9zUooooPFCiiigAooooAKKKKACiiigAooooAKKKKACiiigAooooAK8b/AG79C%2BI3i/8AZ31LwT8LPhJq/i/VtUvbIR2mk32n25t0iuoZ3kd766t027YioClm3MPlxkj2SigD5Y/az%2BFnxu%2BMOv8Ahn42eA/hZ8QdP1XTPAniXQbTRNF8a2Gk6jp2o376XcWd7LNBfiGS1jk09lljEsu4mMmCZQRTPGHw%2B%2BP/AMafiRqGg/Hv9nzXdY0bw94evNP8HXGna5pFnpGpajc6LJa3mrXMi3jXsDy/aLqxgRbVhBHNJKyuZQIPqqigDxD9jvwN8U/Bd54nj8R%2BGPF/hzwjJHpkfhTwz478XRa3qNpNHA63kouI7q6CW8hNuI4fOO1oZWCRq4WvK/8AgogU0r9tn9lDxW8CuIPFniKxIfIB%2B06Yi44IP8Pr2r7Dr4%2B/4Kop/Z3xL/Zm8T9PJ%2BOlnY7v%2Bvm2mXH47K8vOdMDzdpU391SmfoHhj73F8KX/Pyji4f%2BBYPFL9D3v%2B0LT/oB2v8A33L/APF0f2haf9AO1/77l/8Ai6q0V9HZH52Wv7QtP%2BgHa/8Afcv/AMXR/aFp/wBAO1/77l/%2BLqrRRZAact9ajSIH/se2INzKAu6XA%2BWPn7%2Bf/wBVVv7QtP8AoB2v/fcv/wAXRN/yBbf/AK%2Bpv/QYqq0kkBa/tC0/6Adr/wB9y/8AxdH9oWn/AEA7X/vuX/4uqtFOyAtf2haf9AO1/wC%2B5f8A4urN9fWq21mTo9sc2xIBaX5f3r8D5/x59azKtah/x6WP/Xqf/RslJpXQB/aFp/0A7X/vuX/4uj%2B0LT/oB2v/AH3L/wDF1Vop2QFr%2B0LT/oB2v/fcv/xdH9oWn/QDtf8AvuX/AOLqrRRZAaeq31qtyobR7Zv9GhOWaX/nkvHD9ulVv7QtP%2BgHa/8Afcv/AMXRrH/H2n/XrB/6KSqtJJWAtf2haf8AQDtf%2B%2B5f/i6P7QtP%2BgHa/wDfcv8A8XVWinZAWv7QtP8AoB2v/fcv/wAXVnWL61TV7pG0e2Yi5cFmaXJ%2BY8nD4rMq1rn/ACGrz/r6k/8AQjSsrgH9oWn/AEA7X/vuX/4uvBPD/wCwH8HPCHh3SPD/AIN8S%2BJ9KbR9Z1G8h1C0v4DcS295bpaNYM0kDKlvHaQ21rE0apPHFbRATbtzN7jRT5UFz580D/gm18DND8Mjw1J4q8WXuyx%2Bz299dX9sJ4CumaTp0MymK3RfMij0azkQlSPN8wuHVgi%2BqfAH4F6f8G/E%2Bp6nZePvEOt3XifxSdZ164117Vmurt7Sysg37iCIRqkdlGVRAqhpHyCuxU6%2BrWh/8hqz/wCvqP8A9CFS4xSHdnmdz8AZJvj9cftAw/GLxXBdT6G2kr4fii0w6dDbHcyqu6yNxlZW80FpmO4AHcmUOd8Q/wBif9lj4p%2BLtJ8f%2BM/gd4auNc068nub7WI9Ft47vWJJbCeyY3cyIHfCTmRSjIVkijYEBdtep0U%2BWLFc8Q1n9hjwpr3wv8W/DPU/jV46kbxp4WtvDGs%2BIGm0xr/%2Bw4IbuKPTkzYmFYwL66YymI3BaTJlIAA3fEH7KXhbxdr9h4i8VfEHxNfSoNL/AOEjheSyii8Stpt415YteLFbJsMUzH/j1NuJFASQSKAK9Soo5Yhc878P/sx2dprWva9H8ZfGsmr6no11p%2Bkaze3dldXHh6xkla5mtbPz7V0dJGWNGe5W4l2RRgOCisOUT9hjwofhHo/wUufjZ4/m0TTfCLeFb9GvrBG1jRCiRiyuQlmqKBGrRieBIbjbK/74kgj3nR/%2BPt/%2BvWf/ANFPVWjlVx3PIfFH7FHwd8Z6vqr%2BJbnWbnQtSGqyW3hEXqR6fpl3qULxXl7bNHGtysziWdhvmdEe4kZEUkEM1f8AYZ/Z98beCvEXhr4y%2BFYfH2q%2BJjcte%2BMPGOmWVzqlu8tnDZ77YpbpBbFIbeHb5cKjdGHYOxZj7DRRyxC7OL8Pfs/fC3wvqy6ho3h/7PbReBYPCdrpVtMbe2tbCN5HJhWHY0Uj7wGZWAxFHtVSuTzOifsW%2BEIre/13Uvit401HxRb2%2BlDRfGmoXVk%2Bo6TFYNcJbxQgWogcbNQvldp4ZZJRcuHdsLt9aq1p/wDx6X3/AF6j/wBGx0OKsFzxK3/Ym%2BHFpZaboNn448XR6LbtZS67oJ1SJ7XxDcW1/JqC3F0HhLxyPcyu8v2V7dZQQjKUVVEWkfsU%2BHdN8P674YvfjT421C01zxANfY3i6Us1prCahDfwagk0VgksssMtvEiLO0sXlIsTRsiqq%2B0UUcsRXZz/AMIPhr4e%2BDvhm50GwlutZutR1a51PV9a1qUG6v7ud9zyyCARRLxtQLHGiqqKAOOfTfAFxFP9r8qxihx5efKLnP3uu5jXJV1Hw2/5ff8Atn/7NUVUlTY1udRRRRXIWFc18Zh4zPwf8Vj4cmT/AISH/hGr7%2BwfK%2B/9t%2Bzv5G338zbiulooA%2BC/gunwY1z4d/FbwD%2Bzt8RLHwt4b139nTSLebVdAjeSS18S/ZdZ%2B33HkW/7%2BbU4bdrF7pVH2ri3DYcrXD2P/CubzTL7xvr0PwMsfhPp3xFiTR/CTazO/gTUbx/DZW5e3vVsTE0sbBZUH2dY2uPPhU/aQZT%2BllFAHm/7HCfECP8AZH%2BF0fxYN5/wk6/D3Rh4h/tFXW5%2B2/YofO84OSwl37t4JJ3Z5Nani2PS28QXBuLy4R/k3KlsrAfIvcuP5V2lcH4z/wCRluf%2BAf8AoC1tR%2BIUtir5Oi/9BC6/8A1/%2BOUeTov/AEELr/wDX/45VWium3mQWvJ0X/oIXX/gGv8A8co8nRf%2Bghdf%2BAa//HKq0UW8wNPWItIOr3RlvrkN9pfcFtVIB3HvvGareTov/QQuv/ANf/jlGuf8hq8/6%2BpP/QjVWklogK/i/wAVfDzwB4YvvGvjbxgNK0nTLZrjUNRvoo44beJRkszGTAFeW2f/AAUH/wCCf99jyP2wPBy5/wCe2rW0f/ocwryD9pm5uP24v2pNO/Yg8OzPJ4D8EyW2vfGW9gY7LqQNvstH3Du7ASSD0GQQ0ZB99u/2V/2Yb8bb79nHwHMPSXwfZN/OKvF%2Bt5ljK9RYPkVOD5bz5nzSXxcvL0i7Rb1vK9tj9J/sDg/h/K8LLiJ4h4rER9qqdB0I%2Byoy/hOp7ZNudVKVVRVuWl7Ny1qIyx/wUG/YC0I/23dftg%2BCXis/38iQa7ayuVT5iFSOZnc4HCqpY9ACeK8J8JfDjxV/wVJ8WQfFj4%2B6bq/h74D6bcef4G8BzRmG68VuM7dS1ALICkOOY4gxyDnO3LSfReh/sgfsl/21Z/8AGLvw6/4%2Bo/8AmSbD%2B8P%2BmVdzFFHBGsMMaoiKFRFGAoHQAdqUsvx2Pmo4%2BcXTWvJBStJ9Ody3it%2BVaN/FdKzqhxVwxwvRnW4Xo144yfuqviJUXKjFq0nQjRilGrO9vbSbnTjdUlGUnUj8tT/sI/Hf9m92n/4J%2BftR3el6O7FT8OviXavqWj2ynvbTB3ntwvUIA24/ebHFXdE/4JneH/ifqdv4y/bq/aF8WfFrU4nEsWgywjTtAs5Oo8qyt5VDEdNzH5wBuWvpqirXD%2BVp2cW4LaDlJ016Qb5flql0ijCfipxtKDnGvCFdq0sRCjShiprtLERpqq%2Bt5LkqSv79WZS8D/Dn4VfDLw/F4T%2BHPhy00HS4B%2B50/R9EhtoU9wkbgZ966DSotIFy3l31yT9mm4a1UceU2f4/SsyrWj/8fb/9es//AKKevWUIwhyx0S6KyX4I%2BArV62JrSq1pOU5O7cm5Nt7ttttt922/MPJ0X/oIXX/gGv8A8co8nRf%2Bghdf%2BAa//HKq0VdvMyLXk6L/ANBC6/8AANf/AI5R5Oi/9BC6/wDANf8A45VWii3mBp2MWkC2vNl9ckG2G4m1UYHmp0%2BfnnFVvJ0X/oIXX/gGv/xyjT/%2BPS%2B/69R/6NjqrSS1YFrydF/6CF1/4Br/APHKPJ0X/oIXX/gGv/xyqtFO3mBa8nRf%2Bghdf%2BAa/wDxyrMUWkf2ROBfXO37TFk/ZVyDtkxxv%2BtZlWof%2BQLcf9fUP/oMtJoA8nRf%2Bghdf%2BAa/wDxyjydF/6CF1/4Br/8cqrRTt5gWvJ0X/oIXX/gGv8A8co8nRf%2Bghdf%2BAa//HKq0UW8wNOWLSP7IgBvrnb9plwfsq5J2x543/Sq3k6L/wBBC6/8A1/%2BOUTf8gW3/wCvqb/0GKqtJIC15Oi/9BC6/wDANf8A45R5Oi/9BC6/8A1/%2BOVVop28wLXk6L/0ELr/AMA1/wDjlWb6LSDbWe%2B%2BuQBbHaRaqcjzX6/PxzmsyrWof8elj/16n/0bJSa1QB5Oi/8AQQuv/ANf/jlHk6L/ANBC6/8AANf/AI5VWinbzAteTov/AEELr/wDX/45Xa%2BEhAvh%2B3FvI7p8%2B1nQKT87dgT/ADrgK7zwZ/yLVt/wP/0NqxrL3So7mpRRRXMUFFFFABRRRQAUUUUAFFFFABRRRQAUUUUAFFFFABRRRQAUUV4/%2B3J4v%2BLHw%2B%2BAVz46%2BEPj2Hw/e6XrOnSX1w%2BkRXclzavdxxPbx%2BdlIi5kXdIUchA4UK7LIgB7BRXzZ%2B3L8dvix8PPH3hn4ffDfVfFmlWc/gjxL4p1zWPBugaZqF5DHpj6bEgeLUiInth/aDyypERcyeTGkJBdiPL/AIxftwfGz4efD/xB%2B1Z4S%2BISazoaeJ/FWi6N4Kk0m2WxNtpnhjU9St7xZBELszS3GmCRt0xj8i5ZRGGRXoA%2B46%2BQf%2BCw/wDofgT4HeJBx/ZP7SfhW5ZvRf8ASVI%2BnzCvXP2efEfxN0f4v%2BOfgP8AEf4oXnjT/hHNH0LVrLxFqWnWdrcH7et5HLbMtnDDEVSSxMifJvC3IVmfaGryT/gtchtv2RtE8Rggf2L8U/Dl7uLAbcXezPP%2B/XlZ3plNZ9kn90oP9D9A8K9fEXLYfz1HD/wZSxFP/wByHttFWv7Hu/8Anta/%2BB0X/wAVR/Y93/z2tf8AwOi/%2BKr6S6Pzsq0Va/se7/57Wv8A4HRf/FUf2Pd/89rX/wADov8A4qi6AJv%2BQLb/APX1N/6DFVWtOXSro6RBH5ttkXMpP%2BmRY5WPvux2/wA5qt/Y93/z2tf/AAOi/wDiqSaAq0Va/se7/wCe1r/4HRf/ABVH9j3f/Pa1/wDA6L/4qndAVatah/x6WP8A16n/ANGyUf2Pd/8APa1/8Dov/iqs32lXTW1moltvltiDm8iH/LVzx83PXtSbV0BmUVa/se7/AOe1r/4HRf8AxVH9j3f/AD2tf/A6L/4qndAVaKtf2Pd/89rX/wADov8A4qj%2Bx7v/AJ7Wv/gdF/8AFUXQBrH/AB9p/wBesH/opKq1p6rpV1Jcqyy23/HtCPmvIh0iUd2qt/Y93/z2tf8AwOi/%2BKpJqwFWirX9j3f/AD2tf/A6L/4qj%2Bx7v/nta/8AgdF/8VTugKtWtc/5DV5/19Sf%2BhGj%2Bx7v/nta/wDgdF/8VVnWNKupNXupFltgGuXI3XkQP3j1BbIpXVwMyirX9j3f/Pa1/wDA6L/4qj%2Bx7v8A57Wv/gdF/wDFU7oCrVrQ/wDkNWf/AF9R/wDoQo/se7/57Wv/AIHRf/FVZ0fSrqPV7WRpbYhblCdt5ET94dg2TSbVmBmUVa/se7/57Wv/AIHRf/FUf2Pd/wDPa1/8Dov/AIqndAVaKtf2Pd/89rX/AMDov/iqP7Hu/wDnta/%2BB0X/AMVRdAGj/wDH2/8A16z/APop6q1p6VpV1HcszS23/HtMOLyI9YmHZqrf2Pd/89rX/wADov8A4qldXAq0Va/se7/57Wv/AIHRf/FUf2Pd/wDPa1/8Dov/AIqndAVataf/AMel9/16j/0bHR/Y93/z2tf/AAOi/wDiqs2OlXS214pltvmtgBi8iP8Ay1Q8/Nx070m1YDMoq1/Y93/z2tf/AAOi/wDiqP7Hu/8Anta/%2BB0X/wAVTugKtdR8Nv8Al9/7Z/8As1YP9j3f/Pa1/wDA6L/4quj8AWctp9r814ju8vHlTo/97rtJxWdVrkY1udHRRRXIWFFFFABRRRQAVwfjP/kZbn/gH/oC13lcH4z/AORluf8AgH/oC1tQ%2BMmWxl0UUV1EhRRRQBa1z/kNXn/X1J/6Ea8F/bG/a/g/Z/sbD4ZfDPw%2B/ir4qeLlaDwV4PssM7uQR9ruO0VtGQWZmIDbGAIAdk3f27f2nov2Xfh1e%2BItC0caz4u13V/7I8C%2BG0BZ9U1SZysSbQQSik73wRwMZBZa539jz9j%2BT4HtqHxk%2BMXiI%2BLPi14uRZfFviu6APkg4IsbQdIraPAUBQN2wEgAIieNi8TiK9b6lhHaVk5z/ki9rLrOWvKtkvelpZP9B4dyfKMrypcSZ9Hno80o0KF2niakLczk1rDDUm4qrNe9Uk1Qp2k6k6et%2BxN%2BzI/7MHwYj8PeJdWXVvGGvX0us%2BO/EBbc%2Bo6rOd0rbiASi/cXgZC7sAsa9foor0sNhqODw8aNJWjFWX9dW9W31bb6nyOdZxmHEGbV8yx0%2BarWk5SdrK76JLSMYpRjGKsoxjGKSUUWtD/5DVn/ANfUf/oQqrVrQ/8AkNWf/X1H/wChCqtbdTzAooopgFWtH/4%2B3/69Z/8A0U9VataP/wAfb/8AXrP/AOinpPYCrRRRTAKKKKALWn/8el9/16j/ANGx1Vq1p/8Ax6X3/XqP/RsdVaS3YBRRRTAKtQ/8gW4/6%2Bof/QZaq1ah/wCQLcf9fUP/AKDLSYFWiiimAUUUUAWpv%2BQLb/8AX1N/6DFVWrU3/IFt/wDr6m/9BiqrSQBRRRTAKtah/wAelj/16n/0bJVWrWof8elj/wBep/8ARslJ7oCrRRRTAK7zwZ/yLVt/wP8A9DauDrvPBn/ItW3/AAP/ANDasa/wDjualFFFcpYUUUUAFFFFABRRRQAUUUUAFFFFABRRRQAUUUUAFFFFABXHfG74DfDf9ojwgPAXxUtdYuNK%2B0pO9rpHinUNKMroQy%2BY9jPC8ihgGCsSu5QcZAI7GigDzfxj%2Byb8EviB4WsvCHjTS9f1G10%2BK4gguLnxvq5vHt540juLaW7%2B1faJreVY4/MgkkaKQopdWKghW/ZI/Z3fxvd%2BP5vhtDJeXscq3FnLfXD6cWls1sZZVsDIbVJntFFu0yxCRoiULFWIPo9FAHIfCD4EfDD4E6be6Z8NtFu7cajNHLfXOp63d6jczmOJIYlae8lllKJGioke7YgGFAyc/On/AAXOt5W/4Jr%2BNdSt1zNp2p6NdRexTU7bJ/ImvrqvmH/gslpn9r/8E4PiXa7c7NKjmx/1zmST/wBkrzc5jz5PiY/9O5/%2Bkv8AyPufDGssP4k5LUeyxeHv6OtBP8JHpdtcRXVvHdQtlJEDofUEZFPrn/hPqf8Abfws8Nazuz9r8P2U2fXfAjf1roK9%2BnLnpqXdJ/ek/wBT4nFUXhsVUoveMpR/8BlKP6BRRRVmBam/5Atv/wBfU3/oMVVatTf8gW3/AOvqb/0GKqtJAFFFFMAq1qH/AB6WP/Xqf/RslVatah/x6WP/AF6n/wBGyUnugKtFFFMAooooAtax/wAfaf8AXrB/6KSqtWtY/wCPtP8Ar1g/9FJVWktgCiiimAVa1z/kNXn/AF9Sf%2BhGqtWtc/5DV5/19Sf%2BhGl1Aq0UUUwCrWh/8hqz/wCvqP8A9CFVataH/wAhqz/6%2Bo//AEIUnswKtFFFMAooooAtaP8A8fb/APXrP/6KeqtWtH/4%2B3/69Z//AEU9VaXUAooopgFWtP8A%2BPS%2B/wCvUf8Ao2OqtWtP/wCPS%2B/69R/6NjpPYCrRRRTAK6j4bf8AL7/2z/8AZq5euo%2BG3/L7/wBs/wD2as6v8NjW51FFFFcZYVzXxmHjM/B/xWPhyZP%2BEh/4Rq%2B/sHyvv/bfs7%2BRt9/M24rpaKAPgv4Lp8GNc%2BHfxW8A/s7fESx8LeG9d/Z00i3m1XQI3kktfEv2XWft9x5Fv%2B/m1OG3axe6VR9q4tw2HK15dqX/AAjHii6NrDc/BHwj8MJfHEr6Jfzwf278Ora%2BTw0qzxojfYY7maSR43jkQxLFPFdriaUSCT9RaKAPPP2RZ9Ruv2UPhhc6vpms2V3J8PNFa6s/EV00%2BoQSGxhLR3UjKhknByHYqpLhiVGcC/4tj0tvEFwbi8uEf5NypbKwHyL3Lj%2BVdpXB%2BM/%2BRluf%2BAf%2BgLW1H4hS2Kvk6L/0ELr/AMA1/wDjlHk6L/0ELr/wDX/45VWium3mQP1W/wDCWhaZc63rfiF7Ozs4Hnu7u6hjjigiRSzO7NIAqgAkk8ACvJLb/goH%2BwDdZ8r9sHwYMf8APTWbVP8A0KYV4r8afEmvf8FGPjZe/smfC7V7i1%2BE3g%2B%2BQfF3xXYylf7YukIZdEtpB1GQDMwPGMcYUS%2B/p%2ByP%2ByotjDprfs0%2BAZIYIliiSbwhZPtVRgDLRkngd68RYzMMdVk8Dyezi7c0%2Bb3pLfl5fsx25nvK6WibP0qfDnCfDWBoLiWWIeLrRVT2ND2KdGlJJ0/bOsn%2B8qp86pxScKbhKpaVSMV4v%2By9pw/bj/aa1b/goJ4/ivIvBuiXF1pHwP0m4tOtvvZLnWGRmXbJMwKJkZCgg/cRq%2BtfJ0X/AKCF1/4Br/8AHKqjQtE8ME%2BHPDWj2unadYMYLGwsbdYYbeJDtWNEQBUUAABQAABxRXZl2C%2BpYfllLmnJ80pfzSe78ktFFdIpLvf5zi3iJcR5oqlGn7LD0oxpUKV7qlRhfljfRSm25VKs7LnqznL%2BVK15Oi/9BC6/8A1/%2BOUeTov/AEELr/wDX/45VWiu%2B3mfMGno8WkDV7UxX1yW%2B0ptDWqgE7h1O84qt5Oi/wDQQuv/AADX/wCOUaH/AMhqz/6%2Bo/8A0IVVpW1AteTov/QQuv8AwDX/AOOUeTov/QQuv/ANf/jlVa8w/an/AGpvB/7K/g3Tdf13w9qmv6vr%2Bsw6T4Y8L6FGr3uq3kh%2BWONWIGAOWY8DgcllByr16OFoyq1ZWit3/S80kkm22kkY4nE0MJQlWrS5Yx3f9Xe7SSSbbaSTZ6z5Oi/9BC6/8A1/%2BOVZ0qLSBct5d9ck/ZpuGtVHHlNn%2BP0r5IHx8/4KifEL/S/h9%2BxB4S8H2g%2BaN/H3jtbia4Uc4EVmoaJj0AfOD14qxpn7aH7bvw/uWs/jB/wTU8S3bmCVIr/4f%2BKbTVYp2MbDcY/leFecncSQBmvNedYRK8o1Eu7pVLf%2Bkt/fFHl/2/gVrKFRR/mdKpb/ANJb%2B%2BKPqbydF/6CF1/4Br/8co8nRf8AoIXX/gGv/wAcr5T/AOGuf%2BCgniL9/wCB/wDgmBqCWw%2BbzfEfxP06ykYf3REULAn1JwKH/bc/bK8Mr9o%2BJH/BLzxpbQR83DeF/GOn6zIF7lI4gpc%2Bw60/7bwO79ol39lUt9/J%2Bgf6wZctWqiXf2NW338n6H1Z5Oi/9BC6/wDANf8A45R5Oi/9BC6/8A1/%2BOV8qQf8Fff2NNNhmtfiZqXi7wPrMMe4%2BG/Fvgq%2BgvnOQNipHHIrNkgYDfpk1Rvv%2BCjnxp1u2bx18Kv%2BCd3xP1nwTZES6prupiHTr2S3zgy2dg%2B6S7/vAKVyBzjqE8/ye3u1uZ9oqUmvVRi2rdeZL0E%2BJMkt7lZSfaKlNrzcYxbjbrzKPofYVjFpAtrzZfXJBthuJtVGB5qdPn55xVbydF/6CF1/4Br/APHK8z%2BBX7Yf7OHx4%2BFWsfFfwB8VNLOk6ZYB9d/tK4W1m0jEqblu45SDBjB5b5TglSRzXi9z/wAFJfGHxJ1%2B7l/Y3/ZI8T/Fbwro0jJrfi%2B21CPS7WRwcFLEXCZvWU9Qu3pxkENWtTNsupQjP2vMp6x5bybXVpRUm0urtZdddDetnWV0aUKntVJT1jy3m5Lq0oKTaXV2suuuh9aeTov/AEELr/wDX/45R5Oi/wDQQuv/AADX/wCOV8np/wAFc/2b9C/4kvxZ8A/EnwT4k6ReFPEPgS6F7csOoh8oOjj0JZcgg1Lof/BUbwVdeO/D2jeOf2cvib4H8L%2BJdUGmab448c%2BHhp9i166loYyC7ELJtIDnAB5IADFcln2TNpKuu3XS%2Bnve77urXxcpguJMibSVeN9F9rS7t73u%2B7q18fLufVfk6L/0ELr/AMA1/wDjlWYotI/sicC%2Budv2mLJ%2ByrkHbJjjf9azKhuPFnhbTCvhnUvEun2%2BpXs0b2Wnz3iJPcKokDMkZO5wCQCQDjIr1pNRWrPacox1bsaHk6L/ANBC6/8AANf/AI5R5Oi/9BC6/wDANf8A45WfqOo6fpFhNqmrX0Nra28bSXFzcShI4kAyWZjgKAOSTXyl8XP22/FP7SPiaT9mj/gnVqkGta5cMYvFHxOS3aTR/Ctt0aRJcbLq5IP7tULLnnJwdvJjcfh8DBe0d5PSMVrKT7RW783olu2kjhx%2BZYXL4J1HeUtIwWspPtGO783oktZNJH0Ppv7RX7OGsfGq8/Z10v4v2k/jawsReXfh6OFTNHF1679pcAhjGDvVSGKgEGu28nRf%2Bghdf%2BAa/wDxyvkfxJ/wSm%2BFOk/A/T/D/wAGvEF5ovxN8P6i2t6L8U7mQvqdzrDcyS3cnJkhlI2vGcqFOQCQd3Ez/wDBQb9pP4r6Bb/se/D/AOE1zoX7RMt1Jpnix7q1b%2By/DltGqeZrayEFXidHVoV%2Bb5m/jHliXy/7XxGB93MYcspaw5Ly5n/z72/iLTtGSvJWUZW8n%2B3MTl7cczpKMpa0%2BS8uZv8A5d/9fFp2jJXlFpRlb650r9p79mTxF8V7z9m7RvjRYT%2BNtI3T33h5UAnRWRDgZcK7KFyyIzOoOWVRgntfJ0X/AKCF1/4Br/8AHK%2BY0/4JRfsyr%2BzjpPwvube/Hiiy1W41NfihZzmHXzq7iJpL77SMtkuAfLYsoAX%2BIB65nwt%2B1j8cf2LdftPhJ/wUFg/tLw3POtt4a%2BN%2BkWZ%2BxXWeEi1OJcm0m7b/ALre4VpKunmWMwlnmMFCMtpRbcY3%2BzPTRrbn%2BBv%2BXS%2BsM1xuCs80pqEZbTi24xv9mo38LWi5/wCHJ9YaX%2BwvJ0X/AKCF1/4Br/8AHKPK0Q8DULr/AMA1/wDjleFfta/tjeHfgB8MtL1L4fWkPi/xh42kWz%2BG/hzTJhMdZupANkoKH/j3QMrvICBggZBYGvJ/h/8A8ErJ7zQP%2BFofFH9pH4g6b8YtcnbUPFHjPwZ4ne0Q3D4ItUiwY2t4gBGo2jIBxtXai9GIzGr9Z9hhKftZRV5e8oqKeyu005S3Uf5dW0mr9GJzSt9a%2Br4Ol7WUVefvKKin8K5mmnKW6j/L7zaTjf7N8nRf%2Bghdf%2BAa/wDxym%2BK9Z8GeGPD0fiDxR4nXTdPs7FpLm%2BvVjiihjEj5d3eQKgHPJOPevlSL9lL/go9YJ/ZGkf8FQylhEdttPe/CHTLm72dhI7yDew6bup61PH/AME0b34k6vpviP8Abh/ad8T/ABlSyQSaX4eu7KPRtGgIkf53s7R9sz5BO4sAQcMrCoeOzKpaNPCSUu85QUV6uLlJ/KN35EPMs0qLlpYKSl3nOmor1cZTk16Ru/I9r%2BCH7S/7NP7SMWrzfAz4w23iRdCvRa6qdPtv9TIRlT8zjejYO2Rco21sMdpx3fk6L/0ELr/wDX/45XyX%2B1F%2By14j%2BCXiLTP2w/2HvBdlp/ijwlp62niLwPpNqtvaeKtETBa18qMBRPGozEwGflC4Yqi07UP%2BCsnwL8U%2BFtCt/wBnLwrrvxJ8c%2BJLAT2HgLQbUi5sWztZb%2BUgx2aowIZjuwMMAUIas4ZusI5UcxkoVFqmr2mns4Kzk2n7rjrJOz2kmsqedxwTlRzRxhUWqavy1E3o4J3k5J%2B7KGsk7P4ZJr6y8nRf%2Bghdf%2BAa/wDxyu18JCBfD9uLeR3T59rOgUn527An%2BdfDNjrf/BZZrVNduPBX7Pwjuh5v9hzX%2BrC7sweRC8qExOyjALKSCc44r67/AGZtR%2BLerfBDRNQ%2BOvhvSNI8VyC5/tXT9BvHuLSIi5lEZjkcBm3RCNjnozEdq6KePWKfL7OpHr78HFffd6%2BWjPRwWZRxlRwVGpDS95wcV9/M9fLR/cd5RRRWx6YUUUUAFFFFABRRRQAUUUUAFFFFABRRRQAUUUUAFFFFABXLfGr4saN8DfhZrfxZ8QeH9a1W00Oya4m07w9pxurycAgbY0yB1PLuyRooLu6IrMOpri/2ifDfxB8afBHxP4J%2BF%2Bk6Nea1rei3OnWsev6vLY2qCeJomkaWG3uHG0MWCiM7iMZXOQAZHxA/aa0XwR4R8BeJ9J%2BG3ibxJcfEfVIbDw3ouhixS6Msmm3WpZla8uoIUVbezmyfNJ3bQA2c1X8Y/tM6x4D8QeFNC8Rfs2ePETxbq2n6ZaXsN1ociWt3cgs8csa6mZn%2BzxpLLM0McqrHBK6GQLmuP134F/GDxx8AvBXw%2B%2BJ/7Pnwg8U33hG5tDJ4f8R%2BJby8026WKwuLMzRzvpgMEwEoI320ysjyx/KSso0Pgr%2BzL8R/AOo/CWLxv4vsNXsPh34F1SxuEFxO7HV7mSyWCWHzFJaK3tI722R3YSbLjlTubaAdd%2Bzj%2B0Mf2kfBdn8RtI%2BDfizw3oWqabBfaJqXiWXTNuowSglWjSzvbiRDtwSJVjPzDqcgcR/wVC0z%2B1/2Bfirabc7PBGpzY/652c0n/slQfsofsr%2BL/gn8SrzxjfeAvh94L00%2BE4NHk0X4bT3Jtdcuo7hpBqdxFNBF5Eip%2B7SPdcOqzOrTuESus/bksn1X9kj4iaMiI327wXq9uQ8Ybh7C4XjIODz1HNc2Mh7TB1Y94TX/ksj3uFMR9U4qy%2Bv/JiKEvurUX%2BVzhP2SdU/tv8AZU%2BGWs7s/a/h9os2fXdYwt/WvQq8k/4J3%2BKLrUv2FvhNMqWzCPwHpsALWcRP7qBY%2BpXJ%2B5Xsv9sXf/PG1/8AAGL/AOJrsy6bqZdRl3hB/wDksQ4vw/1Ti3MaH8uIrr7q9ZflYq0Va/ti7/542v8A4Axf/E0f2xd/88bX/wAAYv8A4muzU%2BdCb/kC2/8A19Tf%2BgxVVrTl1W6GkQSeVbZNzKD/AKHFjhY%2B23Hf/OKrf2xd/wDPG1/8AYv/AImkrgVaKtf2xd/88bX/AMAYv/iaP7Yu/wDnja/%2BAMX/AMTT1Aq1a1D/AI9LH/r1P/o2Sj%2B2Lv8A542v/gDF/wDE1ZvtVultrNhFbfNbEnNnEf8Alq44%2BXjp2pO90BmUVa/ti7/542v/AIAxf/E0f2xd/wDPG1/8AYv/AImnqBVoq1/bF3/zxtf/AABi/wDiaP7Yu/8Anja/%2BAMX/wATRqAax/x9p/16wf8AopKq1p6rqt1HcqqxW3/HtCfms4j1iU91qt/bF3/zxtf/AABi/wDiaSvYCrRVr%2B2Lv/nja/8AgDF/8TR/bF3/AM8bX/wBi/8AiaeoFWrWuf8AIavP%2BvqT/wBCNH9sXf8Azxtf/AGL/wCJqzrGq3Uer3UaxWxC3LgbrOIn7x6krk0tbgZlFWv7Yu/%2BeNr/AOAMX/xNH9sXf/PG1/8AAGL/AOJp6gVataH/AMhqz/6%2Bo/8A0IUf2xd/88bX/wAAYv8A4mrOj6rdSavaxtFbANcoDts4gfvDuFyKTvZgZlFWv7Yu/wDnja/%2BAMX/AMTR/bF3/wA8bX/wBi/%2BJp6gVaKtf2xd/wDPG1/8AYv/AImj%2B2Lv/nja/wDgDF/8TRqAaP8A8fb/APXrP/6KeqtaelardSXLK0Vt/wAe0x4s4h0iY9lqt/bF3/zxtf8AwBi/%2BJpa3Aq0Va/ti7/542v/AIAxf/E0f2xd/wDPG1/8AYv/AImnqBVq1p//AB6X3/XqP/RsdH9sXf8Azxtf/AGL/wCJqzY6rdNbXjGK2%2BW2BGLOIf8ALVBz8vPXvSd7AZlFWv7Yu/8Anja/%2BAMX/wATR/bF3/zxtf8AwBi/%2BJp6gVa6j4bf8vv/AGz/APZqwf7Yu/8Anja/%2BAMX/wATXR%2BALyW7%2B1%2BakQ2%2BXjyoET%2B912gZrOrfkY1udHRRRXIWFFFFABRRRQAVwfjP/kZbn/gH/oC13lcH4z/5GW5/4B/6AtbUPjJlsZdeVftx/Fx/gX%2ByH8Q/ijb3ht7rTvDFymnTBsFLuZfItzn/AK7Sx16rXy1/wU1/4uLJ8IP2VoPn/wCFifFGyOrW/XzdJsP9Ku%2BO%2BMRH04rnzivPD5XVlT%2BJrlj/AIpWhH8ZL7j7Dw8y3DZtxtgKOKV6MaiqVf8Ar1RUq9X/AMkoyWunvJPc9Q/Yh%2BCenfs%2Bfsp%2BBvhja6TFaXdr4ftp9aEcYUy6hLGsly7d2YyMwyecADtXqtFFdmGoU8Lh4UaatGKSXokl%2Bh89nGaYvPM2xGY4qV6lec6knv705Sk9%2B3NZeSS6FrXP%2BQ1ef9fUn/oRqrVrXP8AkNXn/X1J/wChGvNf2m/2jvAX7K3wg1H4vfEBppYbVkg07TLQBrnU7yQ4htYV/idz%2BShmPCmirWpYeg6tWVoxV230SPJxFejhaMq1WSjGKbbeySPQK%2BbfjD/wUM0qLxzP8Cf2QPh1c/F34gQHF9Z6LdLHpWjjOC17fH91GQQRsBJ3AqShwDzKfAf9tn9tuMaj%2B1T48k%2BFPgG6UMvwy8C32dTvYTzs1DUMfKCOGijGGBwQjDNfRvwb%2BB/wm/Z98EW/w6%2BDXgSw0DSLbkW1jFgyvjBkkc5eVzgZdyWOOTXle2zLMtKCdGn/ADSS53/hg9I/4p69oHje3zXNNMOnQpfzyS9o1/cg7qH%2BKpd9oHnH7L3/AAUA%2BGnxa%2BIFv8H/AIraDe/DP4l2U8f9oeB/FrCKSXDZMlpOcJdxHBIZcMQC23b8x8/%2BIv7Znxy/aT8Y6h8Gv%2BCbWj6VqR0WVl8S/FXX0J0OylUZFpbEBvtUzHALKGVQ2QCDvX3f45fsn/s%2B/tZaXZ%2BC/j38NrLXbVLlPs1w5aG6tcsM%2BVPGVkjzxkKwDY5Brofh38OfAvwl8GWHw8%2BGvhWy0XRNMhEVjp1hCEjiXv7lickscliSSSSTUvCZzWfsKtZKn1nFctSS7dYxfeUbt9FF3ZLwWe1v9nrV0qfWcE41ZL%2BXrGD7zjdv7MYu7PJ/2Rv2yrH48WmrfDr4reHh4M%2BJ/g5fL8beEL6QL5WAP9Mt2J/e2r5DBwTt3AEkFHfzn9l63n/bb/an1f8Abm8QQtJ4H8Gtc%2BHfg1azL8lwQSl9rAB7yMDGjf3QQQGjBr0D9s79gX4cftg21nrUnifUvCHi3T4JLO28X%2BH/AJbp7CVWS4spgCvnQvG7jaT8pc44Z1f134bfDzwl8JfAOj/DLwHpKWOjaFp8Vlp1qn8EUahRk/xMcZLHkkknk1FPB5lXxMKWMalSpPmUutSX2OaPRw1b6SlytJWaWdLA5riMVTo41qVKk%2BZS61JfY5o9HDWUvsynyySSTS26taP/AMfb/wDXrP8A%2BinqrVrR/wDj7f8A69Z//RT1772PpCrRRRTAhubCwvJIpryyhleCTfA0sYYxtjG5Sehx3FTUUUWQWR4t8Wf%2BCb/7HPx%2B%2BIJ%2BLXxI%2BEFtNrNsiy3z2NxJaxasRLHtF5HEVW5AOGy3J2gElRtr1/Q9C0Twxo9t4e8N6Pa6fp9lCsNnY2NusUMEajCoiKAqqB0AGBWpp/8Ax6X3/XqP/RsdVa5aODwmHqzqUqcYylu0km/Vpf1vvqctHA4LDVZ1aNOMZT1k0km/Vpa/099Qrk/jl8FPh/8AtEfCrWfg58T9HF7o2t2hhuEGA8TdUmjJB2yIwV1bsVHXpXWUVvUp061N06ivFqzT2ae6NqtKnXpSp1EnGSaaezT0aZ8LeD/24PjR%2ByBo99%2BxR8XvAGs%2BPPizpE0Vj8LJbK2fy/GOnShxbXU0vIi8kIVnZjn5OpIkcd78PP8Aglr8P/ir4V1f4oft%2BovxD%2BJHiS5t5NRvY9QuLa10KILKUsbAQuhjij7t/GRnHJz9RTaJo1xq0GvXGkWr31tE8VtevbqZYkcguiuRlVbauQDg7RnpWpD/AMgW4/6%2Bof8A0GWvDpZHCTUcZP20I6QjJaJd5b88kvdUntFKy5nKT8Chw9CTUcdP29OGlOMldRXeV7880vdUpbRSsuZyk/k%2BP/gkn8Abq9t9K8V/Ff4peIfB1tKJovh5rvjqebRxKp%2BVvLAWQgY4G/65HFfSHgjwH4J%2BGnhq28GfDzwlp2h6TZpttdN0qzSCGIeyIAMnuep71rUV6WFy3AYGTlQpqLfVb27Xbbt5JpeR6mDyrLsvk5Yekot7tb27Xbk7dkmkuiCq0ejaRDqsuvQ6VbLfTwrDNerAolkjUkqjPjJUFmIBOBuPrVmiuxpPc7mk9y1N/wAgW3/6%2Bpv/AEGKsfxN4Y8OeM9Au/Cni/QbPVNM1CBob7T9QtlmhuI26o6MCGB9CK2Jv%2BQLb/8AX1N/6DFVWlZSi01dMJRjJWaumeC/s9f8E4/2bv2Z/izf/F74d6fqs15Jata6DYavqRurbw7buzPNFYq43RLIzsWyzHlgCAzA%2B9UUVhhcHhcDS9nh4KEbt2Stq9/6%2BSskkubB4LB5fR9lhqahG7dkrK73f9dLJWSSRVrUP%2BPSx/69T/6NkqrVrUP%2BPSx/69T/AOjZK6HujqKtc/4K%2BFHww%2BG97qupfD74e6Lolzrl615rNxpWmRQPfXDElpZWRQZGJJOTnqfWugopOEJSUmk2tnbb07fKxEqdOUlJpNrZ2V1fe3b5WCu88Gf8i1bf8D/9DauDrvPBn/ItW3/A/wD0Nqzr/AaR3NSiiiuUsKKKKACiiigAooooAKKKKACiiigAooooAKKKKACiiigAooooAKKKKACuH/aM0z%2B2/hBrWjbc/a9PuYceu%2B3lX%2BtdxWB8R40l0FIpFBVrkBge42tTUVN8r66fema0K0sPXhVjvFp/c0/0Pkj/AIJR6n/a/wDwT0%2BGF1uzs0aaHP8A1zu54/8A2SvoavmD/gjpI8P/AAT98H6HKxL6VqWs2b565XVbpv5MK%2Bn6wyGTnkmFb/59w/8ASUv0PsvFGjGh4l51COyxeIt6OrOS/CSCiiivWPhC1N/yBbf/AK%2Bpv/QYqq1am/5Atv8A9fU3/oMVVaSAKKKKYBVrUP8Aj0sf%2BvU/%2BjZKq1a1D/j0sf8Ar1P/AKNkpPdAVaKKKYBRRRQBa1j/AI%2B0/wCvWD/0UlVatax/x9p/16wf%2BikqrSWwBRRRTAKta5/yGrz/AK%2BpP/QjVWrWuf8AIavP%2BvqT/wBCNLqBVooopgFWtD/5DVn/ANfUf/oQqrVrQ/8AkNWf/X1H/wChCk9mBVooopgFFFFAFrR/%2BPt/%2BvWf/wBFPVWrWj/8fb/9es//AKKeqtLqAUUUUwCrWn/8el9/16j/ANGx1Vq1p/8Ax6X3/XqP/RsdJ7AVaKKKYBXUfDb/AJff%2B2f/ALNXL11Hw2/5ff8Atn/7NWdX%2BGxrc6iiiiuMsK5r4zeIfEvhH4P%2BK/Ffgyz%2B0axpnhq%2Bu9Kt/L3%2Bbcx27vEu3%2BLLqox3zXS0UAfG/gDWviJpngH4oeC/hP8AtA6jcPN%2BzdoPijRfF/jPxbLeQ6Zrt9BrStfm6umkFtC4tLWcouIIRGXWMK5BxV8Q%2BJrv4afFbwxqVn8R9Fk8PeKtB0b4e2GtfF3Upr%2Bz1vWLaxtore8vdO1J3uIFubu3uTE9xLsiuCw8sERx/W3hb4B/AvwNDNb%2BCvgt4S0eO4mnmuE0vw5a24lkmQRzOwjjG5pEUKxPLKADkCpfDXwS%2BDHgzwpa%2BA/B/wAIvDGk6HY6jHqFlo2maBbQWlvdpIsqXCQogRJVkVXDgBgyhgcgGgDR8A%2BE18BeBdF8DJr%2BqasNF0m2sBqmt3z3V7eCGJY/OuJnJaaZ9u55GJLMSTyawfFtnby%2BILiSTVbeMnZlHWTI%2BRfRCP1rtK4Pxn/yMtz/AMA/9AWtqPxClsVf7PtP%2Bg5a/wDfEv8A8RXyvJa23xg/4K5LE2rW76Z8G/hYX80rIVh1bVZcY%2B7kZsxnp2r6er804/i54o1H4K/F/wCJPw0m8zxv%2B0t8ZpvBvw/kVjuOlwD7GlySOVWKE3ALjhGZDmvG4gxUMP7BS1Sk5tdWqaul6yqSpxXnY%2B04bxlPh/hXPuIKi/hYZUId3UxdSNKy/vOlCql/j7XPoT4n/tbfFD9pfx/ffs2/8E8r%2Bwuns5Ps/jH4yXcDyaN4e/vR22V/0y6x0CgoDjqNzJt/sQfGz4iaf448SfsTftS%2BMobr4h%2BCP9J0jxDcROg8W6G7Hyb%2BMBTl0yI5B1Bxkswcj1/4D/BfwZ%2Bzz8ItA%2BDngHT4oNO0HTYrZGjhVGuJFUB53x1kkbLse5Y15f8At2fs1%2BMvinoOi/HL4BSx2XxX%2BHF02o%2BD7okKNQjx%2B/02YkgNFOmVwSAGOMqrOaU8LmuHisfKo51VrKmvg5OsIR/mjvGT96Uk07KSS/IKmEzfDRWYyqOdVaypx%2BDkfxQhHrKPxRm/enKLTtGSS%2Bi/FL6NpdxqOsav4msbO2t3mmuprlnRIUUlmZ2KYAABJOcDHWvjj4C6LP8A8FD/ANpMftd%2BMbhYvhV8PdQms/hBpN5DKE1q/Rts%2BuOmzlQy7YdwyCoOFZG3Pf8AZy/aq/b01pvFX7dVzJ4B8BNdGa1%2BC3hjVGMt582QdUvEwXGf%2BWSY7H92wOfqjwr4W8N%2BB/Ddh4O8H6JbabpWmWiW2n6fZxCOK3hRQqoqjgAAAVrCFfOKkJ1IOFCLUkpaSnJfC3H7MIvVKWspWbSSSe6jiM7rwnUpuGHg%2BZKWkqkl8LlHeMIv3lGXvSlytxSik9n%2Bz7T/AKDlr/3xL/8AEUf2faf9By1/74l/%2BIqrRXvWfc%2BhNPR7G1TV7V11i2Yi5QhVWXJ%2BYccpiq39n2n/AEHLX/viX/4ijQ/%2BQ1Z/9fUf/oQqrSs77gWv7PtP%2Bg5a/wDfEv8A8RR/Z9p/0HLX/viX/wCIqrRTs%2B4Fr%2Bz7T/oOWv8A3xL/APEVZ0qxtVuWK6xbN/o0wwFl/wCeTc8p261mVa0f/j7f/r1n/wDRT0mnbcA/s%2B0/6Dlr/wB8S/8AxFH9n2n/AEHLX/viX/4iqtFOz7gWv7PtP%2Bg5a/8AfEv/AMRR/Z9p/wBBy1/74l/%2BIqrRRZ9wNOxsbVba8A1i2ObYAkLL8v71OT8n4cetVv7PtP8AoOWv/fEv/wARRp//AB6X3/XqP/RsdVaSTu9QLX9n2n/Qctf%2B%2BJf/AIij%2Bz7T/oOWv/fEv/xFVaKdn3Atf2faf9By1/74l/8AiKsxWNqNInT%2B2LYg3MRLbZcD5ZOPuZ//AFVmVah/5Atx/wBfUP8A6DLSafcA/s%2B0/wCg5a/98S//ABFH9n2n/Qctf%2B%2BJf/iKq0U7PuBa/s%2B0/wCg5a/98S//ABFH9n2n/Qctf%2B%2BJf/iKq0UWfcDTlsbU6RAn9sWwAuZSG2y4Pyx8fcz/APrqt/Z9p/0HLX/viX/4iib/AJAtv/19Tf8AoMVVaST7gWv7PtP%2Bg5a/98S//EUf2faf9By1/wC%2BJf8A4iqtFOz7gWv7PtP%2Bg5a/98S//EVZvrG1a2swdYthi2IBKy/N%2B9fkfJ%2BHPpWZVrUP%2BPSx/wCvU/8Ao2Sk07rUA/s%2B0/6Dlr/3xL/8RR/Z9p/0HLX/AL4l/wDiKq0U7PuBa/s%2B0/6Dlr/3xL/8RXa%2BEo0i8P28cc6SAb8OgOD87eoB/SuArvPBn/ItW3/A/wD0NqxrX5So7mpRRRXMUFFFFABRRRQAUUUUAFFFFABRRRQAUUUUAFFFFABRRRQAV83f8FUdQ%2BEOm/sp3F98WvGGm6ULXxFpdzoa6prwso7i8jvIiBsMiLcFIzJII2DBTGJMBo1ZfpGigD4z/b71/wDZ88b6x4K%2BP7/FH4M69ZaD4J8VJoGk/EDQ11zSvEFzK2kXCw2kscyxJeEWoRApkmZblmjhlCuB5b8Ub258JeKvidrPwS0DwLqnxX%2BIVj4hlt/D9h4SaHx14IuW8GPLbym7L7zbLcWsFsMQpGz30eyZmPlN%2Bj1FAHzd%2Bw0fg0fid8RT%2BysmkL8LP7N8PDSv%2BEbCjTv7Z8i5%2B3eXs%2BXzfs/9mebj5t4O/wCfdXu/jtbVtIjF3NIi/aRgxxhjna3YkVtVg/EP/kCxf9fS/wDoLVdP40J7Hxr/AMEk49Ltf2cvEvhye8uEOjfFbxHZBEtlYALdlu7j%2B/0r6i8nRf8AoIXX/gGv/wAcr5V/4Jh/6DZ/Hbw03H9m/tG%2BJ441/wCmbG3ZT%2Bpr6grkyBf8I1Fdk190pr9D77xV18RMxn/POM//AAZRw1T/ANvLXk6L/wBBC6/8A1/%2BOUeTov8A0ELr/wAA1/8AjlVaK9e3mfnxpyxaR/ZEAN9c7ftMuD9lXJO2PPG/6VW8nRf%2Bghdf%2BAa//HKJv%2BQLb/8AX1N/6DFVWkkBa8nRf%2Bghdf8AgGv/AMco8nRf%2Bghdf%2BAa/wDxyqtFO3mBa8nRf%2Bghdf8AgGv/AMcqzfRaQbaz331yALY7SLVTkea/X5%2BOc1mVa1D/AI9LH/r1P/o2Sk1qgDydF/6CF1/4Br/8co8nRf8AoIXX/gGv/wAcqrRTt5gWvJ0X/oIXX/gGv/xyjydF/wCghdf%2BAa//AByqtFFvMDT1WLSDcr5l9cg/ZoeBaqePKXH8fpVbydF/6CF1/wCAa/8AxyjWP%2BPtP%2BvWD/0UlVaSWgFrydF/6CF1/wCAa/8AxyjydF/6CF1/4Br/APHKq0U7eYFrydF/6CF1/wCAa/8AxyrOsRaQdXujLfXIb7S%2B4LaqQDuPfeM1mVa1z/kNXn/X1J/6EaVtQDydF/6CF1/4Br/8co8nRf8AoIXX/gGv/wAcqrRTt5gWvJ0X/oIXX/gGv/xyrOjxaQNXtTFfXJb7Sm0NaqATuHU7zisyrWh/8hqz/wCvqP8A9CFJrRgHk6L/ANBC6/8AANf/AI5R5Oi/9BC6/wDANf8A45VWinbzAteTov8A0ELr/wAA1/8AjlHk6L/0ELr/AMA1/wDjlVaKLeYGnpUWkC5by765J%2BzTcNaqOPKbP8fpVbydF/6CF1/4Br/8co0f/j7f/r1n/wDRT1VpW1AteTov/QQuv/ANf/jlHk6L/wBBC6/8A1/%2BOVVop28wLXk6L/0ELr/wDX/45Vmxi0gW15svrkg2w3E2qjA81Onz884rMq1p/wDx6X3/AF6j/wBGx0mtADydF/6CF1/4Br/8co8nRf8AoIXX/gGv/wAcqrRTt5gWvJ0X/oIXX/gGv/xyuj8AJZJ9r%2Bx3Esn%2Br3ebCEx97phjmuSrqPht/wAvv/bP/wBmrOqvcY1udRRRRXIWFFFFABRRRQAVwfjP/kZbn/gH/oC13lcH4z/5GW5/4B/6AtbUPjJlseI/t1/Gt/2e/wBkfx38U7O4MV/Z6FJb6Oyn5vt1wRb25A6kiWVGwOymvlv/AIJo/BVPFnxnsNYurcP4Z/Z88Ljwh4eGMxT%2BJ7pfP1u7T3SSV4fQqyHqKn/4LZ/FLxlf6n8JP2WvhPYtf%2BJfE3ixNWg0%2BIA75LciKzWQMCDE08rO2eMW5yQBmvq/9kr9nbQ/2V/gDoHwX0e8N5Np1uZdX1N877%2B/lYyXFwxPJ3SM2M5IUKM8V8zKEs24qlG37vDqN%2Bzm/fS%2BT5ZP/DE93PcTRjwrl2RUndzqyx2It05Yuhgqb87fWcTbonTf2lf0iiiivsDwC1rn/IavP%2BvqT/0I1Vq1rn/IavP%2BvqT/ANCNVaS2QBRRRTAtaH/yGrP/AK%2Bo/wD0IVVq1of/ACGrP/r6j/8AQhVWl1AKKKKYBVrR/wDj7f8A69Z//RT1Vq1o/wDx9v8A9es//op6T2Aq0UUUwCiiigC1p/8Ax6X3/XqP/RsdVataf/x6X3/XqP8A0bHVWkt2AUUUUwCrUP8AyBbj/r6h/wDQZaq1ah/5Atx/19Q/%2Bgy0mBVooopgFFFFAFqb/kC2/wD19Tf%2BgxVVq1N/yBbf/r6m/wDQYqq0kAUUUUwCrWof8elj/wBep/8ARslVatah/wAelj/16n/0bJSe6Aq0UUUwCu88Gf8AItW3/A//AENq4Ou88Gf8i1bf8D/9Dasa/wAA47mpRRRXKWFFFFABRRRQAUUUUAFFFFABRRRQAUUUUAFFFFABRRRQAUUV5z%2B1J8dPEH7O3wvHxI0H4YzeKBHq9na30CatHZx2dvNMsbXMjurMQu4BUjR2Z3QHYm%2BRAD0aivFf2m/2s7v4A/E/wZ8MbLTPA6yeLtH1e/XVvH3xCPh6zgNjPpsIt0kFnc%2BdNK2ogqmFwIW65wM746/thfEP4BeJJovFvwEtm0K4j1aPw/fp4vU3uozWGhXOrSTNapbMILJvsstsJ2lMiytFugCyKaAPe6wfiH/yBYv%2Bvpf/AEFq5P8AZd%2BO9/8AtDfD9vHd0fAxQyoiL4F8enX4omMSu0U8ptLbyZl3gGPa2Bg5GcV1nxD/AOQLF/19L/6C1XT%2BNCex8W/8E/f%2BJd8c/wBpTw508r4xS3u3/r4to2z%2BO2vqCvl/9jr/AIlv7eH7U3hvp5WveGL3b/18aY7Z/wDHa%2BoK5Mi0y7l7TqL7qtQ%2B98T/AHuLnV/5%2BUMHP/wLBYV/oFFFFewfn5am/wCQLb/9fU3/AKDFVWrU3/IFt/8Ar6m/9BiqrSQBRRRTAKtah/x6WP8A16n/ANGyVVq1qH/HpY/9ep/9GyUnugKtFFFMAooooAtax/x9p/16wf8AopKq1a1j/j7T/r1g/wDRSVVpLYAooopgFWtc/wCQ1ef9fUn/AKEaq1a1z/kNXn/X1J/6EaXUCrRRRTAKtaH/AMhqz/6%2Bo/8A0IVVq1of/Ias/wDr6j/9CFJ7MCrRRRTAKKKKALWj/wDH2/8A16z/APop6q1a0f8A4%2B3/AOvWf/0U9VaXUAooopgFWtP/AOPS%2B/69R/6NjqrVrT/%2BPS%2B/69R/6NjpPYCrRRRTAK6j4bf8vv8A2z/9mrl66j4bf8vv/bP/ANmrOr/DY1udRRRRXGWFc18ZvEPiXwj8H/FfivwZZ/aNY0zw1fXelW/l7/NuY7d3iXb/ABZdVGO%2Ba6WigD438Aa18RNM8A/FDwX8J/2gdRuHm/Zu0HxRovi/xn4tlvIdM12%2Bg1pWvzdXTSC2hcWlrOUXEEIjLrGFcg8E/jr9obxD8Th%2Bzj4U8N%2BNbDw4fHW3%2BzPFHxourfUklXwx9tbTZtdspry4jQvi9WOKWViNgYpCzxp9s%2BFvgH8C/A0M1v4K%2BC3hLR47iaea4TS/DlrbiWSZBHM7COMbmkRQrE8soAOQKqj9mn9nIfDofB8fADwT/wAIkt19qXwt/wAIrZ/2cJ85837N5flb887tuc96AHfs3ePtN%2BKv7PHgP4naNPqstp4i8G6ZqVrLrrxtevHPaxyq1w0QCNKQwLsgClsleCKTxfa2ra/czTatbw8KWWRZMr8g64Uj9a7Gzs7TT7SKwsLWOCCCNY4YYUCpGijAVQOAAAAAOleGftr%2BNm%2BGvwO%2BJXxAilCSaN4L1C8gOcZkjsnZAPcsAB9aftI0ac6ktopv7k3%2BhjiKsaFCVWW0U2/RJv8AQ%2BSf2C20P9uf9t74k/t%2BanNG2geE3Twf8L/tUbkCJEZri6XCZVmWTeAeQL6RT90Gvuf%2Bz7T/AKDlr/3xL/8AEV8sf8EdfA9p4I/4J5eAvKs1iuNXS91O9dRzK8t5NsY%2B/krEv0UV9O1w8O0ZwyinVqP36v7yT7yn734LlS7JJE0sKsLBRldzcYObe7m6dNy9Em%2BWC%2BzCMY7qV7X9n2n/AEHLX/viX/4ij%2Bz7T/oOWv8A3xL/APEVVor3LPuaGnrFjavq907axbKTcuSrLLkfMeDhMVW/s%2B0/6Dlr/wB8S/8AxFGuf8hq8/6%2BpP8A0I1VpJOy1Atf2faf9By1/wC%2BJf8A4ij%2Bz7T/AKDlr/3xL/8AEVVop2fcDT0extU1e1ddYtmIuUIVVlyfmHHKYqt/Z9p/0HLX/viX/wCIo0P/AJDVn/19R/8AoQqrSs77gWv7PtP%2Bg5a/98S//EUf2faf9By1/wC%2BJf8A4iqtFOz7gWv7PtP%2Bg5a/98S//EVZ0qxtVuWK6xbN/o0wwFl/55NzynbrWZVrR/8Aj7f/AK9Z/wD0U9Jp23AP7PtP%2Bg5a/wDfEv8A8RR/Z9p/0HLX/viX/wCIqrRTs%2B4Fr%2Bz7T/oOWv8A3xL/APEUf2faf9By1/74l/8AiKq0UWfcDTsbG1W2vANYtjm2AJCy/L%2B9Tk/J%2BHHrVb%2Bz7T/oOWv/AHxL/wDEUaf/AMel9/16j/0bHVWkk7vUC1/Z9p/0HLX/AL4l/wDiKP7PtP8AoOWv/fEv/wARVWinZ9wLX9n2n/Qctf8AviX/AOIqzFY2o0idP7YtiDcxEttlwPlk4%2B5n/wDVWZVqH/kC3H/X1D/6DLSafcA/s%2B0/6Dlr/wB8S/8AxFH9n2n/AEHLX/viX/4iqtFOz7gWv7PtP%2Bg5a/8AfEv/AMRR/Z9p/wBBy1/74l/%2BIqrRRZ9wNOWxtTpECf2xbAC5lIbbLg/LHx9zP/66rf2faf8AQctf%2B%2BJf/iKJv%2BQLb/8AX1N/6DFVWkk%2B4Fr%2Bz7T/AKDlr/3xL/8AEUf2faf9By1/74l/%2BIqrRTs%2B4Fr%2Bz7T/AKDlr/3xL/8AEVZvrG1a2swdYthi2IBKy/N%2B9fkfJ%2BHPpWZVrUP%2BPSx/69T/AOjZKTTutQD%2Bz7T/AKDlr/3xL/8AEUf2faf9By1/74l/%2BIqrRTs%2B4Fr%2Bz7T/AKDlr/3xL/8AEV2vhKNIvD9vHHOkgG/DoDg/O3qAf0rgK7zwZ/yLVt/wP/0NqxrX5So7mpRRRXMUFFFFABRRRQAUUUUAFFFFABRRRQAUUUUAFFFFABRRRQAV5r%2B1d8F/H37QPwjufhb4D%2BI2j%2BGWv7u3kvr/AFfwxLqgaOGZJlSOOO8tdjF40yxZhtyNuSCPSqKAPHvjB8B/jx8XPBKeGbr42%2BEbO5vdB1LRvEMrfDM3FvdWt7HEjvBHJfmW3mXy3xumlhYSYkhkKIwwfDP7IHxS8MfEvXPF0Pxz0O806/8ADq%2BHtC/tPwLJdaroGlJZpCltbXMt%2B1sd1wgupmezb7Q%2BFkBSOIR%2B/wBFAHmXwI%2BBPiv4a%2BLvFHxK%2BInjzStd8QeKLfTbS6fw/wCGW0ixhtrGKVIQtu1zcsZSZpS0hkOVEaBVWMZ7Px3dXVnpEctpcyRMbkAtG5U42txxW1XzH%2B3Z8cvG/wABPj58DtZuLt4/h/4o1vU/C3isl/3UWo3kds%2BlysOxD29wm4kBVlk9axr4mnhIKrU%2BG8U/K7UbvyTav5HJjcXSwOH9tU%2BG8U/Lmko3fkm1fsjzP9nzVdU0f/gqV%2B0NbpqVwj6z4Z8J3rsJmBfyrSSEEnPOM4r6i/tzWv8AoMXX/gQ3%2BNfKXhG4h8Of8FffF%2BlXsohbxH8FtPu7JZPl%2B0GC%2BaJtmfvFRnIHQA%2BlfUdRkqSo1o9qtVf%2BT3/9uP0jxGTlmWAr9KmBwT9bUHT/ADpW9VYtf25rX/QYuv8AwIb/ABo/tzWv%2Bgxdf%2BBDf41Vor2LLsfnxpy6xq40iCUarc7jcygt57ZICx4HX3P51W/tzWv%2Bgxdf%2BBDf40Tf8gW3/wCvqb/0GKqtJJdgLX9ua1/0GLr/AMCG/wAaP7c1r/oMXX/gQ3%2BNVaKdl2Atf25rX/QYuv8AwIb/ABqzfaxq6W1myarcgtbEsRO3J81xk8%2BgH5VmVa1D/j0sf%2BvU/wDo2Sk0rrQA/tzWv%2Bgxdf8AgQ3%2BNH9ua1/0GLr/AMCG/wAaq0U7LsBa/tzWv%2Bgxdf8AgQ3%2BNH9ua1/0GLr/AMCG/wAaq0UWXYDT1XWNXjuVWPVblQbaE4E7DkxKSevrVb%2B3Na/6DF1/4EN/jRrH/H2n/XrB/wCikqrSSVtgLX9ua1/0GLr/AMCG/wAaP7c1r/oMXX/gQ3%2BNVaKdl2Atf25rX/QYuv8AwIb/ABqzrGsavFq91FFqtyqrcuFVZ2AA3HjrWZVrXP8AkNXn/X1J/wChGlZX2AP7c1r/AKDF1/4EN/jR/bmtf9Bi6/8AAhv8aq0U7LsBa/tzWv8AoMXX/gQ3%2BNWdH1jV5dXtYpdVuWVrlAytOxBG4cHmsyrWh/8AIas/%2BvqP/wBCFJpWegB/bmtf9Bi6/wDAhv8AGj%2B3Na/6DF1/4EN/jVWinZdgLX9ua1/0GLr/AMCG/wAaP7c1r/oMXX/gQ3%2BNVaKLLsBp6VrGryXLLJqtywFtMcNOx5ETEHr61W/tzWv%2Bgxdf%2BBDf40aP/wAfb/8AXrP/AOinqrSsr7AWv7c1r/oMXX/gQ3%2BNH9ua1/0GLr/wIb/GqtFOy7AWv7c1r/oMXX/gQ3%2BNWbHWNXe2vGfVbklbYFSZ24PmoMjn0J/OsyrWn/8AHpff9eo/9Gx0mlbYA/tzWv8AoMXX/gQ3%2BNH9ua1/0GLr/wACG/xqrRTsuwFr%2B3Na/wCgxdf%2BBDf410fgC%2Bvb37X9svJZdvl7fNkLYzu6Zrkq6j4bf8vv/bP/ANmrOqlyMa3OoooorkLCiiigAooooAK%2BKv8Agtv42Pgj9hb4kzwzbZ9TgsNNgGcbvPubdJB/368w/hX2rX5of8HHXiu4tfgD4a%2BHOnEm68RePLYiIHmSOGzlyv8A38kh/KvI4gxH1bIcVUW/s5L5ytH/ANuObFYGpmtOOX03aWIlTorydapSo3%2BXtW/kz6P/AGJfC/8Awhn7Hnwu8NNHsktvAOk%2BevpK1pG8n/j7NXqFUPC2hW/hfwzp3hq0A8rTrCG1ix02xoEH6Cr9fQYWl9Xw1Ol/LGK%2B5JfoenmmJp4zNK%2BIpq0ZznJLspTm0vknFeiQUUUVucJa1z/kNXn/AF9Sf%2BhGqtWtc/5DV5/19Sf%2BhGqtJbIAooopgWtD/wCQ1Z/9fUf/AKEKq1a0P/kNWf8A19R/%2BhCqtLqAUUUUwCrWj/8AH2//AF6z/wDop6q1a0f/AI%2B3/wCvWf8A9FPSewFWiiimAUUUUAWtP/49L7/r1H/o2OqtWtP/AOPS%2B/69R/6NjqrSW7AKKKKYBVqH/kC3H/X1D/6DLVWrUP8AyBbj/r6h/wDQZaTAq0UUUwCiiigC1N/yBbf/AK%2Bpv/QYqq1am/5Atv8A9fU3/oMVVaSAKKKKYBVrUP8Aj0sf%2BvU/%2BjZKq1a1D/j0sf8Ar1P/AKNkpPdAVaKKKYBXeeDP%2BRatv%2BB/%2BhtXB13ngz/kWrb/AIH/AOhtWNf4Bx3NSiiiuUsKKKKACiiigAooooAKKKKACiiigAooooAKKKKACiiigArL8X%2BN/Bfw90b/AISPx94v0vQ9P%2B0Q2/2/WNQjtofNlkWOKPfIwXc7sqKucszADJIFaleBf8FIrHRdT/ZsuLS5%2BHGs%2BJdWXWbGbw/BoPgu91q5tbhLhDJMi2kErwEW5nXzSFG12Td8%2B0gHqXxL%2BO3wQ%2BC8thD8YvjJ4U8JvqiynTE8TeIrawN2ItnmmITuvmbPMj3bc7fMXONwzYg%2BMHwluvHc/wALrb4o%2BHJPE1tYi9ufDsetwG/itiqsJmtw/mLHh1O8rjDA55FeA/tYeIL3XtU8MfH74S33xc0fxDpXgrxJp3hmTw98KJ7xbm5um0u4SzvrW8snnt1kksodsjRwphJla4hYLu8Y%2BNHwa/aP%2BKnw48RfBDTvhVrNj8Sb/wAYeL/EV3rcGmTppYh1HwbqdlbeVqRXyJWFxfWdkIhIZV%2BzlygSIPQB91fDz4p/DH4u6JJ4m%2BE/xH0HxPpsVy1vLqHh3WIL2BJlCs0ZkhZlDgMpK5yAwPcV5b/wUW/Z%2Bh/ae/ZM8TfB%2BIiPUb2ET6Bc7tpt9RgDS2zhuq/vUUEjnazDvTP2XTc%2BLPjT8Qvi9oPw817wx4X1bRPDmmaXp/iHw5caTPJd2cN2bmQW1wiOEWO5tLcSbdrG1IQsqA16z47a1XSIzdwyOv2kYEcgU52t3INRUoUsVTlRqK8ZJp%2BjTRhisPSxeGnQqq8Zpp%2BjVn/Xex%2BZ/wARPip4m%2BMX7IPwr/4KU%2BD9Mkfx98G78/8ACb6bGmya4tUItdZtXXjbkDzxu%2B4hY9TX3R4O8W%2BH/H3hLS/HPhPUkvNL1nT4b3TruM/LNBKgdHH1Vga%2BR/Fl1e/sC/Hz4oa94t%2BAvifxT8CPipOmr6jceGo47z/hHtRliaLUDc24G8wTcOzhQANqjcQRR/wSC/aL%2BFWq6J4u/ZI8PePF8R2fgXV5brwFqcd9tkv/AA5cuZIAVkj3%2BZAzmOQEDYXRcDFfP5XjvqmaLDV5WqVFyyT0bqU9FNXtdVaaTurrmjZ6n1uTZnT4p8Oll%2BKqL%2B0cpb916TqYSpO0pRTs5xo1%2BWr7vNy08TO/Kou32VRVrztF/wCgfdf%2BBi//ABujztF/6B91/wCBi/8Axuvsr%2BR8qE3/ACBbf/r6m/8AQYqq1pyy6R/ZEBNjc7ftMuB9qXIO2PPOz6VW87Rf%2Bgfdf%2BBi/wDxukmBVoq152i/9A%2B6/wDAxf8A43R52i/9A%2B6/8DF/%2BN07%2BQFWrWof8elj/wBep/8ARslHnaL/ANA%2B6/8AAxf/AI3Vm%2Bl0gW1nvsbkg2x2gXSjA81%2Bvyc85pN6oDMoq152i/8AQPuv/Axf/jdHnaL/ANA%2B6/8AAxf/AI3Tv5AVaKtedov/AED7r/wMX/43R52i/wDQPuv/AAMX/wCN0X8gDWP%2BPtP%2BvWD/ANFJVWtPVZdIFyvmWNyT9mh5F0o48pcfwelVvO0X/oH3X/gYv/xuknoBVoq152i/9A%2B6/wDAxf8A43R52i/9A%2B6/8DF/%2BN07%2BQFWrWuf8hq8/wCvqT/0I0edov8A0D7r/wADF/8AjdWdYl0gavdCWxuS32l9xW6UAnce2w4pX1AzKKtedov/AED7r/wMX/43R52i/wDQPuv/AAMX/wCN07%2BQFWrWh/8AIas/%2BvqP/wBCFHnaL/0D7r/wMX/43VnR5dIOr2oisbkN9pTaWulIB3DqNgzSb0YGZRVrztF/6B91/wCBi/8AxujztF/6B91/4GL/APG6d/ICrRVrztF/6B91/wCBi/8AxujztF/6B91/4GL/APG6L%2BQBo/8Ax9v/ANes/wD6KeqtaelS6QblvLsbkH7NNy10p48ps/welVvO0X/oH3X/AIGL/wDG6V9QKtFWvO0X/oH3X/gYv/xujztF/wCgfdf%2BBi//ABunfyAq1a0//j0vv%2BvUf%2BjY6PO0X/oH3X/gYv8A8bqzYy6Qba82WNyALYbgbpTkeanT5OOcUm9AMyirXnaL/wBA%2B6/8DF/%2BN0edov8A0D7r/wADF/8AjdO/kBVrqPht/wAvv/bP/wBmrB87Rf8AoH3X/gYv/wAbro/AD2T/AGv7Hbyx/wCr3ebMHz97phRis6r9xjW50dFFFchYVzXxm8Q%2BJfCPwf8AFfivwZZ/aNY0zw1fXelW/l7/ADbmO3d4l2/xZdVGO%2Ba6WigD438Aa18RNM8A/FDwX8J/2gdRuHm/Zu0HxRovi/xn4tlvIdM12%2Bg1pWvzdXTSC2hcWlrOUXEEIjLrGFcg8jpkfx8%2BIXxBuvhh4STxPpujeFfHKTf8Ih40/aDv9P1S5SXwyZZrR9V064u551jnkt7sQiWYKtwrMY1ISP7K8LfAP4F%2BBoZrfwV8FvCWjx3E081wml%2BHLW3EskyCOZ2EcY3NIihWJ5ZQAcgVRl/Zd/Znn8AwfCif9nbwK/ha1vTeWvhp/CNkdPhuSGBmW38ry1kIZgXC5%2BY88mgCz%2Bzz8Q9A%2BLfwE8E/FPwpY6jbaZ4j8J6fqWnW2r3bXF1FBPbRyIs0ru7SyBWAaQu285bc2cn83v8Agt9cw/EL9vj9nX4E/a1P2jxBbzzwgNhRd39lbhn46BYJDxngmv1OtLS1sLWKxsbaOGCGNY4YYkCpGgGAqgcAADAAr8mv2ub61%2BLH/Bwj4L8HM4km8KR6REiZzsWGwudUb9ZUNfNcVS5suhQ/5%2B1aUflzpv8ABHscM0vbcXZbHpCt7V%2BmHo4nEt%2BidGm2fpH/AGfaf9By1/74l/8AiKP7PtP%2Bg5a/98S//EVVor7Sz7nhlr%2Bz7T/oOWv/AHxL/wDEUf2faf8AQctf%2B%2BJf/iKq0UWfcDT1ixtX1e6dtYtlJuXJVllyPmPBwmKrf2faf9By1/74l/8AiKNc/wCQ1ef9fUn/AKEaq0knZagWv7PtP%2Bg5a/8AfEv/AMRR/Z9p/wBBy1/74l/%2BIqrRTs%2B4Gno9japq9q66xbMRcoQqrLk/MOOUxVb%2Bz7T/AKDlr/3xL/8AEUaH/wAhqz/6%2Bo//AEIVVpWd9wLX9n2n/Qctf%2B%2BJf/iKP7PtP%2Bg5a/8AfEv/AMRVWinZ9wLX9n2n/Qctf%2B%2BJf/iKs6VY2q3LFdYtm/0aYYCy/wDPJueU7dazKtaP/wAfb/8AXrP/AOinpNO24B/Z9p/0HLX/AL4l/wDiKP7PtP8AoOWv/fEv/wARVWinZ9wLX9n2n/Qctf8AviX/AOIo/s%2B0/wCg5a/98S//ABFVaKLPuBp2NjarbXgGsWxzbAEhZfl/epyfk/Dj1qt/Z9p/0HLX/viX/wCIo0//AI9L7/r1H/o2OqtJJ3eoFr%2Bz7T/oOWv/AHxL/wDEUf2faf8AQctf%2B%2BJf/iKq0U7PuBa/s%2B0/6Dlr/wB8S/8AxFWYrG1GkTp/bFsQbmIltsuB8snH3M//AKqzKtQ/8gW4/wCvqH/0GWk0%2B4B/Z9p/0HLX/viX/wCIo/s%2B0/6Dlr/3xL/8RVWinZ9wLX9n2n/Qctf%2B%2BJf/AIij%2Bz7T/oOWv/fEv/xFVaKLPuBpy2NqdIgT%2B2LYAXMpDbZcH5Y%2BPuZ//XVb%2Bz7T/oOWv/fEv/xFE3/IFt/%2Bvqb/ANBiqrSSfcC1/Z9p/wBBy1/74l/%2BIo/s%2B0/6Dlr/AN8S/wDxFVaKdn3Atf2faf8AQctf%2B%2BJf/iKs31jatbWYOsWwxbEAlZfm/evyPk/Dn0rMq1qH/HpY/wDXqf8A0bJSad1qAf2faf8AQctf%2B%2BJf/iKP7PtP%2Bg5a/wDfEv8A8RVWinZ9wLX9n2n/AEHLX/viX/4iu18JRpF4ft4450kA34dAcH529QD%2BlcBXeeDP%2BRatv%2BB/%2BhtWNa/KVHc1KKKK5igooooAKKKKACiiigAooooAKKKKACiiigAooooAKKKKACiiigAooooAKwfiH/yBYv8Ar6X/ANBat6sH4h/8gWL/AK%2Bl/wDQWq6fxoT2ONr5P/bE/wCCdEPijxDa/tP/ALGjWXgb4v8AhydryyuNPiS3tNeODvt7lAAm9wWXzCMMGKSZUhk%2BsKKMfl%2BFzGh7KvG/VPZxfSUXumnqmvndaHLXw9KvyuWkou8ZJ2lF94yWqerWm6bTUotxfzN%2BzJ/wU/8AgF8V/CzaN8dfF2j/AAy%2BIGj3Taf4p8JeLNSSwMN4h2uYWuGXfGSDgZ3qcq2cBm9D%2BK37cf7JHwX8LJ4v8efH7w1HazKTaRadqSXtxdY7RQ25d5OcDIGBkZIrz/8Aba/4Jm/B/wDa0v1%2BJujxWXh34hWaobTxBJpcV3bX2wYSK%2BtZVMdzHgBQxG9QByyrsPjX7PXi79l79jz4kQ%2BGf2w/2PvDHwm8dGYQab8Q9O0Uz%2BHdWI6S2l0wYWLEcsh27Rjcy52j52ePz3L6iw%2BKdNR2jWkp2f8AiUfdjPybjGT1Uvsn0mC4H4rz3LPb5BXo4qrG/tKPLUjioJfbjRT5MTG27w8uaL%2BOjFar1f8A4eveDNJ0qDxN8Sv2WPjB4V8DT3Erad481bwa7WcibYwXlSMtJCnAKnDbgc4Fe2/Bz9pX4A/tBaaNU%2BC/xe0HxGmze8GnagjTxD/ppCSJIz7OoNdxp2r6N4j8H2GtaFqlrf2N3LLJbXdpOssU0ZSLDKykhlI7g4rw34w/8E4P2NPjXqLeIvEXwWsNL1vzPMj8QeFnfS71Jf8Anrvtigd/dw1erGnndBc0KkKy7SXI/lKHNG3a8fmz4ieH4jwU2vaQq23jOLpST6pOPMlZ6WlC62bPcaK%2BV/8AhkX9uT4G/v8A9l79uC68Q6fD/qfCnxl0/wDtKNgOi/b4QLhFHQBVHHfipYf2gf8AgqZpqf2Xqf8AwT48L6ncw/LLqum/Fa1gtbg/344pVMiL7Mc1SzaVLTEYepB%2BUfaJ%2Bkqd/wAVESzmVL3cThqsH5R9on6Sp3/GMT6jq1qH/HpY/wDXqf8A0bJXymfix/wVm8THydD/AGTPhj4Ybp53iTx3JeoPfFooOKff/Fn/AIKyfCeG11P4m/szfDT4j6c1uXMfwy8S3FhdWsfmPkFNRB84g7sKnJGOc0POaKabo1eXv7KVv/kvuiw/t2gtXRrcvf2U7L/277os%2Bn6K%2BW1/4KEfHfxOv2D4Z/8ABNL4wXeop8k8Xii3t9FtlkHULcSs6uuf48AH0pj/ALfn7Q3wrY3H7VH/AAT58ceHdNb5hrXgnUbfxJb26HnM4t9piC9CeckcDkUf29lm/NK3f2dTlXq%2BSyD/AFiyrfmly/zezq8q9ZezSX3fM%2Bp6K%2BcdE/4K2/8ABPLXI0aP9pGwtZGHzwajpN7bvGe6t5kAAI6Hmt%2B3/wCCk/7BlyAY/wBqvwcM/wDPTVAn/oQFbQznJ5q8cTTf/b8f/kjaGe5JUV44qm/%2B34f/ACR7zrH/AB9p/wBesH/opKq15Hf/APBRL9hS7uVaD9rTwER9nhXLeI4ByI1BHLeorG17/gpr%2BwN4cBOoftUeFJMdfsF411/6IV80/wC1sqjG7xEP/A4//JFyznJ4q7xNO3%2BOH/yR7rRXzJc/8Fjv%2BCb9qdrftIRu3ZYfC2rPn/vm1Nb/AIJ/4KifsA%2BP2VNE/ah8OWzMcbdcaXTcH3%2B1pGBUQzzJakuWOJpt/wCOP%2BZlDiDIak%2BWOLpt/wDXyH/yR75VrXP%2BQ1ef9fUn/oRr5u8e/wDBVH9iDwTqX/CO6T8X18XauxIg0jwNp02rSzkdkeBTET9XFZmq/wDBTu51rVLmXwn/AME/v2jr0STuyST/AA3FvGcseNzz8flUzzzKIT5fbRbX8t5f%2BkRn%2BYp8QZJCTj7eLa/lvP8A9IjNfifTVFfL3/DzqLTPl8YfsH/tFaVj70zfDbzoR/wNJufyp1v/AMFgf2HbOUWnjzxp4i8I3RBxaeJ/BWowSZHUfJC65/Gl/b%2BTL4q8Y/4rx/8ASoxJ/wBY8iXxYiMf8XND/wBLjH8z6fq1of8AyGrP/r6j/wDQhXx8v7R/7an7Zz%2BT%2Bxr4BT4beCHOV%2BKXxC00PdX6dmsNOYHcp4xJLlWUn7jDFXNB/bs%2BOH7JmuWeg/8ABRf4QNY6PDdRrD8XPAdpNfaNOoYYa5gRTNaOfTadzE7UAGazefYK3O1JU%2BlRxag/nul/ecVF9JdSFxFgL88lNUulVwapv/t7dLtJxUH0l1Pquivl3/h7n%2By1q/zfDfwv8SPGUfaXwx8Pr2VSPX96sfFWNM/4K9fsLveLpXjL4iax4Tvm6WXinwlqFq49csIWQfi1aLP8kb/3iHrey%2B9pL8S1xHkDf%2B9Q9eay%2B9pRfykfTVFeUeGv27P2LvF1q15of7VPgB1VC7pceKrWB1UDJJSV1YAepFcR4y/4Kz/sB%2BDNTOkP8e7fVpkOZz4c0q71COGMfelaWCJk2L1JDE46A1vUzfKqUFOeIgk/78f/AJJm9TOsno01OeJppPrzx/ST/I%2BmNH/4%2B3/69Z//AEU9Va5j4EftCfA/4/2D6/8ABj4q6H4ktlspmlGl36SSQZibiWPO%2BI%2BzqD7VzPxW/bO/ZQ%2BCEcv/AAtH9oPwrpU8APmWDavHLd8dcW8RaVvwU1s8bg4UvbSqxUH9rmjb772/E6ZY7Aww6ryqxUH9rmjy/fe34nptFfLB/wCCoum%2BMM6t8AP2Qvi/4/0CD57vxHpXhRre2ki9bYTlXuH77NqnBrY8K/8ABV/9iHW4LmDxb8ULnwXqlim6/wBA8baNcafe2/8AslGQq7f7KMxrjjn2Tylb28V2bvFP0lJRi/k2cEOIsjnK31iK7N3in/hlKMYy%2BUmfR9WtP/49L7/r1H/o2OvlSf8A4K/fsb3Ezz%2BEbvxl4j0yBiL3XdC8DX0tnagcFpHeNWxnjKqa7v4Zf8FKP2DviRpd5c%2BH/wBqjwhbF7VQsOvamNLlJ82M7Ql4ImJ4PAHY04Z3k9aXLDEQb/xL8L2T%2BTZdLP8AI60%2BSGJpt/40r%2Bl2k/k2ezUV51qv7X/7KGiaJL4j1L9pfwFHYwjL3A8W2bL7AbZCWJ7AZJ7V5Ne/8Fc/2RZr%2BWPwOvjXxbp9qxW%2B1zwv4IvLmytm9HkZFJ%2Bqhh71rWzbK8Pb2leCv/eTf3Jyf4W8y6%2BdZRhbe1xEFfb3k39ycn87W8z6erqPht/y%2B/8AbP8A9mr48t/%2BCxP/AATwaB21T48y6bPEcTWWoeFNUjmjPoV%2BzHP4Zr3P9iX9sr9nn9rj/hJn%2BAXjS41qLQPsX9pTS6Ld2iL5/n%2BXt%2B0RR78%2BTJnbnGBnGRWUc3yrFP2VGvCUnslJN/ctR4bO8nxdeNKhiITm9kpJt212Tue8UUUVqesFFFFABRRRQAV%2BQv7Plynxb/4LtePvHE0TNcaB4k8VRl3XkRWkVrpSH6Z3qPxr9eq/N/8AZk%2BBSfC//grv8bZ31OG%2Bnh8O3N9czwxFRGda1ubVY4jn%2BJIWiQnuUJHFfP51QqV8fgEvhVVN/KLa/Jn1XBuEqSzPF5hb3cNgsbK/aVWlRw0Pv9vUR9oUV89fEX/gqt%2BwT8J/HWrfDT4gfHj7Breh30lnqll/wi%2BqS%2BROhwyb47VkbB7qSPesX/h8x/wTZ/6OP/8ALP1j/wCQ69qefZHTm4yxVNNaNc8dGvmdtDwu8S8VQhWo5Li5QmlKMlh6rTi0mmmoWaaaaa0aafU%2Bn6K%2Bevh1/wAFVv2Cfix460n4afD/AOPH2/W9cvo7PS7L/hF9Ui8%2BdzhU3yWqouT3Yge9eg/ta/Ezxr8G/wBmvxp8UPh1p9hda3omhS3OnRanO0cAkGBvYqjk7QSwXbhioUlQSw7MLjsFjoOeGqRmlo3Fp2e9tD5/POGuI%2BGa8KGcYOrhpzXNGNWnKm5K9rpTSbV9LrS%2Bh6drn/IavP8Ar6k/9CNVa%2BevHH7cXxD0OTxDcz/A7SGvrP4gXnhrTNOt/FOoXcuoz2sM013MkVlpM9x5SbI1UrC2dztJ5KoC/OeEP%2BCgfiz4halbJ8Kfg%2BdYk8R2sGoaRbeIfFcdhDaW7eG9N1jaWhsZXXIvTHg%2BcfMGdyo22PdSVkeLZn1RRXmN18ftTuv2VtU/ab0fwrCtr/wr8%2BJ9AsZLtpJZ4zpovFjmUIojbeTHhWcEANuBbauD%2Bzz4x%2BLVv8QfEvwn8cfEeXxlcWPgDw54lsdW1CwtLVhcai%2BqQy2wFpDGnkB9NV0LK0gEzBnfapqroR7tof8AyGrP/r6j/wDQhVWvjP4e/tF/tYXV7aeA9a1j4gf2oNM8Mar441AfDmBdU8NPPd3MOqQ6ZaLZsL6BHihWJ/Ju/k85lkuSvyUPCX7aPxk8V65Ade8SeL9H0HwXapN4k1yy8J6a4vIz4r1jRlm1aG42SQIYNGDuliFkR7uR9oSEKJ51cdj7bor5D%2BPP7QX7RPwG8ba/p1t4/wBU1q21jwvdTeGp7vQdMa0e%2Bm1jTLOA6UlrmZ1s4r9xPHfybppBC0WUExX3P9l/xtq/i7wZq2leJ/E3iHUdZ8O%2BI7jTNXj8W6ZYWupWUvlxXCQXH9nH7JKfJuIXWWDCtHImRuDZpSTdhWPSataP/wAfb/8AXrP/AOinqrVrR/8Aj7f/AK9Z/wD0U9D2Aq0UUUwCiiigC1p//Hpff9eo/wDRsdVataf/AMel9/16j/0bHVWkt2AUUUUwCrUP/IFuP%2BvqH/0GWqtWof8AkC3H/X1D/wCgy0mBVooopgFFFFAFqb/kC2//AF9Tf%2BgxVVq1N/yBbf8A6%2Bpv/QYqq0kAUUUUwCrWof8AHpY/9ep/9GyVVq1qH/HpY/8AXqf/AEbJSe6Aq0UUUwCu88Gf8i1bf8D/APQ2rg67zwZ/yLVt/wAD/wDQ2rGv8A47mpRRRXKWFFFFABRRRQAUUUUAFFFFABRRRQAUUUUAFFFFABRRRQAVxP7SHjL4jfDz4EeK/Hfwn0/RbnX9G0We9sY/EMkos18pS7vIIfnk2oGYRgp5jAJ5kYYyL21cz8Y/hq3xh%2BGmr/DNvHOs%2BHYdasntLvU9AS0N0sEilZEX7XBPENykqSYyQDlSpwQAcb45/aC8QeF/2c/D/wAQNH0Syv8Axn4v0uzi8MaH86QXWqXFr52G5Lrbwos1xKQSywW8hG5gAeG8N/Hz9prxpoHwK8WeHvE3gRG%2BKWmaNqGseG5fBl7JNbWhsY73VbiO7GpqIo1Q%2BTDugk2zXFurlwzGu8sf2QPhXqnww034T/GuNfijpujW6Q6NJ8Q/D2kXclgFjMQaIQ2UUav5ZC79hYhRzycz/CH9kz4VfBD/AIQSLwGL2C3%2BHfgG58JaBZ/uEha0uJLGWeeVYokBuHfT4WZ12qS0hK5YEAHG/sNftK/EP496BG/xi8VaLB4mn8O2eqXHg61%2BHGq6DcaaspdWYS6hdSjUIQ6mPzoFVAyEE5YKPZvHdrdXmkRxWltJKwuQSsaFjja3PFcj8KP2a9K%2BGHjWT4g6n8UvF/i/VE0NdF0u68XX1vO%2Bm6eJfNMEbwwRPMWYRl5rhppn8lN0hIJPVfEP/kCxf9fS/wDoLVdP40J7HL/2HrX/AEB7r/wHb/Cj%2Bw9a/wCgPdf%2BA7f4VVors1ILX9h61/0B7r/wHb/Cs7xZ8NNO8eeH7nwn438BRaxpd7H5d5p2p6YJ4Jl9GR1KsPqKnopSjzRcZJNM0pValCpGpTk4yi0002mmtU000009mmmujPmvVP8AglvrfwuL%2BJv2IPj/AON/hPdT3ks0nhiNTqvh9nIQ7jY3GdhY5BYMQAMKoxiq8fxH/wCCsHwbX7H8Sv2QPDfxRsoDhtc%2BHviA6dcNH2drW8Ul39VjwM9OK%2Bppv%2BQLb/8AX1N/6DFVWvHWS0aTvhKkqPlB%2B7/4BLmh9yiffrxHzTHRUM9w1DMF/NXh%2B%2B7f7xRlRrvT/n5Kr01Z8yD/AIKofBXwbOlh%2B0l8JPid8JrhmCM/jnwNcx2zMePkmgEgZc9GwBXqXgL9sb9lD4nxRv4D/aO8F6i8oGy1i8R26z/jCziRfxUV6Nc21veQPa3cCSxSKVkjkUMrA9QQeCK8r8b/ALCn7GnxFlkuvF/7MPgi4nmJMt1F4eggmc%2BpkiVXJ981Xss%2Bo/DVp1F/ejKD%2B%2BDkv/JUJ43wvzDWtg8VhJf9Oa1LEQ/8BxEKdRL/ALiS9T1yxsrzVLVL7TbSW4gkGY5oIy6MPUEcGr19o%2BrvbWappVyStsQwEDcHzXODx6EfnXydf/8ABJP9lfSbp9V%2BCWreOvhhqDncb3wD42u7Zi3YlZmlX8ABUt1%2Bxn%2B3V4XtrSPwB/wVG8RC3WA/Z7fxP8PNO1RwnmONrSuysx4zuxnmp%2Bu5vSdquFv5wnF/hPkYf6t8CY1c2Cz1U/7uJw1em/8AwKg8TB/JI%2Bo/7D1r/oD3X/gO3%2BFH9h61/wBAe6/8B2/wr5UPw%2B/4K5eDvn8PftCfB/xkF/g8VeFLvTi//gETg0o%2BJn/BWvSxsv8A9mT4T6qV4Z9M8Z3EAf3AmUkfjT/tdx/iYerH/uHzfjGUhf8AEP3W1wmbYCqv%2BwpU3/4DWo02vvPpXV/hVofiBmfXvhvaXxY/MbzR1lz9dymsK4/Za%2BDF0Sbr9nPwvIT18zwhbHP5xV4P/wANOf8ABSfQD/xUf/BNS01OMfeuNA%2BLWngj6Rypuaj/AIb1/aO07jxH/wAEz/inER97%2BzLq0vPy2sM1lLNcrk/3sJL/ABUan/yuRjPwq4gru9NYWt/gxeBn%2BdeL%2B9I911j9j39na4uVP/DLXgpx9niz/wAURaEZ8tc/8seuc596s6D%2BzR8JfCpB8Mfs/wDh3TSv3TYeFIIcf98RivCdS/4KeLp9wv8Awmv7Bv7ROjbYIlaaT4cedCMRqM70mOQcZ6dDVf8A4e8/sf6b/wAjwfG/hjH3/wC3/AV/Hs%2BvlxvURzTh2GrnTi/OPL/6VTj%2BZC8HuOea9DKJVH/06VCr93satR/gfUlr4Tu7Fdtl4akhHpFZlf5Cue8bfs7/AAz%2BJasvxG%2BBmha%2BHHz/ANteGYbrP182Nq8V0P8A4Kv/APBPPxDj7B%2B05o8e7p9usLy1/wDR0K4rsNE/bs/Ys8Q7Rpf7V/w8Zm%2B7HN4utInP/AZJAf0rsWZZNio8qrUpLtzQa%2B5v9Dgx3h5xthIuGMyfExXaWGrW/wDTMkeh%2BAvgh4L%2BFem/2N8MfhHpnh20wAbbQ9BjtIzj1WJFBrp9Y0fV5dXupYtKuWVrlyrLAxBG489K85sv2jf2etSx/Z3x48GT56eT4otHz%2BUlb998U/hjqms3Tab8RtBuA11JtMGsQvn5j6NXXSq4VJRpyjbsnG33JniSyXM8HDllhakEunspxS%2BXs4pfcb39h61/0B7r/wAB2/wqK78L32oW7Wt/4dlnib70c1oWU/UEYqnZ6npuorv0/UIJx6wyhh%2Bhqeuj4kcUouL5ZL7/APgloaHrQGBo91/4Dt/hVjSdE1QarbG40i48sXCFy9u2MbhnOR0rNqfSriC21a0muZkjQXUeXdgAPmHc0SvysEruyH/2HrX/AEB7r/wHb/Cq%2BqeDJdbtG0/WvCjXlu/34Lqx8xG%2BqsCDUcUsU6CSGVXU9GVsinUNXVmJpPRo898TfsKfsu%2BMrkX3if8AZI8FXs4cN583gq28wn3YRZYexODXaeEPhB4a%2BH2lf2D4C%2BF9joljjH2PSNES2ix6bI0A/Sr1FY08Lh6U3OFOKb6qKT%2B9JP8AE56eEwdGo506cYyfVRin96in%2BJ4v8Tf%2BCV/7G/xr8RnxN4x/Z3hsNQMcrT33hxrjSnusxtlZfsrRiTccAlgWPTPNbXwr/wCCe/7KvwVeG4%2BG/wCy14esbmAgw6hPof2q6QjuJ5w8o/76r1jR/wDj7f8A69Z//RT1VrmjlWWwrutGhBT78kb/AJf5HNHJ8ohXdeOHgpvryRv9/L/kWhoetAYGj3X/AIDt/hWP4n%2BEHhrxtc2154y%2BF1jq81k26zl1PREuGgb1QuhKn6Yq9RXdKCmrSSa81f8AM75QhOPLJXXnZ/ncsQeHNUtoVt7bQriONFCpGlqwVQOgAA4Fcp4x/ZR%2BBfxTe71D4o/s4eFfEF0YB5VzrnhG2upQ3mJkq8sZYHGehzjNdHVrT/8Aj0vv%2BvUf%2BjY6irRp1octSKkuzSa%2B5pompRoV4clSKkuzSa%2B5pr8DyHT/APgnN%2Bx9pWsxa/YfseeDY7qBt0Tf8IlCUU%2BuwptyOxxx2r1jTvCV1pFjFpmk%2BGZLW2gQJDb29kUSNR0CqoAA9hUdFTRwuHw1/Y04xvvaKX5JGdDB4PC39hTjC%2B/LGKv9yRJP4RubqdLq68MSSSxjEcklkSy/QkcV1Pw/sb2y%2B1/a7OWHd5e3zIyucbuma5Kuo%2BG3/L7/ANs//ZquqrQZ0xSTOoooorkLCua%2BM3iHxL4R%2BD/ivxX4Ms/tGsaZ4avrvSrfy9/m3Mdu7xLt/iy6qMd810tFAHxv4A1r4iaZ4B%2BKHgv4T/tA6jcPN%2BzdoPijRfF/jPxbLeQ6Zrt9BrStfm6umkFtC4tLWcouIIRGXWMK5B8/%2BIv7Qvxr8E/Cn4s/B3wx4f8Aiz4csUu1itvEE11f%2BLNW8Jwf2DFeXcT31i980MsrtB5LvOfJW/acOnlLCv254W%2BAfwL8DQzW/gr4LeEtHjuJp5rhNL8OWtuJZJkEczsI4xuaRFCsTyygA5Aq14S%2BEPwn8AeCpfhr4E%2BGHh3RPDk6yrNoGkaJBbWUglBEoaCNBGQ4J3ZHzZ5zQBT%2BAPiZvGfwM8HeLJJr%2BV9Q8MWM8kuq2s0FzI7QIWaRJ1WRWJyTvAJznvXyp%2ByzHB4x/wCCgH7VXxHlv4Y1bxR4f0OEyhzj7DppjcDapx8zAn3r7UsbGy0uyh0zTLOK3treJYre3gjCJEijCqqjhQAAABwAK%2BLP2AdFurfxD%2B0D4n1AlptW/aR8V%2BXIR1ggnS3RfwMbCvPxEXPNMJHonOX3U7L/ANKPvOGakMNwdn9a/vSpYakvSpi1KX4UEfSX9n2n/Qctf%2B%2BJf/iKP7PtP%2Bg5a/8AfEv/AMRXzf8AEX/goP8A8K78d6t4G/4Yg/aG13%2Byb6S2/tjw58NPtVhebDjzYJfPXzIz1DYGR2rF/wCHnX/WPX9qD/w03/3TXVPO8rhNxlV1Wnwz/wDlb/M/J58QZPTm4Sq6rR%2B7U6elJ/mz6q/s%2B0/6Dlr/AN8S/wDxFZHxA%2BGfgn4o%2BCNW%2BHPjqe1vtG1ywlstTtBLcxGWGRSrKJI1V0ODwyMGU4IIIBrwb4df8FB/%2BFieO9J8Df8ADEH7Q2hf2tfR239seI/hp9lsLPecebPL57eXGOpbBwO1eqftCeO/Ffwt%2BC/iH4m%2BDNKt7678O2P9pz2NxC8n2i0gZZbqONUZT5zW6TCPkgSFCVYAqevDYzDY2DlRnzJaPRr/ANKjH8mduDx%2BEx8HLDy5knZ6SWv/AG9GP5P1I/Ef7HX7PeoONMu9NnC2fiG81WOY%2BJdWF011cIYrgyzrL5kyyp8skbu0cn8St1ql8Ov2K/2afhQ9lJ4E8ORWbadAYbJpda1O4MMRsYLDYPOd/lFrbQRKvRVjG3ByT4N8dv8Agoh8V/DUXiH4i/DjQNC1bQdNvNZ1aOJNM8wzaDaagmnxXD3Muo26R/abiG9aKSGO5Zo3gxbtgtJkeBP2ovjLo3xAvfhvoerWdzqGtePdY0vTdb8UTX19Dp6P408QWyB7cXUaPHHbWSQxIpjbJiTzNiqg2TVkdup9e%2BDPg/8AD3wB4Oh%2BH3hmaFNEt9Ng0%2BDTLy8vLqGK1ht0to4VWfftTyo1BA%2B8dzNuZmY4/wANf2Y/gz8IbZrb4ftPZh5rd3lm8QapcyukETRQW7STu7m2jR2CWxPkpuJVAea4b9hfxN8Q/GvwSPijx14zttYkk8YeK4HmjWaQl4fEuqRJ5U0kzf6MsKRRxRbfkSNQGIwo4D9lLxn4x1H4o%2BBNW1Lx7rup3XjzwX4s1Txnpepa3Pc21lfWWsafDCsEEjtHZCA3Nza%2BXCsYcKN4Zo9wrsI9p8KfsUfs36JpsnhLSdIuIrW%2ButOJkh8UauLy2WylL2cNpdGXzrKKBnfyooJI44/McKqh2yl5%2Bxv%2BzjfWeiadL4fhS20C2it7O2t9X1KKO5ijnFwiXiowF%2BonzLi5EoMjyOctI5bxD4W3XxHvf2rrH4c%2BOdf8T3lh4q1jxkNc1nT/AIlSfYJtPtdSiNl9hitLsS6ZLZo8NlOUS2YSu4Yzs3mLlReDV8RfsjaJ4t074j/EWDWPip4njfwFIPinr4m0i11d4UtX3fbd832bToVvGhlZ0Ey3G0KJWBnqB9BWv7GP7N1peatdp4ehkGs2V7aXFtc6xqUtvaw3k63F0lpC7mOxEsyJK32ZYiXjRuqKR1Pw2%2BDvw%2B%2BEuhz6B4HuxDFd30l5e3F/qN7fXV3cOFDSzXFz5k0z7VRdzuxCoqjCqAPI9K%2BH%2Bmj9saw0fwr408aJD4P8JrrPiO3vfH%2BrXVrfTXxuLGxie1muXt2RUtb%2BZx5YPmrbOCCDn3OrSAtf2faf9By1/wC%2BJf8A4irOlWNqtyxXWLZv9GmGAsv/ADybnlO3WsyrWj/8fb/9es//AKKehp23EH9n2n/Qctf%2B%2BJf/AIij%2Bz7T/oOWv/fEv/xFVaKdn3Atf2faf9By1/74l/8AiKP7PtP%2Bg5a/98S//EVVoos%2B4GnY2NqtteAaxbHNsASFl%2BX96nJ%2BT8OPWq39n2n/AEHLX/viX/4ijT/%2BPS%2B/69R/6NjqrSSd3qBa/s%2B0/wCg5a/98S//ABFH9n2n/Qctf%2B%2BJf/iKq0U7PuBa/s%2B0/wCg5a/98S//ABFWYrG1GkTp/bFsQbmIltsuB8snH3M//qrMq1D/AMgW4/6%2Bof8A0GWk0%2B4B/Z9p/wBBy1/74l/%2BIo/s%2B0/6Dlr/AN8S/wDxFVaKdn3Atf2faf8AQctf%2B%2BJf/iKP7PtP%2Bg5a/wDfEv8A8RVWiiz7gactjanSIE/ti2AFzKQ22XB%2BWPj7mf8A9dVv7PtP%2Bg5a/wDfEv8A8RRN/wAgW3/6%2Bpv/AEGKqtJJ9wLX9n2n/Qctf%2B%2BJf/iKP7PtP%2Bg5a/8AfEv/AMRVWinZ9wLX9n2n/Qctf%2B%2BJf/iKs31jatbWYOsWwxbEAlZfm/evyPk/Dn0rMq1qH/HpY/8AXqf/AEbJSad1qAf2faf9By1/74l/%2BIo/s%2B0/6Dlr/wB8S/8AxFVaKdn3Atf2faf9By1/74l/%2BIrtfCUaReH7eOOdJAN%2BHQHB%2BdvUA/pXAV3ngz/kWrb/AIH/AOhtWNa/KVHc1KKKK5igooooAKKKKACiiigAooooAKKKKACiiigAooooAKKKKACiiigAooooAKwfiH/yBYv%2Bvpf/AEFq3qoeItE/t6yWz%2B1eVtlD7tm7OARjqPWqg0ppsT2PPqK6j/hW3/Ua/wDJb/7Kj/hW3/Ua/wDJb/7Kur2tPuTZnL0V1H/Ctv8AqNf%2BS3/2VH/Ctv8AqNf%2BS3/2VHtafcLMwZv%2BQLb/APX1N/6DFVWutfwBvso7P%2B1v9XK77vI67gox97/Z/Wov%2BFbf9Rr/AMlv/sqSqw7hZnL0V1H/AArb/qNf%2BS3/ANlR/wAK2/6jX/kt/wDZU/a0%2B4WZy9WtQ/49LH/r1P8A6Nkre/4Vt/1Gv/Jb/wCyqW48AefFBF/a2PJiKZ8jr87Nn73H3sfhSdWF9wszkqK6j/hW3/Ua/wDJb/7Kj/hW3/Ua/wDJb/7Kn7Wn3CzOXorqP%2BFbf9Rr/wAlv/sqP%2BFbf9Rr/wAlv/sqPa0%2B4WZg6x/x9p/16wf%2BikqrXW3ngD7XKJf7W24iRMeRn7qBc/e9s1F/wrb/AKjX/kt/9lSVWFtwszz7Xfhz8PfFGf8AhJfAmjaju%2B99u0uKbP8A32prjtb/AGNP2RPEeTrn7Lfw8umbrJL4MsS//fXlZH517l/wrb/qNf8Akt/9lR/wrb/qNf8Akt/9lWNSlga38SEZesU/ziz1MJneeZfb6ri6tP8AwVakP/SakT5qvf8Agm7%2Bwff58/8AZU8Grn/njpKx/wDoGKpeI/8AglL/AME9J9VuoD%2By9oSItw6qsFxdR4AY8fJKK%2Bov%2BFbf9Rr/AMlv/sqlvvAH229mvP7W2%2BbKz7fIzjJzj71cksrySb1w9P8A8Aj/APInuUvELxAofw83xS9MRX/%2BWs%2BObz/gjv8A8E5L1vMb9nGOJ%2BzW3ifVY8f983QFQf8ADnv9hiD/AJBPgjxFYen2PxxqYx/31Oa%2ByP8AhW3/AFGv/Jb/AOyo/wCFbf8AUa/8lv8A7KsnknD7/wCYan/4Al%2BSR3x8VfE%2BKt/bWKa869SX/pTkfG//AA6M/ZNTi11Px/APSL4gXw/m5q1of/BHH/gn7e6za/8ACUfCLU9cdrhFaXV/GWqSMQSAfu3Cj9K%2Bvv8AhW3/AFGv/Jb/AOyqWx8AfYr2G8/tbd5Uqvt8jGcHOPvUnkmQW/3eD9Y3/O6H/wARW8TumcYlecari/viov8AE%2BNJf%2BCN/wDwTqLmWy%2BAk9o56va%2BL9WU/wDpURTf%2BHPn7D0f/Hl4R8TW3oIPHOpDH5zmvsj/AIVt/wBRr/yW/wDsqP8AhW3/AFGv/Jb/AOyp/wBicPf9A1P/AMAS/KwLxW8ULa51in615y/9Kcj43/4dB/sY9tL8Yf8Aheaj/wDHaP8Ahz/%2BxKeZPDPilz2ZvHWpZH/kavsj/hW3/Ua/8lv/ALKj/hW3/Ua/8lv/ALKl/YnD/wD0Dw/8BD/iK3id/wBDjE/%2BDX/8ifH%2Bm/8ABIT9kI3DR2c/ju0UW8rAW3j%2B/XpGxHWQ%2BlVz/wAEj/2WD8r%2BIviKy90PxBvcH/x%2Bvs2z8AfZJTL/AGtuzE6Y8jH3kK5%2B975qL/hW3/Ua/wDJb/7Kj%2BxMgv8A7vD7n/mP/iK3iZ/0N6//AIGn%2BdNnxv8A8OfP2HZf3l74P8S3Mw%2B5cz%2BOdSLofUETgZ/Cj/h1B8DtP48HfG74x%2BHU7R6L8SLlAP8AvsPX2R/wrb/qNf8Akt/9lR/wrb/qNf8Akt/9lR/YmQdKEF6Jr8U0/wAQ/wCIreJb%2BPNq8l2lNTX/AIDOnOP3RR8b/wDDr/TV/dw/t4ftKxwH79svxVOxh6H/AEfNWLP/AIJN/A69t7qfXfjj8ZdSnjtwyXN98SrkuD5iD%2BEKO/pX2B/wrb/qNf8Akt/9lUtv4A8iKeL%2B1s%2BdEEz5HT51bP3ufu4/Gh5Lkdv4Sfq5v85sP%2BIqeIi%2BHMZx/wAMKEX83DDQb%2BbZ8Zf8OqvhVb86P%2B0p8cdOP8LWXxMnUj6bkNH/AA7Mu7f93pn/AAUG/aTgi/55t8TA%2BPoTb8V9kf8ACtv%2Bo1/5Lf8A2VH/AArb/qNf%2BS3/ANlR/YuR9KSXo5r8qiF/xFPxCfx4%2BUv8VPDz/wDS8LL8z43b/gl/pV/%2B68T/ALc37Rur2x%2B/ZX3xQPkv9QsAP617x%2BxL%2ByD8HP2Vv%2BEmn%2BFsetSXXiH7F/bF9rmvXF9LceR5/lcysQuPOk%2B6BndznAx6h/wrb/qNf%2BS3/wBlWp4b8N/8I953%2Bm%2Bd523/AJZ7cYz7n1q6eV5Th5%2B0pU0prZ%2B82vRylK2hwZpx/wAaZ1gZ4LGY2UqM7c0EqUIys01zRpUaSlZpNXvqk%2BhqUUUV0nyIUUUUAFFFFABXjPhf4QeFfgvda9oXhOW6kj1nxVqfiC9kvJFZzd6hdSXkwG1VARXmKoMZCKoJY5Y%2BzVg614J/tfU5dR/tPy/M2/J5OcYUDruHpVU401VU5LVXs%2B17X%2B%2BxvHFYmnhp4eE2oTcXJdJcjbjf/C5NrzbONorqP%2BFbf9Rr/wAlv/sqP%2BFbf9Rr/wAlv/sq6va0%2B5y2Zy9MngguoHtrmFJI5EKyRyKCrKRggg9QR2rq/wDhW3/Ua/8AJb/7Kj/hW3/Ua/8AJb/7Kj2tPuFmeW%2BK/wBm/wDZ31U2vhvVPgL4LudO0CzuNK0KwuPC1o8OnWDr5T2sCGPbDC0YCGNAFKgAjHFRT/s%2B/AW50W58NXPwR8ISadeR7LvT38NWpgnX7S93tdDHtYfaZJJ8Ef612f7xJr1y%2B8Afbb2a8/tbb5srPt8jOMnOPvVF/wAK2/6jX/kt/wDZUlUp2CzPPfCfw4%2BHngGFbfwL4D0XRY0jeNE0nS4bYKjzSTuoEajAaaWWUju8jseWJNSy%2BDXwf03U9Y1rTvhT4at7zxDKkviC7h0K3SXU3V96tcMEzMQxLAuSQTnrXpv/AArb/qNf%2BS3/ANlR/wAK2/6jX/kt/wDZU/a0%2B4WZwXg/4U/C7QvH934z0T4baBZ6x4gniTXtWtdHgjudSUEAC4lVQ8wxxhyaWLwP4Kg07SNIh8H6Wlp4feNtBtV0%2BMR6a0cTQxm3XbiErE7RrsxhGKjgkV6DY%2BAPsV7Def2tu8qVX2%2BRjODnH3qi/wCFbf8AUa/8lv8A7Kl7SnfcLM4y28P6DZ61deJLPRLSLUb%2BGGG%2Bv47ZVmuI4i5iR3A3OqGSTaCSF8xsY3HNuuo/4Vt/1Gv/ACW/%2Byo/4Vt/1Gv/ACW/%2Byp%2B1p9wszl6taP/AMfb/wDXrP8A%2Binre/4Vt/1Gv/Jb/wCyqWz8AfZJTL/a27MTpjyMfeQrn73vmk6sLbhZnJUV1H/Ctv8AqNf%2BS3/2VH/Ctv8AqNf%2BS3/2VP2tPuFmcvRXUf8ACtv%2Bo1/5Lf8A2VH/AArb/qNf%2BS3/ANlR7Wn3CzMHT/8Aj0vv%2BvUf%2BjY6q11tv4A8iKeL%2B1s%2BdEEz5HT51bP3ufu4/Gov%2BFbf9Rr/AMlv/sqSqwvuFmcvRXUf8K2/6jX/AJLf/ZUf8K2/6jX/AJLf/ZU/a0%2B4WZy9Wof%2BQLcf9fUP/oMtb3/Ctv8AqNf%2BS3/2VSp4A2WUln/a3%2BslR93kdNoYY%2B9/tfpSdWHcLM5Kiuo/4Vt/1Gv/ACW/%2Byo/4Vt/1Gv/ACW/%2Byp%2B1p9wszl6K6j/AIVt/wBRr/yW/wDsqP8AhW3/AFGv/Jb/AOyo9rT7hZmDN/yBbf8A6%2Bpv/QYqq11r%2BAN9lHZ/2t/q5Xfd5HXcFGPvf7P61F/wrb/qNf8Akt/9lSVWHcLM5eiuo/4Vt/1Gv/Jb/wCyo/4Vt/1Gv/Jb/wCyp%2B1p9wszl6tah/x6WP8A16n/ANGyVvf8K2/6jX/kt/8AZVLceAPPigi/tbHkxFM%2BR1%2Bdmz97j72PwpOrC%2B4WZyVFdR/wrb/qNf8Akt/9lR/wrb/qNf8Akt/9lT9rT7hZnL13ngz/AJFq2/4H/wChtWX/AMK2/wCo1/5Lf/ZVvaLpv9kaZFp3neZ5e759uM5Ynpk%2BtZ1ZxlGyGk0y1RRRXOUFFFFABRRRQAUUUUAFFFFABRRRQAUUUUAFFFFABRRRQAUUUUAFFFFABXz38WP2o/ip4O%2BLOux%2BG7Hw8fB/gvxP4T0HxHaX1hO%2Bo38%2BtXdvA01vOs6x26W6XltJtaGUzFZUzH8rV9CV5b47/ZM8B%2BP/AIpj4nal4p8QWsVxfaPfa34asri3XTtYu9KuPtGn3FwHhaYPDKI2/dSxrJ5ESyCRUAoA9SooooAKKKKAPn/4c/tK/EPXf2qvEXwj%2BIHirRdE0q28WXOk%2BE9Gn%2BHGqxT62kWmQXm6LWZLr7FJMC1w5gSIyeVbOcAKzj6Arze6/Zr0rVPjBp/xY8Q/FLxfqlvo2uS6zoXhPUL%2B3k0zTdQkspLJp4v3AuceTPcBYXnaFGnZljBCFfSKACiiigDif2kPGXxG%2BHnwI8V%2BO/hPp%2Bi3Ov6Nos97Yx%2BIZJRZr5Sl3eQQ/PJtQMwjBTzGATzIwxkXxXw5%2B2T8ZNc1yDxdJpfhiPwlpnjTwr4Q8RacNOuDqFxqGs6bpl0Lu3uPtHlxQxyazZJ5LxSMyxzHzV%2BUV718Y/hq3xh%2BGmr/AAzbxzrPh2HWrJ7S71PQEtDdLBIpWRF%2B1wTxDcpKkmMkA5UqcEeZeBP2DPAvgnWdJ1O6%2BLnjbW7fTtRsNTvdK1WbTltdX1Kxt1trK%2BuVtrKJjLDBFaxqImjjb7FbtIjuhdgD3OiiigAryz9sT4sfFX4JfBmT4jfCfSdAurmy1ixTVD4hacxxWUtwkUhijhKmWUl1VQzoq7i5L7BFJ6nXA/tHfAWD9o/4cyfDLUfif4k8L2NxdQzXk/hhLAzXAikWRI2N7a3CqodEb5FViVA3YJBAPPfgZ%2B0r8Q/G/wAf/EHw2%2BJninRdIig8Sa3p/hrw2/w41WzuNRtrObak0WrT3RtLt/KxK8UMW4K27CqpNfQFeV%2BEf2WbbQviFpHxE8X/ABx8d%2BMZvD9xd3eh2Hii8sXt7K9uYWhnuk%2Bz2kMhZkknVY2cwxLO6RRxoEVPVKACiiigDxj9sz4vfHH4HeBJviR8LW8INZ6bp0zjSdes7q5v/Eeqs8SWOjWSQyxLDLcuzxidjMVdo/3DLuIw/wBlH9qP4qfGDXPCEnxIsfDy6b8TvhcvjzwdFolhPBPpdn5tqDZ3byzyrcyiLUbM%2BdGsKllmHl42mu2%2BMv7NKfF/4k%2BGfilB8afF3hnUfCVreRaPDoUGkz26SXIRZLkx6hY3IFwI0MSyrtZY5ZkGBK%2B6L4GfsmeA/gJria14e8VeINVTT9AXQfDFjrdxbvD4e0hZfNFhaCGCNvKyIl3TNLJtt4V34QCgD1KiiigAr5y/bo/aK/aV/Zv0pvGXwr03wZq0E/2Wz8O%2BDrrTb271nxBdu0jXkkZhniWCK0tl%2B1MoSYypBMpaAlGr6NryT4i/slwfED4yXfxpg%2BPnjzQb688Nx6C9joUmlrFBYiR5JUt5ZrGS6tHmZwZJIJo5GMMJDAwxlQBf2SPjV4g%2BMfhS%2Bm8a%2BPdJ1TXbA2p1LS7D4f6n4bn0zzoFkVZbbUriaaRW%2BYpOu2Nwp27tpNetVwfwe%2BA1h8Jta1zxdqHxE8R%2BLvEHiGOzh1PxB4oe0%2B0Pb2qyLb26rZ29vCqIZp34j3M0zlmbIx3lABRRRQB8pftb/tiftE/s2/GHw54GsdP8IXlr488U2OgeF7a78OamiWBvpo7O2vJ9SaZLa8lW7fdJpdui3At90wkCRs59n/Zz%2BJ/jX4gWXizwx8SRpcniDwR4xn0HVL7RLOS2tL3FtbXkM8cMsszw5t7yEMhlkw6vhiMVyfxX/YL%2BHnxm8R/2x40%2BKnjp7G18Tf8ACTaBoMWq232XQ9eEJii1O1Z7Zp1kiLPIkUkslssjlvJ6Y9F%2BDnwf0X4NeHr7SNO8QaprN7q%2BsXGq65rutvCbvUrybaGlk8iKKJcIkcarHGiqkSKF4oA62iiigAr43%2BOH7Z37W/wo/aA074IR2nhWX%2B1bpp7y9sfhX4g1E6LZeYPK8iOO5jk18mOSISz2axx2su2OVd08YH2RXhsn7DOlJ4usfHOmftJfFCz1LQY76DwjPFq9hJ/YVreXEc91axiaycXcUhhgXbffaiiwx%2BWUZQ1AHpnwa8b2nxI%2BF2i%2BN7LxlpviBNQshI2saRpktlb3DglX2280ksluQwZWikdnRlZWwQQOmrmvhD8K/DfwV%2BHlh8N/CtxeT2ti08sl5qMwkuLu4nme4uLiVlVVMks0skjbVVdznaqjAHS0AFFFFABRRRQAUUUUAFFFFAGJ8SvG9j8M/hzr/wASNTtZJ7bw/ol3qVxDEcNIkELSso9yEIFeY/szfGz4xeMvG2ofDX43x%2BG5NUTwLoHiuyuvC%2Bn3FtDFDqT30T2TrPPMZHgksj%2B/BQSrMv7qMqc%2Bv65ouleJNFvPDuu2Md1Y39rJbXltKMrNE6lXQ%2BxUkH61wPwF/Zm8MfAS6vdVsfG/iTxJqN5o2m6Mmp%2BJ7m3lnt9LsBP9jskMEEIKRm5uG3uHmdpmMkjnGAD0iiiigArgf2pfiN44%2BEX7OnjP4nfDTR4L/X9D8P3F5pFndafNdxyzouVDQwOkkoz/AAIysegIrvqyvHPhUeOPCGo%2BEv8AhI9V0g6hatCmq6He/Z7y0Y/dlhkwQrqcEZDKcYZWUkEA5L9m74oXfxS8G6he6v8AEHTNf1LS9aksNT/s/wAEX/h2SwlEUUgt57DUJ5riKXZKkoLlQ8c0bKu0hm9CrjPg38FdK%2BDsOvXSeL9a8Rav4o1oar4h8QeIGtvtV7cLbQWkeVtYYYI1SC2gjVY4kGE3HLszN2dABRRRQB8%2B/te/tXfE79l/xlFrg8KaFf8Agq2%2BHHibxBfK00x1O6u9KsXvPJjIxFBFsVV3ESs5lPEQjzL1vwE%2BJvxb1T4i%2BLvgp8cZ/Dl5r/hnTdI1RdU8K6ZPZ2k1rqC3KrGYZ553Ekc1lcgv5mHQxnahyKr/AB8/Y/8ADv7RfjbTfFHjj4seLLfS7DSr3TJ/CWnx6X/Z1/aXsXk3sMxmspLkieH92xSZCq8xlG%2Bauh%2BCvwC0n4M3Osa1L498ReK9b137KmpeIfFU9s93JBbReVb2/wDo0EMYjjDSMPk3M80jMzMxNAHeUUUUAFfM/wC0n%2B1J%2B0n8JfiN428J%2BEvC3hiax0zwdpOreFXXR7/VbxzPqsNlczXMFvJE0ioskrLbw/NiEOZT5hjj%2BmK8d8d/sh3Pjj4xX3xoi/ab%2BJOiX13o0emRafoM2kQW9pbxzCeNY2bT2nOJwJCJJXWTmOQPCzREA6f9nb4lS/FL4eHXr3x7pviC9ttSuLPUZ9N8JXuhG1njbBt5rC%2BmluLeVQVysjAkMrBQGGe7rkPg38G9G%2BDOjapZWXiXVtc1DXdbm1fXte114Dd6jeSJHF5ji3iihTbFDDEqxxooSJeM5J6%2BgAooooA%2BUPiJ%2B1Z%2B1b4O/ap8J/st2cvw5uNQ8f31/HbX1not/dReC44Y7m8s11A/a4jfy3tjY3zRqgtNktq/%2BsTDH3T9mr4q6z8Zvg5p3jjxNp1ra6st7qGmaxFYbvs5vbC%2Bnsbh4g5LCJpbaRkDEkKygkkZPn2m/sC6Npd9darbftIfEX7ZJ4wufFVjfNFoX2iw1ifzEe7SX%2By98xFrNNZLHcGaNbWTygnyRFPWfhL8L/DXwZ%2BHemfDTwk91JZaZEwFzfTCS4upXdpZriVwAGllld5HIABZ2IAHFAHR0UUUAR3TXKWsj2UKSTCMmGOWQorNjgFgCVBPfBx6HpXxb4o/bc/a28FfHF/g/wCK9Z8CLpWlaOLrxX478M/CjX9esNI1HyTLNozQ2l8JDJbx%2BTM92xRTHdR7oYSrZ%2B0NRtJb/T57GDUJrR5oWjS6ttvmQkggOu9WXcOo3KRkcgjivCPBv7B0/gHwBZfDbwt%2B2B8WrTTbCyntIhDLoKNLHPk3LzbNKAuJ5XPmtcyh7gSb2WVDLN5gB7h4b1a01/w7Ya7p%2BsWmowXtlFPBqFh/qLpHQMJY/mb5GBDL8zcEcnrV2szwT4O8O/DvwZpHw/8ACGni00nQtMt9P0u0VywhtoY1jjTLEk4RVGSc8Vp0AFZXjc%2BNh4R1EfDddKOvG1YaSdbaQWizkYVphEN7IDyVXBbGNy53DVrE%2BJHgTT/ib4G1PwHqer6np8WpWxi/tDRr0293avkMksMgztdWCsMgqSMMGBIIB8eeGv8Agol%2B0Rrdz8VZ4rHwhLp3wP0%2Bz1nxXNe%2BDtT0u%2B1/Trh5z5cVhc3nn6LcRx2N7gXQnMwNrKsaxzA19vV89/8ADub4ZXPiXxB4w1v4ueO9R1PxvcWrfEi5ubvTkHi%2BC2EK21reJFZIkcMUcPlKLVbdmSWUOzmRifoSgAooooA5b4zap8RdF%2BH17q/wwuNLg1G12zTXWraNeakkFqh3ztHZWRWe8m8tWEcEbozuVAOflb5i/ZU/by%2BM/wAZviKmmfFrX/C/hjRn8QrpGkIvwx1kDXZMSqP%2BJi96bbTLmR4yPsFwrzwyB7d90qNX1B8VvhpF8U/DUOhL4013w7dWmowX2n614cuo4rq1nibcpAmjkhlUjcrRyxyIysQVzgjzTwf%2Bwj4L8I3lhG/xm8f6rpFr4r/4Sm98OavqdnLZajrpupLxtQk22qyxMbt/tBgt5IbbzEUiEfMGAPcaKKKACiiigAooooAKKKKACiiigAooooAKKKKACiiigAooooAKKKKACiiigAooooAKKKKACiiigAooooAKKKKACiiigAooooAKKKKACiiigAooooAKKKKACiiigAooooAKKKKACiiigAooooAKKKKACiiigAooooAKKKKACiiigAooooAKKKKACiiigAooooAKKKKACiiigAooooAKKKKACiiigAooooAKKKKACiiigAooooAKKKKACiiigAooooAKKKKACiiigAooooAKKKKACiiigAooooAKKKKACiiigAooooAKKKKACiiigAooooAKKKKAP//Z\">"
            ]
          },
          "metadata": {
            "tags": []
          }
        }
      ]
    },
    {
      "metadata": {
        "id": "ne6lXSNcBbdp",
        "colab_type": "text"
      },
      "cell_type": "markdown",
      "source": [
        "# Submit a 2-layer MLP\n",
        "Run these cells after training a 2-layer MLP"
      ]
    },
    {
      "metadata": {
        "id": "v0KVEXeyBbdr",
        "colab_type": "code",
        "colab": {}
      },
      "cell_type": "code",
      "source": [
        "## GRADED PART, DO NOT CHANGE!\n",
        "# Validation loss for MLP\n",
        "grader.set_answer(\"i8bgs\", s.run(loss, {input_X: X_val_flat, input_y: y_val_oh}))\n",
        "# Validation accuracy for MLP\n",
        "grader.set_answer(\"rE763\", accuracy_score(y_val, s.run(classes, {input_X: X_val_flat})))"
      ],
      "execution_count": 0,
      "outputs": []
    },
    {
      "metadata": {
        "id": "DoyfZqLFBbdt",
        "colab_type": "code",
        "colab": {
          "base_uri": "https://localhost:8080/",
          "height": 34
        },
        "outputId": "562c2c57-46bf-4385-f6b2-ee36faf6c5ac"
      },
      "cell_type": "code",
      "source": [
        "# you can make submission with answers so far to check yourself at this stage\n",
        "grader.submit(COURSERA_EMAIL, COURSERA_TOKEN)"
      ],
      "execution_count": 160,
      "outputs": [
        {
          "output_type": "stream",
          "text": [
            "Submitted to Coursera platform. See results on assignment page!\n"
          ],
          "name": "stdout"
        }
      ]
    },
    {
      "metadata": {
        "id": "TUrSq_gsBbdz",
        "colab_type": "code",
        "colab": {}
      },
      "cell_type": "code",
      "source": [
        ""
      ],
      "execution_count": 0,
      "outputs": []
    }
  ]
}